{
  "cells": [
    {
      "cell_type": "markdown",
      "id": "abdaed11",
      "metadata": {
        "id": "abdaed11"
      },
      "source": [
        "# Темы семинара: отбор признаков и приложения\n",
        "\n",
        "- Фильтрационные методы\n",
        "- Оберточные методы\n",
        "- Встроенные методы\n",
        "- Нелинейные классификаторы\n",
        "- Сохранение модели"
      ]
    },
    {
      "cell_type": "code",
      "execution_count": 1,
      "id": "b943fa0e",
      "metadata": {
        "id": "b943fa0e"
      },
      "outputs": [],
      "source": [
        "import numpy as np\n",
        "import pandas as pd"
      ]
    },
    {
      "cell_type": "code",
      "execution_count": 2,
      "id": "anV6ALa0n8YA",
      "metadata": {
        "id": "anV6ALa0n8YA"
      },
      "outputs": [],
      "source": [
        "POKEMON = \"https://raw.githubusercontent.com/KSTSV/DA_9_machine_learning/refs/heads/main/lec_sem_7/Pokemon.csv\""
      ]
    },
    {
      "cell_type": "code",
      "execution_count": 3,
      "id": "11596569",
      "metadata": {
        "ExecuteTime": {
          "end_time": "2021-10-24T20:18:13.744445Z",
          "start_time": "2021-10-24T20:18:13.737712Z"
        },
        "id": "11596569"
      },
      "outputs": [],
      "source": [
        "data = pd.read_csv(POKEMON)"
      ]
    },
    {
      "cell_type": "code",
      "execution_count": 4,
      "id": "536a5bf6",
      "metadata": {
        "ExecuteTime": {
          "end_time": "2021-10-24T20:18:14.174945Z",
          "start_time": "2021-10-24T20:18:14.154295Z"
        },
        "colab": {
          "base_uri": "https://localhost:8080/",
          "height": 204
        },
        "id": "536a5bf6",
        "outputId": "1a3f541f-ce15-48ad-8195-c1a265179101"
      },
      "outputs": [
        {
          "output_type": "execute_result",
          "data": {
            "text/plain": [
              "   #                   Name Type 1  Type 2  Total  HP  Attack  Defense  \\\n",
              "0  1              Bulbasaur  Grass  Poison    318  45      49       49   \n",
              "1  2                Ivysaur  Grass  Poison    405  60      62       63   \n",
              "2  3               Venusaur  Grass  Poison    525  80      82       83   \n",
              "3  3  VenusaurMega Venusaur  Grass  Poison    625  80     100      123   \n",
              "4  4             Charmander   Fire     NaN    309  39      52       43   \n",
              "\n",
              "   Sp. Atk  Sp. Def  Speed  Generation  Legendary  \n",
              "0       65       65     45           1      False  \n",
              "1       80       80     60           1      False  \n",
              "2      100      100     80           1      False  \n",
              "3      122      120     80           1      False  \n",
              "4       60       50     65           1      False  "
            ],
            "text/html": [
              "\n",
              "  <div id=\"df-c42e42cc-019d-4365-a781-ab6908799448\" class=\"colab-df-container\">\n",
              "    <div>\n",
              "<style scoped>\n",
              "    .dataframe tbody tr th:only-of-type {\n",
              "        vertical-align: middle;\n",
              "    }\n",
              "\n",
              "    .dataframe tbody tr th {\n",
              "        vertical-align: top;\n",
              "    }\n",
              "\n",
              "    .dataframe thead th {\n",
              "        text-align: right;\n",
              "    }\n",
              "</style>\n",
              "<table border=\"1\" class=\"dataframe\">\n",
              "  <thead>\n",
              "    <tr style=\"text-align: right;\">\n",
              "      <th></th>\n",
              "      <th>#</th>\n",
              "      <th>Name</th>\n",
              "      <th>Type 1</th>\n",
              "      <th>Type 2</th>\n",
              "      <th>Total</th>\n",
              "      <th>HP</th>\n",
              "      <th>Attack</th>\n",
              "      <th>Defense</th>\n",
              "      <th>Sp. Atk</th>\n",
              "      <th>Sp. Def</th>\n",
              "      <th>Speed</th>\n",
              "      <th>Generation</th>\n",
              "      <th>Legendary</th>\n",
              "    </tr>\n",
              "  </thead>\n",
              "  <tbody>\n",
              "    <tr>\n",
              "      <th>0</th>\n",
              "      <td>1</td>\n",
              "      <td>Bulbasaur</td>\n",
              "      <td>Grass</td>\n",
              "      <td>Poison</td>\n",
              "      <td>318</td>\n",
              "      <td>45</td>\n",
              "      <td>49</td>\n",
              "      <td>49</td>\n",
              "      <td>65</td>\n",
              "      <td>65</td>\n",
              "      <td>45</td>\n",
              "      <td>1</td>\n",
              "      <td>False</td>\n",
              "    </tr>\n",
              "    <tr>\n",
              "      <th>1</th>\n",
              "      <td>2</td>\n",
              "      <td>Ivysaur</td>\n",
              "      <td>Grass</td>\n",
              "      <td>Poison</td>\n",
              "      <td>405</td>\n",
              "      <td>60</td>\n",
              "      <td>62</td>\n",
              "      <td>63</td>\n",
              "      <td>80</td>\n",
              "      <td>80</td>\n",
              "      <td>60</td>\n",
              "      <td>1</td>\n",
              "      <td>False</td>\n",
              "    </tr>\n",
              "    <tr>\n",
              "      <th>2</th>\n",
              "      <td>3</td>\n",
              "      <td>Venusaur</td>\n",
              "      <td>Grass</td>\n",
              "      <td>Poison</td>\n",
              "      <td>525</td>\n",
              "      <td>80</td>\n",
              "      <td>82</td>\n",
              "      <td>83</td>\n",
              "      <td>100</td>\n",
              "      <td>100</td>\n",
              "      <td>80</td>\n",
              "      <td>1</td>\n",
              "      <td>False</td>\n",
              "    </tr>\n",
              "    <tr>\n",
              "      <th>3</th>\n",
              "      <td>3</td>\n",
              "      <td>VenusaurMega Venusaur</td>\n",
              "      <td>Grass</td>\n",
              "      <td>Poison</td>\n",
              "      <td>625</td>\n",
              "      <td>80</td>\n",
              "      <td>100</td>\n",
              "      <td>123</td>\n",
              "      <td>122</td>\n",
              "      <td>120</td>\n",
              "      <td>80</td>\n",
              "      <td>1</td>\n",
              "      <td>False</td>\n",
              "    </tr>\n",
              "    <tr>\n",
              "      <th>4</th>\n",
              "      <td>4</td>\n",
              "      <td>Charmander</td>\n",
              "      <td>Fire</td>\n",
              "      <td>NaN</td>\n",
              "      <td>309</td>\n",
              "      <td>39</td>\n",
              "      <td>52</td>\n",
              "      <td>43</td>\n",
              "      <td>60</td>\n",
              "      <td>50</td>\n",
              "      <td>65</td>\n",
              "      <td>1</td>\n",
              "      <td>False</td>\n",
              "    </tr>\n",
              "  </tbody>\n",
              "</table>\n",
              "</div>\n",
              "    <div class=\"colab-df-buttons\">\n",
              "\n",
              "  <div class=\"colab-df-container\">\n",
              "    <button class=\"colab-df-convert\" onclick=\"convertToInteractive('df-c42e42cc-019d-4365-a781-ab6908799448')\"\n",
              "            title=\"Convert this dataframe to an interactive table.\"\n",
              "            style=\"display:none;\">\n",
              "\n",
              "  <svg xmlns=\"http://www.w3.org/2000/svg\" height=\"24px\" viewBox=\"0 -960 960 960\">\n",
              "    <path d=\"M120-120v-720h720v720H120Zm60-500h600v-160H180v160Zm220 220h160v-160H400v160Zm0 220h160v-160H400v160ZM180-400h160v-160H180v160Zm440 0h160v-160H620v160ZM180-180h160v-160H180v160Zm440 0h160v-160H620v160Z\"/>\n",
              "  </svg>\n",
              "    </button>\n",
              "\n",
              "  <style>\n",
              "    .colab-df-container {\n",
              "      display:flex;\n",
              "      gap: 12px;\n",
              "    }\n",
              "\n",
              "    .colab-df-convert {\n",
              "      background-color: #E8F0FE;\n",
              "      border: none;\n",
              "      border-radius: 50%;\n",
              "      cursor: pointer;\n",
              "      display: none;\n",
              "      fill: #1967D2;\n",
              "      height: 32px;\n",
              "      padding: 0 0 0 0;\n",
              "      width: 32px;\n",
              "    }\n",
              "\n",
              "    .colab-df-convert:hover {\n",
              "      background-color: #E2EBFA;\n",
              "      box-shadow: 0px 1px 2px rgba(60, 64, 67, 0.3), 0px 1px 3px 1px rgba(60, 64, 67, 0.15);\n",
              "      fill: #174EA6;\n",
              "    }\n",
              "\n",
              "    .colab-df-buttons div {\n",
              "      margin-bottom: 4px;\n",
              "    }\n",
              "\n",
              "    [theme=dark] .colab-df-convert {\n",
              "      background-color: #3B4455;\n",
              "      fill: #D2E3FC;\n",
              "    }\n",
              "\n",
              "    [theme=dark] .colab-df-convert:hover {\n",
              "      background-color: #434B5C;\n",
              "      box-shadow: 0px 1px 3px 1px rgba(0, 0, 0, 0.15);\n",
              "      filter: drop-shadow(0px 1px 2px rgba(0, 0, 0, 0.3));\n",
              "      fill: #FFFFFF;\n",
              "    }\n",
              "  </style>\n",
              "\n",
              "    <script>\n",
              "      const buttonEl =\n",
              "        document.querySelector('#df-c42e42cc-019d-4365-a781-ab6908799448 button.colab-df-convert');\n",
              "      buttonEl.style.display =\n",
              "        google.colab.kernel.accessAllowed ? 'block' : 'none';\n",
              "\n",
              "      async function convertToInteractive(key) {\n",
              "        const element = document.querySelector('#df-c42e42cc-019d-4365-a781-ab6908799448');\n",
              "        const dataTable =\n",
              "          await google.colab.kernel.invokeFunction('convertToInteractive',\n",
              "                                                    [key], {});\n",
              "        if (!dataTable) return;\n",
              "\n",
              "        const docLinkHtml = 'Like what you see? Visit the ' +\n",
              "          '<a target=\"_blank\" href=https://colab.research.google.com/notebooks/data_table.ipynb>data table notebook</a>'\n",
              "          + ' to learn more about interactive tables.';\n",
              "        element.innerHTML = '';\n",
              "        dataTable['output_type'] = 'display_data';\n",
              "        await google.colab.output.renderOutput(dataTable, element);\n",
              "        const docLink = document.createElement('div');\n",
              "        docLink.innerHTML = docLinkHtml;\n",
              "        element.appendChild(docLink);\n",
              "      }\n",
              "    </script>\n",
              "  </div>\n",
              "\n",
              "\n",
              "<div id=\"df-b11220d9-49c2-4780-95ab-b49bc260710c\">\n",
              "  <button class=\"colab-df-quickchart\" onclick=\"quickchart('df-b11220d9-49c2-4780-95ab-b49bc260710c')\"\n",
              "            title=\"Suggest charts\"\n",
              "            style=\"display:none;\">\n",
              "\n",
              "<svg xmlns=\"http://www.w3.org/2000/svg\" height=\"24px\"viewBox=\"0 0 24 24\"\n",
              "     width=\"24px\">\n",
              "    <g>\n",
              "        <path d=\"M19 3H5c-1.1 0-2 .9-2 2v14c0 1.1.9 2 2 2h14c1.1 0 2-.9 2-2V5c0-1.1-.9-2-2-2zM9 17H7v-7h2v7zm4 0h-2V7h2v10zm4 0h-2v-4h2v4z\"/>\n",
              "    </g>\n",
              "</svg>\n",
              "  </button>\n",
              "\n",
              "<style>\n",
              "  .colab-df-quickchart {\n",
              "      --bg-color: #E8F0FE;\n",
              "      --fill-color: #1967D2;\n",
              "      --hover-bg-color: #E2EBFA;\n",
              "      --hover-fill-color: #174EA6;\n",
              "      --disabled-fill-color: #AAA;\n",
              "      --disabled-bg-color: #DDD;\n",
              "  }\n",
              "\n",
              "  [theme=dark] .colab-df-quickchart {\n",
              "      --bg-color: #3B4455;\n",
              "      --fill-color: #D2E3FC;\n",
              "      --hover-bg-color: #434B5C;\n",
              "      --hover-fill-color: #FFFFFF;\n",
              "      --disabled-bg-color: #3B4455;\n",
              "      --disabled-fill-color: #666;\n",
              "  }\n",
              "\n",
              "  .colab-df-quickchart {\n",
              "    background-color: var(--bg-color);\n",
              "    border: none;\n",
              "    border-radius: 50%;\n",
              "    cursor: pointer;\n",
              "    display: none;\n",
              "    fill: var(--fill-color);\n",
              "    height: 32px;\n",
              "    padding: 0;\n",
              "    width: 32px;\n",
              "  }\n",
              "\n",
              "  .colab-df-quickchart:hover {\n",
              "    background-color: var(--hover-bg-color);\n",
              "    box-shadow: 0 1px 2px rgba(60, 64, 67, 0.3), 0 1px 3px 1px rgba(60, 64, 67, 0.15);\n",
              "    fill: var(--button-hover-fill-color);\n",
              "  }\n",
              "\n",
              "  .colab-df-quickchart-complete:disabled,\n",
              "  .colab-df-quickchart-complete:disabled:hover {\n",
              "    background-color: var(--disabled-bg-color);\n",
              "    fill: var(--disabled-fill-color);\n",
              "    box-shadow: none;\n",
              "  }\n",
              "\n",
              "  .colab-df-spinner {\n",
              "    border: 2px solid var(--fill-color);\n",
              "    border-color: transparent;\n",
              "    border-bottom-color: var(--fill-color);\n",
              "    animation:\n",
              "      spin 1s steps(1) infinite;\n",
              "  }\n",
              "\n",
              "  @keyframes spin {\n",
              "    0% {\n",
              "      border-color: transparent;\n",
              "      border-bottom-color: var(--fill-color);\n",
              "      border-left-color: var(--fill-color);\n",
              "    }\n",
              "    20% {\n",
              "      border-color: transparent;\n",
              "      border-left-color: var(--fill-color);\n",
              "      border-top-color: var(--fill-color);\n",
              "    }\n",
              "    30% {\n",
              "      border-color: transparent;\n",
              "      border-left-color: var(--fill-color);\n",
              "      border-top-color: var(--fill-color);\n",
              "      border-right-color: var(--fill-color);\n",
              "    }\n",
              "    40% {\n",
              "      border-color: transparent;\n",
              "      border-right-color: var(--fill-color);\n",
              "      border-top-color: var(--fill-color);\n",
              "    }\n",
              "    60% {\n",
              "      border-color: transparent;\n",
              "      border-right-color: var(--fill-color);\n",
              "    }\n",
              "    80% {\n",
              "      border-color: transparent;\n",
              "      border-right-color: var(--fill-color);\n",
              "      border-bottom-color: var(--fill-color);\n",
              "    }\n",
              "    90% {\n",
              "      border-color: transparent;\n",
              "      border-bottom-color: var(--fill-color);\n",
              "    }\n",
              "  }\n",
              "</style>\n",
              "\n",
              "  <script>\n",
              "    async function quickchart(key) {\n",
              "      const quickchartButtonEl =\n",
              "        document.querySelector('#' + key + ' button');\n",
              "      quickchartButtonEl.disabled = true;  // To prevent multiple clicks.\n",
              "      quickchartButtonEl.classList.add('colab-df-spinner');\n",
              "      try {\n",
              "        const charts = await google.colab.kernel.invokeFunction(\n",
              "            'suggestCharts', [key], {});\n",
              "      } catch (error) {\n",
              "        console.error('Error during call to suggestCharts:', error);\n",
              "      }\n",
              "      quickchartButtonEl.classList.remove('colab-df-spinner');\n",
              "      quickchartButtonEl.classList.add('colab-df-quickchart-complete');\n",
              "    }\n",
              "    (() => {\n",
              "      let quickchartButtonEl =\n",
              "        document.querySelector('#df-b11220d9-49c2-4780-95ab-b49bc260710c button');\n",
              "      quickchartButtonEl.style.display =\n",
              "        google.colab.kernel.accessAllowed ? 'block' : 'none';\n",
              "    })();\n",
              "  </script>\n",
              "</div>\n",
              "    </div>\n",
              "  </div>\n"
            ],
            "application/vnd.google.colaboratory.intrinsic+json": {
              "type": "dataframe",
              "variable_name": "data",
              "summary": "{\n  \"name\": \"data\",\n  \"rows\": 800,\n  \"fields\": [\n    {\n      \"column\": \"#\",\n      \"properties\": {\n        \"dtype\": \"number\",\n        \"std\": 208,\n        \"min\": 1,\n        \"max\": 721,\n        \"num_unique_values\": 721,\n        \"samples\": [\n          260,\n          659,\n          78\n        ],\n        \"semantic_type\": \"\",\n        \"description\": \"\"\n      }\n    },\n    {\n      \"column\": \"Name\",\n      \"properties\": {\n        \"dtype\": \"string\",\n        \"num_unique_values\": 800,\n        \"samples\": [\n          \"Hydreigon\",\n          \"Beheeyem\",\n          \"Growlithe\"\n        ],\n        \"semantic_type\": \"\",\n        \"description\": \"\"\n      }\n    },\n    {\n      \"column\": \"Type 1\",\n      \"properties\": {\n        \"dtype\": \"category\",\n        \"num_unique_values\": 18,\n        \"samples\": [\n          \"Grass\",\n          \"Fire\",\n          \"Fairy\"\n        ],\n        \"semantic_type\": \"\",\n        \"description\": \"\"\n      }\n    },\n    {\n      \"column\": \"Type 2\",\n      \"properties\": {\n        \"dtype\": \"category\",\n        \"num_unique_values\": 18,\n        \"samples\": [\n          \"Poison\",\n          \"Flying\",\n          \"Steel\"\n        ],\n        \"semantic_type\": \"\",\n        \"description\": \"\"\n      }\n    },\n    {\n      \"column\": \"Total\",\n      \"properties\": {\n        \"dtype\": \"number\",\n        \"std\": 119,\n        \"min\": 180,\n        \"max\": 780,\n        \"num_unique_values\": 200,\n        \"samples\": [\n          700,\n          349,\n          505\n        ],\n        \"semantic_type\": \"\",\n        \"description\": \"\"\n      }\n    },\n    {\n      \"column\": \"HP\",\n      \"properties\": {\n        \"dtype\": \"number\",\n        \"std\": 25,\n        \"min\": 1,\n        \"max\": 255,\n        \"num_unique_values\": 94,\n        \"samples\": [\n          106,\n          81,\n          170\n        ],\n        \"semantic_type\": \"\",\n        \"description\": \"\"\n      }\n    },\n    {\n      \"column\": \"Attack\",\n      \"properties\": {\n        \"dtype\": \"number\",\n        \"std\": 32,\n        \"min\": 5,\n        \"max\": 190,\n        \"num_unique_values\": 111,\n        \"samples\": [\n          79,\n          63,\n          52\n        ],\n        \"semantic_type\": \"\",\n        \"description\": \"\"\n      }\n    },\n    {\n      \"column\": \"Defense\",\n      \"properties\": {\n        \"dtype\": \"number\",\n        \"std\": 31,\n        \"min\": 5,\n        \"max\": 230,\n        \"num_unique_values\": 103,\n        \"samples\": [\n          20,\n          88,\n          23\n        ],\n        \"semantic_type\": \"\",\n        \"description\": \"\"\n      }\n    },\n    {\n      \"column\": \"Sp. Atk\",\n      \"properties\": {\n        \"dtype\": \"number\",\n        \"std\": 32,\n        \"min\": 10,\n        \"max\": 194,\n        \"num_unique_values\": 105,\n        \"samples\": [\n          58,\n          150,\n          160\n        ],\n        \"semantic_type\": \"\",\n        \"description\": \"\"\n      }\n    },\n    {\n      \"column\": \"Sp. Def\",\n      \"properties\": {\n        \"dtype\": \"number\",\n        \"std\": 27,\n        \"min\": 20,\n        \"max\": 230,\n        \"num_unique_values\": 92,\n        \"samples\": [\n          154,\n          45,\n          44\n        ],\n        \"semantic_type\": \"\",\n        \"description\": \"\"\n      }\n    },\n    {\n      \"column\": \"Speed\",\n      \"properties\": {\n        \"dtype\": \"number\",\n        \"std\": 29,\n        \"min\": 5,\n        \"max\": 180,\n        \"num_unique_values\": 108,\n        \"samples\": [\n          113,\n          50,\n          100\n        ],\n        \"semantic_type\": \"\",\n        \"description\": \"\"\n      }\n    },\n    {\n      \"column\": \"Generation\",\n      \"properties\": {\n        \"dtype\": \"number\",\n        \"std\": 1,\n        \"min\": 1,\n        \"max\": 6,\n        \"num_unique_values\": 6,\n        \"samples\": [\n          1,\n          2,\n          6\n        ],\n        \"semantic_type\": \"\",\n        \"description\": \"\"\n      }\n    },\n    {\n      \"column\": \"Legendary\",\n      \"properties\": {\n        \"dtype\": \"boolean\",\n        \"num_unique_values\": 2,\n        \"samples\": [\n          true,\n          false\n        ],\n        \"semantic_type\": \"\",\n        \"description\": \"\"\n      }\n    }\n  ]\n}"
            }
          },
          "metadata": {},
          "execution_count": 4
        }
      ],
      "source": [
        "data.head(5)"
      ]
    },
    {
      "cell_type": "markdown",
      "id": "d6d3fc35",
      "metadata": {
        "id": "d6d3fc35"
      },
      "source": [
        "Columns description (it's crucial!)\n",
        "\n",
        "\n",
        "- #: ID for each pokemon\n",
        "- Name: Name of each pokemon\n",
        "- Type 1: Each pokemon has a type, this determines weakness/resistance to attacks\n",
        "- Type 2: Some pokemon are dual type and have 2\n",
        "- Total: sum of all stats that come after this, a general guide to how strong a pokemon is\n",
        "- HP: hit points, or health, defines how much damage a pokemon can withstand before fainting\n",
        "- Attack: the base modifier for normal attacks (eg. Scratch, Punch)\n",
        "- Defense: the base damage resistance against normal attacks\n",
        "- SP Atk: special attack, the base modifier for special attacks (e.g. fire blast, bubble beam)\n",
        "- SP Def: the base damage resistance against special attacks\n",
        "- Speed: determines which pokemon attacks first each round"
      ]
    },
    {
      "cell_type": "code",
      "execution_count": 5,
      "id": "04cb438b",
      "metadata": {
        "colab": {
          "base_uri": "https://localhost:8080/"
        },
        "id": "04cb438b",
        "outputId": "aa131226-901f-45dd-c814-dcc7c073a17c"
      },
      "outputs": [
        {
          "output_type": "stream",
          "name": "stdout",
          "text": [
            "<class 'pandas.core.frame.DataFrame'>\n",
            "RangeIndex: 800 entries, 0 to 799\n",
            "Data columns (total 13 columns):\n",
            " #   Column      Non-Null Count  Dtype \n",
            "---  ------      --------------  ----- \n",
            " 0   #           800 non-null    int64 \n",
            " 1   Name        800 non-null    object\n",
            " 2   Type 1      800 non-null    object\n",
            " 3   Type 2      414 non-null    object\n",
            " 4   Total       800 non-null    int64 \n",
            " 5   HP          800 non-null    int64 \n",
            " 6   Attack      800 non-null    int64 \n",
            " 7   Defense     800 non-null    int64 \n",
            " 8   Sp. Atk     800 non-null    int64 \n",
            " 9   Sp. Def     800 non-null    int64 \n",
            " 10  Speed       800 non-null    int64 \n",
            " 11  Generation  800 non-null    int64 \n",
            " 12  Legendary   800 non-null    bool  \n",
            "dtypes: bool(1), int64(9), object(3)\n",
            "memory usage: 75.9+ KB\n"
          ]
        }
      ],
      "source": [
        "data.info()"
      ]
    },
    {
      "cell_type": "code",
      "execution_count": 6,
      "id": "8c535806",
      "metadata": {
        "ExecuteTime": {
          "end_time": "2021-10-24T20:18:18.393785Z",
          "start_time": "2021-10-24T20:18:18.385916Z"
        },
        "id": "8c535806",
        "outputId": "e43ad757-ad17-4c76-cd4e-e3527c602a14",
        "colab": {
          "base_uri": "https://localhost:8080/",
          "height": 486
        }
      },
      "outputs": [
        {
          "output_type": "display_data",
          "data": {
            "text/plain": [
              "#               0\n",
              "Name            0\n",
              "Type 1          0\n",
              "Type 2        386\n",
              "Total           0\n",
              "HP              0\n",
              "Attack          0\n",
              "Defense         0\n",
              "Sp. Atk         0\n",
              "Sp. Def         0\n",
              "Speed           0\n",
              "Generation      0\n",
              "Legendary       0\n",
              "dtype: int64"
            ],
            "text/html": [
              "<div>\n",
              "<style scoped>\n",
              "    .dataframe tbody tr th:only-of-type {\n",
              "        vertical-align: middle;\n",
              "    }\n",
              "\n",
              "    .dataframe tbody tr th {\n",
              "        vertical-align: top;\n",
              "    }\n",
              "\n",
              "    .dataframe thead th {\n",
              "        text-align: right;\n",
              "    }\n",
              "</style>\n",
              "<table border=\"1\" class=\"dataframe\">\n",
              "  <thead>\n",
              "    <tr style=\"text-align: right;\">\n",
              "      <th></th>\n",
              "      <th>0</th>\n",
              "    </tr>\n",
              "  </thead>\n",
              "  <tbody>\n",
              "    <tr>\n",
              "      <th>#</th>\n",
              "      <td>0</td>\n",
              "    </tr>\n",
              "    <tr>\n",
              "      <th>Name</th>\n",
              "      <td>0</td>\n",
              "    </tr>\n",
              "    <tr>\n",
              "      <th>Type 1</th>\n",
              "      <td>0</td>\n",
              "    </tr>\n",
              "    <tr>\n",
              "      <th>Type 2</th>\n",
              "      <td>386</td>\n",
              "    </tr>\n",
              "    <tr>\n",
              "      <th>Total</th>\n",
              "      <td>0</td>\n",
              "    </tr>\n",
              "    <tr>\n",
              "      <th>HP</th>\n",
              "      <td>0</td>\n",
              "    </tr>\n",
              "    <tr>\n",
              "      <th>Attack</th>\n",
              "      <td>0</td>\n",
              "    </tr>\n",
              "    <tr>\n",
              "      <th>Defense</th>\n",
              "      <td>0</td>\n",
              "    </tr>\n",
              "    <tr>\n",
              "      <th>Sp. Atk</th>\n",
              "      <td>0</td>\n",
              "    </tr>\n",
              "    <tr>\n",
              "      <th>Sp. Def</th>\n",
              "      <td>0</td>\n",
              "    </tr>\n",
              "    <tr>\n",
              "      <th>Speed</th>\n",
              "      <td>0</td>\n",
              "    </tr>\n",
              "    <tr>\n",
              "      <th>Generation</th>\n",
              "      <td>0</td>\n",
              "    </tr>\n",
              "    <tr>\n",
              "      <th>Legendary</th>\n",
              "      <td>0</td>\n",
              "    </tr>\n",
              "  </tbody>\n",
              "</table>\n",
              "</div><br><label><b>dtype:</b> int64</label>"
            ]
          },
          "metadata": {}
        }
      ],
      "source": [
        "# fillna and drop useless cols\n",
        "\n",
        "display(data.isnull().sum())\n",
        "data['Type 2'] = data['Type 2'].fillna('No 2nd type')"
      ]
    },
    {
      "cell_type": "code",
      "execution_count": 7,
      "id": "7426f1af",
      "metadata": {
        "id": "7426f1af",
        "outputId": "c42a7bc1-eb93-49fc-804f-34f2480bd538",
        "colab": {
          "base_uri": "https://localhost:8080/",
          "height": 486
        }
      },
      "outputs": [
        {
          "output_type": "display_data",
          "data": {
            "text/plain": [
              "#             0\n",
              "Name          0\n",
              "Type 1        0\n",
              "Type 2        0\n",
              "Total         0\n",
              "HP            0\n",
              "Attack        0\n",
              "Defense       0\n",
              "Sp. Atk       0\n",
              "Sp. Def       0\n",
              "Speed         0\n",
              "Generation    0\n",
              "Legendary     0\n",
              "dtype: int64"
            ],
            "text/html": [
              "<div>\n",
              "<style scoped>\n",
              "    .dataframe tbody tr th:only-of-type {\n",
              "        vertical-align: middle;\n",
              "    }\n",
              "\n",
              "    .dataframe tbody tr th {\n",
              "        vertical-align: top;\n",
              "    }\n",
              "\n",
              "    .dataframe thead th {\n",
              "        text-align: right;\n",
              "    }\n",
              "</style>\n",
              "<table border=\"1\" class=\"dataframe\">\n",
              "  <thead>\n",
              "    <tr style=\"text-align: right;\">\n",
              "      <th></th>\n",
              "      <th>0</th>\n",
              "    </tr>\n",
              "  </thead>\n",
              "  <tbody>\n",
              "    <tr>\n",
              "      <th>#</th>\n",
              "      <td>0</td>\n",
              "    </tr>\n",
              "    <tr>\n",
              "      <th>Name</th>\n",
              "      <td>0</td>\n",
              "    </tr>\n",
              "    <tr>\n",
              "      <th>Type 1</th>\n",
              "      <td>0</td>\n",
              "    </tr>\n",
              "    <tr>\n",
              "      <th>Type 2</th>\n",
              "      <td>0</td>\n",
              "    </tr>\n",
              "    <tr>\n",
              "      <th>Total</th>\n",
              "      <td>0</td>\n",
              "    </tr>\n",
              "    <tr>\n",
              "      <th>HP</th>\n",
              "      <td>0</td>\n",
              "    </tr>\n",
              "    <tr>\n",
              "      <th>Attack</th>\n",
              "      <td>0</td>\n",
              "    </tr>\n",
              "    <tr>\n",
              "      <th>Defense</th>\n",
              "      <td>0</td>\n",
              "    </tr>\n",
              "    <tr>\n",
              "      <th>Sp. Atk</th>\n",
              "      <td>0</td>\n",
              "    </tr>\n",
              "    <tr>\n",
              "      <th>Sp. Def</th>\n",
              "      <td>0</td>\n",
              "    </tr>\n",
              "    <tr>\n",
              "      <th>Speed</th>\n",
              "      <td>0</td>\n",
              "    </tr>\n",
              "    <tr>\n",
              "      <th>Generation</th>\n",
              "      <td>0</td>\n",
              "    </tr>\n",
              "    <tr>\n",
              "      <th>Legendary</th>\n",
              "      <td>0</td>\n",
              "    </tr>\n",
              "  </tbody>\n",
              "</table>\n",
              "</div><br><label><b>dtype:</b> int64</label>"
            ]
          },
          "metadata": {}
        }
      ],
      "source": [
        "display(data.isnull().sum())"
      ]
    },
    {
      "cell_type": "code",
      "execution_count": 8,
      "id": "ff5ecd35",
      "metadata": {
        "id": "ff5ecd35"
      },
      "outputs": [],
      "source": [
        "data.drop(columns=['#'], inplace=True)"
      ]
    },
    {
      "cell_type": "code",
      "execution_count": 9,
      "id": "a9ba5316",
      "metadata": {
        "id": "a9ba5316"
      },
      "outputs": [],
      "source": [
        "data.drop(columns=['Name'], inplace=True)"
      ]
    },
    {
      "cell_type": "code",
      "execution_count": 10,
      "id": "9417d6b8",
      "metadata": {
        "id": "9417d6b8",
        "outputId": "bb64bc54-23fb-4e4a-aaba-65f052dd0589",
        "colab": {
          "base_uri": "https://localhost:8080/",
          "height": 419
        }
      },
      "outputs": [
        {
          "output_type": "execute_result",
          "data": {
            "text/plain": [
              "      Type 1       Type 2  Total  HP  Attack  Defense  Sp. Atk  Sp. Def  \\\n",
              "0      Grass       Poison    318  45      49       49       65       65   \n",
              "1      Grass       Poison    405  60      62       63       80       80   \n",
              "2      Grass       Poison    525  80      82       83      100      100   \n",
              "3      Grass       Poison    625  80     100      123      122      120   \n",
              "4       Fire  No 2nd type    309  39      52       43       60       50   \n",
              "..       ...          ...    ...  ..     ...      ...      ...      ...   \n",
              "795     Rock        Fairy    600  50     100      150      100      150   \n",
              "796     Rock        Fairy    700  50     160      110      160      110   \n",
              "797  Psychic        Ghost    600  80     110       60      150      130   \n",
              "798  Psychic         Dark    680  80     160       60      170      130   \n",
              "799     Fire        Water    600  80     110      120      130       90   \n",
              "\n",
              "     Speed  Generation  Legendary  \n",
              "0       45           1      False  \n",
              "1       60           1      False  \n",
              "2       80           1      False  \n",
              "3       80           1      False  \n",
              "4       65           1      False  \n",
              "..     ...         ...        ...  \n",
              "795     50           6       True  \n",
              "796    110           6       True  \n",
              "797     70           6       True  \n",
              "798     80           6       True  \n",
              "799     70           6       True  \n",
              "\n",
              "[800 rows x 11 columns]"
            ],
            "text/html": [
              "\n",
              "  <div id=\"df-a42f928f-79a1-4bf1-9491-726c949f956e\" class=\"colab-df-container\">\n",
              "    <div>\n",
              "<style scoped>\n",
              "    .dataframe tbody tr th:only-of-type {\n",
              "        vertical-align: middle;\n",
              "    }\n",
              "\n",
              "    .dataframe tbody tr th {\n",
              "        vertical-align: top;\n",
              "    }\n",
              "\n",
              "    .dataframe thead th {\n",
              "        text-align: right;\n",
              "    }\n",
              "</style>\n",
              "<table border=\"1\" class=\"dataframe\">\n",
              "  <thead>\n",
              "    <tr style=\"text-align: right;\">\n",
              "      <th></th>\n",
              "      <th>Type 1</th>\n",
              "      <th>Type 2</th>\n",
              "      <th>Total</th>\n",
              "      <th>HP</th>\n",
              "      <th>Attack</th>\n",
              "      <th>Defense</th>\n",
              "      <th>Sp. Atk</th>\n",
              "      <th>Sp. Def</th>\n",
              "      <th>Speed</th>\n",
              "      <th>Generation</th>\n",
              "      <th>Legendary</th>\n",
              "    </tr>\n",
              "  </thead>\n",
              "  <tbody>\n",
              "    <tr>\n",
              "      <th>0</th>\n",
              "      <td>Grass</td>\n",
              "      <td>Poison</td>\n",
              "      <td>318</td>\n",
              "      <td>45</td>\n",
              "      <td>49</td>\n",
              "      <td>49</td>\n",
              "      <td>65</td>\n",
              "      <td>65</td>\n",
              "      <td>45</td>\n",
              "      <td>1</td>\n",
              "      <td>False</td>\n",
              "    </tr>\n",
              "    <tr>\n",
              "      <th>1</th>\n",
              "      <td>Grass</td>\n",
              "      <td>Poison</td>\n",
              "      <td>405</td>\n",
              "      <td>60</td>\n",
              "      <td>62</td>\n",
              "      <td>63</td>\n",
              "      <td>80</td>\n",
              "      <td>80</td>\n",
              "      <td>60</td>\n",
              "      <td>1</td>\n",
              "      <td>False</td>\n",
              "    </tr>\n",
              "    <tr>\n",
              "      <th>2</th>\n",
              "      <td>Grass</td>\n",
              "      <td>Poison</td>\n",
              "      <td>525</td>\n",
              "      <td>80</td>\n",
              "      <td>82</td>\n",
              "      <td>83</td>\n",
              "      <td>100</td>\n",
              "      <td>100</td>\n",
              "      <td>80</td>\n",
              "      <td>1</td>\n",
              "      <td>False</td>\n",
              "    </tr>\n",
              "    <tr>\n",
              "      <th>3</th>\n",
              "      <td>Grass</td>\n",
              "      <td>Poison</td>\n",
              "      <td>625</td>\n",
              "      <td>80</td>\n",
              "      <td>100</td>\n",
              "      <td>123</td>\n",
              "      <td>122</td>\n",
              "      <td>120</td>\n",
              "      <td>80</td>\n",
              "      <td>1</td>\n",
              "      <td>False</td>\n",
              "    </tr>\n",
              "    <tr>\n",
              "      <th>4</th>\n",
              "      <td>Fire</td>\n",
              "      <td>No 2nd type</td>\n",
              "      <td>309</td>\n",
              "      <td>39</td>\n",
              "      <td>52</td>\n",
              "      <td>43</td>\n",
              "      <td>60</td>\n",
              "      <td>50</td>\n",
              "      <td>65</td>\n",
              "      <td>1</td>\n",
              "      <td>False</td>\n",
              "    </tr>\n",
              "    <tr>\n",
              "      <th>...</th>\n",
              "      <td>...</td>\n",
              "      <td>...</td>\n",
              "      <td>...</td>\n",
              "      <td>...</td>\n",
              "      <td>...</td>\n",
              "      <td>...</td>\n",
              "      <td>...</td>\n",
              "      <td>...</td>\n",
              "      <td>...</td>\n",
              "      <td>...</td>\n",
              "      <td>...</td>\n",
              "    </tr>\n",
              "    <tr>\n",
              "      <th>795</th>\n",
              "      <td>Rock</td>\n",
              "      <td>Fairy</td>\n",
              "      <td>600</td>\n",
              "      <td>50</td>\n",
              "      <td>100</td>\n",
              "      <td>150</td>\n",
              "      <td>100</td>\n",
              "      <td>150</td>\n",
              "      <td>50</td>\n",
              "      <td>6</td>\n",
              "      <td>True</td>\n",
              "    </tr>\n",
              "    <tr>\n",
              "      <th>796</th>\n",
              "      <td>Rock</td>\n",
              "      <td>Fairy</td>\n",
              "      <td>700</td>\n",
              "      <td>50</td>\n",
              "      <td>160</td>\n",
              "      <td>110</td>\n",
              "      <td>160</td>\n",
              "      <td>110</td>\n",
              "      <td>110</td>\n",
              "      <td>6</td>\n",
              "      <td>True</td>\n",
              "    </tr>\n",
              "    <tr>\n",
              "      <th>797</th>\n",
              "      <td>Psychic</td>\n",
              "      <td>Ghost</td>\n",
              "      <td>600</td>\n",
              "      <td>80</td>\n",
              "      <td>110</td>\n",
              "      <td>60</td>\n",
              "      <td>150</td>\n",
              "      <td>130</td>\n",
              "      <td>70</td>\n",
              "      <td>6</td>\n",
              "      <td>True</td>\n",
              "    </tr>\n",
              "    <tr>\n",
              "      <th>798</th>\n",
              "      <td>Psychic</td>\n",
              "      <td>Dark</td>\n",
              "      <td>680</td>\n",
              "      <td>80</td>\n",
              "      <td>160</td>\n",
              "      <td>60</td>\n",
              "      <td>170</td>\n",
              "      <td>130</td>\n",
              "      <td>80</td>\n",
              "      <td>6</td>\n",
              "      <td>True</td>\n",
              "    </tr>\n",
              "    <tr>\n",
              "      <th>799</th>\n",
              "      <td>Fire</td>\n",
              "      <td>Water</td>\n",
              "      <td>600</td>\n",
              "      <td>80</td>\n",
              "      <td>110</td>\n",
              "      <td>120</td>\n",
              "      <td>130</td>\n",
              "      <td>90</td>\n",
              "      <td>70</td>\n",
              "      <td>6</td>\n",
              "      <td>True</td>\n",
              "    </tr>\n",
              "  </tbody>\n",
              "</table>\n",
              "<p>800 rows × 11 columns</p>\n",
              "</div>\n",
              "    <div class=\"colab-df-buttons\">\n",
              "\n",
              "  <div class=\"colab-df-container\">\n",
              "    <button class=\"colab-df-convert\" onclick=\"convertToInteractive('df-a42f928f-79a1-4bf1-9491-726c949f956e')\"\n",
              "            title=\"Convert this dataframe to an interactive table.\"\n",
              "            style=\"display:none;\">\n",
              "\n",
              "  <svg xmlns=\"http://www.w3.org/2000/svg\" height=\"24px\" viewBox=\"0 -960 960 960\">\n",
              "    <path d=\"M120-120v-720h720v720H120Zm60-500h600v-160H180v160Zm220 220h160v-160H400v160Zm0 220h160v-160H400v160ZM180-400h160v-160H180v160Zm440 0h160v-160H620v160ZM180-180h160v-160H180v160Zm440 0h160v-160H620v160Z\"/>\n",
              "  </svg>\n",
              "    </button>\n",
              "\n",
              "  <style>\n",
              "    .colab-df-container {\n",
              "      display:flex;\n",
              "      gap: 12px;\n",
              "    }\n",
              "\n",
              "    .colab-df-convert {\n",
              "      background-color: #E8F0FE;\n",
              "      border: none;\n",
              "      border-radius: 50%;\n",
              "      cursor: pointer;\n",
              "      display: none;\n",
              "      fill: #1967D2;\n",
              "      height: 32px;\n",
              "      padding: 0 0 0 0;\n",
              "      width: 32px;\n",
              "    }\n",
              "\n",
              "    .colab-df-convert:hover {\n",
              "      background-color: #E2EBFA;\n",
              "      box-shadow: 0px 1px 2px rgba(60, 64, 67, 0.3), 0px 1px 3px 1px rgba(60, 64, 67, 0.15);\n",
              "      fill: #174EA6;\n",
              "    }\n",
              "\n",
              "    .colab-df-buttons div {\n",
              "      margin-bottom: 4px;\n",
              "    }\n",
              "\n",
              "    [theme=dark] .colab-df-convert {\n",
              "      background-color: #3B4455;\n",
              "      fill: #D2E3FC;\n",
              "    }\n",
              "\n",
              "    [theme=dark] .colab-df-convert:hover {\n",
              "      background-color: #434B5C;\n",
              "      box-shadow: 0px 1px 3px 1px rgba(0, 0, 0, 0.15);\n",
              "      filter: drop-shadow(0px 1px 2px rgba(0, 0, 0, 0.3));\n",
              "      fill: #FFFFFF;\n",
              "    }\n",
              "  </style>\n",
              "\n",
              "    <script>\n",
              "      const buttonEl =\n",
              "        document.querySelector('#df-a42f928f-79a1-4bf1-9491-726c949f956e button.colab-df-convert');\n",
              "      buttonEl.style.display =\n",
              "        google.colab.kernel.accessAllowed ? 'block' : 'none';\n",
              "\n",
              "      async function convertToInteractive(key) {\n",
              "        const element = document.querySelector('#df-a42f928f-79a1-4bf1-9491-726c949f956e');\n",
              "        const dataTable =\n",
              "          await google.colab.kernel.invokeFunction('convertToInteractive',\n",
              "                                                    [key], {});\n",
              "        if (!dataTable) return;\n",
              "\n",
              "        const docLinkHtml = 'Like what you see? Visit the ' +\n",
              "          '<a target=\"_blank\" href=https://colab.research.google.com/notebooks/data_table.ipynb>data table notebook</a>'\n",
              "          + ' to learn more about interactive tables.';\n",
              "        element.innerHTML = '';\n",
              "        dataTable['output_type'] = 'display_data';\n",
              "        await google.colab.output.renderOutput(dataTable, element);\n",
              "        const docLink = document.createElement('div');\n",
              "        docLink.innerHTML = docLinkHtml;\n",
              "        element.appendChild(docLink);\n",
              "      }\n",
              "    </script>\n",
              "  </div>\n",
              "\n",
              "\n",
              "<div id=\"df-92febd96-8e4e-41cf-a706-7a32ebc7b5be\">\n",
              "  <button class=\"colab-df-quickchart\" onclick=\"quickchart('df-92febd96-8e4e-41cf-a706-7a32ebc7b5be')\"\n",
              "            title=\"Suggest charts\"\n",
              "            style=\"display:none;\">\n",
              "\n",
              "<svg xmlns=\"http://www.w3.org/2000/svg\" height=\"24px\"viewBox=\"0 0 24 24\"\n",
              "     width=\"24px\">\n",
              "    <g>\n",
              "        <path d=\"M19 3H5c-1.1 0-2 .9-2 2v14c0 1.1.9 2 2 2h14c1.1 0 2-.9 2-2V5c0-1.1-.9-2-2-2zM9 17H7v-7h2v7zm4 0h-2V7h2v10zm4 0h-2v-4h2v4z\"/>\n",
              "    </g>\n",
              "</svg>\n",
              "  </button>\n",
              "\n",
              "<style>\n",
              "  .colab-df-quickchart {\n",
              "      --bg-color: #E8F0FE;\n",
              "      --fill-color: #1967D2;\n",
              "      --hover-bg-color: #E2EBFA;\n",
              "      --hover-fill-color: #174EA6;\n",
              "      --disabled-fill-color: #AAA;\n",
              "      --disabled-bg-color: #DDD;\n",
              "  }\n",
              "\n",
              "  [theme=dark] .colab-df-quickchart {\n",
              "      --bg-color: #3B4455;\n",
              "      --fill-color: #D2E3FC;\n",
              "      --hover-bg-color: #434B5C;\n",
              "      --hover-fill-color: #FFFFFF;\n",
              "      --disabled-bg-color: #3B4455;\n",
              "      --disabled-fill-color: #666;\n",
              "  }\n",
              "\n",
              "  .colab-df-quickchart {\n",
              "    background-color: var(--bg-color);\n",
              "    border: none;\n",
              "    border-radius: 50%;\n",
              "    cursor: pointer;\n",
              "    display: none;\n",
              "    fill: var(--fill-color);\n",
              "    height: 32px;\n",
              "    padding: 0;\n",
              "    width: 32px;\n",
              "  }\n",
              "\n",
              "  .colab-df-quickchart:hover {\n",
              "    background-color: var(--hover-bg-color);\n",
              "    box-shadow: 0 1px 2px rgba(60, 64, 67, 0.3), 0 1px 3px 1px rgba(60, 64, 67, 0.15);\n",
              "    fill: var(--button-hover-fill-color);\n",
              "  }\n",
              "\n",
              "  .colab-df-quickchart-complete:disabled,\n",
              "  .colab-df-quickchart-complete:disabled:hover {\n",
              "    background-color: var(--disabled-bg-color);\n",
              "    fill: var(--disabled-fill-color);\n",
              "    box-shadow: none;\n",
              "  }\n",
              "\n",
              "  .colab-df-spinner {\n",
              "    border: 2px solid var(--fill-color);\n",
              "    border-color: transparent;\n",
              "    border-bottom-color: var(--fill-color);\n",
              "    animation:\n",
              "      spin 1s steps(1) infinite;\n",
              "  }\n",
              "\n",
              "  @keyframes spin {\n",
              "    0% {\n",
              "      border-color: transparent;\n",
              "      border-bottom-color: var(--fill-color);\n",
              "      border-left-color: var(--fill-color);\n",
              "    }\n",
              "    20% {\n",
              "      border-color: transparent;\n",
              "      border-left-color: var(--fill-color);\n",
              "      border-top-color: var(--fill-color);\n",
              "    }\n",
              "    30% {\n",
              "      border-color: transparent;\n",
              "      border-left-color: var(--fill-color);\n",
              "      border-top-color: var(--fill-color);\n",
              "      border-right-color: var(--fill-color);\n",
              "    }\n",
              "    40% {\n",
              "      border-color: transparent;\n",
              "      border-right-color: var(--fill-color);\n",
              "      border-top-color: var(--fill-color);\n",
              "    }\n",
              "    60% {\n",
              "      border-color: transparent;\n",
              "      border-right-color: var(--fill-color);\n",
              "    }\n",
              "    80% {\n",
              "      border-color: transparent;\n",
              "      border-right-color: var(--fill-color);\n",
              "      border-bottom-color: var(--fill-color);\n",
              "    }\n",
              "    90% {\n",
              "      border-color: transparent;\n",
              "      border-bottom-color: var(--fill-color);\n",
              "    }\n",
              "  }\n",
              "</style>\n",
              "\n",
              "  <script>\n",
              "    async function quickchart(key) {\n",
              "      const quickchartButtonEl =\n",
              "        document.querySelector('#' + key + ' button');\n",
              "      quickchartButtonEl.disabled = true;  // To prevent multiple clicks.\n",
              "      quickchartButtonEl.classList.add('colab-df-spinner');\n",
              "      try {\n",
              "        const charts = await google.colab.kernel.invokeFunction(\n",
              "            'suggestCharts', [key], {});\n",
              "      } catch (error) {\n",
              "        console.error('Error during call to suggestCharts:', error);\n",
              "      }\n",
              "      quickchartButtonEl.classList.remove('colab-df-spinner');\n",
              "      quickchartButtonEl.classList.add('colab-df-quickchart-complete');\n",
              "    }\n",
              "    (() => {\n",
              "      let quickchartButtonEl =\n",
              "        document.querySelector('#df-92febd96-8e4e-41cf-a706-7a32ebc7b5be button');\n",
              "      quickchartButtonEl.style.display =\n",
              "        google.colab.kernel.accessAllowed ? 'block' : 'none';\n",
              "    })();\n",
              "  </script>\n",
              "</div>\n",
              "    </div>\n",
              "  </div>\n"
            ],
            "application/vnd.google.colaboratory.intrinsic+json": {
              "type": "dataframe",
              "variable_name": "data",
              "summary": "{\n  \"name\": \"data\",\n  \"rows\": 800,\n  \"fields\": [\n    {\n      \"column\": \"Type 1\",\n      \"properties\": {\n        \"dtype\": \"category\",\n        \"num_unique_values\": 18,\n        \"samples\": [\n          \"Grass\",\n          \"Fire\",\n          \"Fairy\"\n        ],\n        \"semantic_type\": \"\",\n        \"description\": \"\"\n      }\n    },\n    {\n      \"column\": \"Type 2\",\n      \"properties\": {\n        \"dtype\": \"category\",\n        \"num_unique_values\": 19,\n        \"samples\": [\n          \"Poison\",\n          \"Fairy\",\n          \"Rock\"\n        ],\n        \"semantic_type\": \"\",\n        \"description\": \"\"\n      }\n    },\n    {\n      \"column\": \"Total\",\n      \"properties\": {\n        \"dtype\": \"number\",\n        \"std\": 119,\n        \"min\": 180,\n        \"max\": 780,\n        \"num_unique_values\": 200,\n        \"samples\": [\n          700,\n          349,\n          505\n        ],\n        \"semantic_type\": \"\",\n        \"description\": \"\"\n      }\n    },\n    {\n      \"column\": \"HP\",\n      \"properties\": {\n        \"dtype\": \"number\",\n        \"std\": 25,\n        \"min\": 1,\n        \"max\": 255,\n        \"num_unique_values\": 94,\n        \"samples\": [\n          106,\n          81,\n          170\n        ],\n        \"semantic_type\": \"\",\n        \"description\": \"\"\n      }\n    },\n    {\n      \"column\": \"Attack\",\n      \"properties\": {\n        \"dtype\": \"number\",\n        \"std\": 32,\n        \"min\": 5,\n        \"max\": 190,\n        \"num_unique_values\": 111,\n        \"samples\": [\n          79,\n          63,\n          52\n        ],\n        \"semantic_type\": \"\",\n        \"description\": \"\"\n      }\n    },\n    {\n      \"column\": \"Defense\",\n      \"properties\": {\n        \"dtype\": \"number\",\n        \"std\": 31,\n        \"min\": 5,\n        \"max\": 230,\n        \"num_unique_values\": 103,\n        \"samples\": [\n          20,\n          88,\n          23\n        ],\n        \"semantic_type\": \"\",\n        \"description\": \"\"\n      }\n    },\n    {\n      \"column\": \"Sp. Atk\",\n      \"properties\": {\n        \"dtype\": \"number\",\n        \"std\": 32,\n        \"min\": 10,\n        \"max\": 194,\n        \"num_unique_values\": 105,\n        \"samples\": [\n          58,\n          150,\n          160\n        ],\n        \"semantic_type\": \"\",\n        \"description\": \"\"\n      }\n    },\n    {\n      \"column\": \"Sp. Def\",\n      \"properties\": {\n        \"dtype\": \"number\",\n        \"std\": 27,\n        \"min\": 20,\n        \"max\": 230,\n        \"num_unique_values\": 92,\n        \"samples\": [\n          154,\n          45,\n          44\n        ],\n        \"semantic_type\": \"\",\n        \"description\": \"\"\n      }\n    },\n    {\n      \"column\": \"Speed\",\n      \"properties\": {\n        \"dtype\": \"number\",\n        \"std\": 29,\n        \"min\": 5,\n        \"max\": 180,\n        \"num_unique_values\": 108,\n        \"samples\": [\n          113,\n          50,\n          100\n        ],\n        \"semantic_type\": \"\",\n        \"description\": \"\"\n      }\n    },\n    {\n      \"column\": \"Generation\",\n      \"properties\": {\n        \"dtype\": \"number\",\n        \"std\": 1,\n        \"min\": 1,\n        \"max\": 6,\n        \"num_unique_values\": 6,\n        \"samples\": [\n          1,\n          2,\n          6\n        ],\n        \"semantic_type\": \"\",\n        \"description\": \"\"\n      }\n    },\n    {\n      \"column\": \"Legendary\",\n      \"properties\": {\n        \"dtype\": \"boolean\",\n        \"num_unique_values\": 2,\n        \"samples\": [\n          true,\n          false\n        ],\n        \"semantic_type\": \"\",\n        \"description\": \"\"\n      }\n    }\n  ]\n}"
            }
          },
          "metadata": {},
          "execution_count": 10
        }
      ],
      "source": [
        "data"
      ]
    },
    {
      "cell_type": "code",
      "execution_count": 11,
      "id": "b8189335",
      "metadata": {
        "ExecuteTime": {
          "end_time": "2021-10-24T20:18:19.432056Z",
          "start_time": "2021-10-24T20:18:19.428250Z"
        },
        "id": "b8189335"
      },
      "outputs": [],
      "source": [
        "X = data.drop(columns='Legendary')\n",
        "y = data['Legendary'].astype('int')"
      ]
    },
    {
      "cell_type": "code",
      "execution_count": 12,
      "id": "ae422934",
      "metadata": {
        "id": "ae422934",
        "outputId": "5c7b3ef1-3957-4037-a714-bbc526a04a0c",
        "colab": {
          "base_uri": "https://localhost:8080/",
          "height": 176
        }
      },
      "outputs": [
        {
          "output_type": "execute_result",
          "data": {
            "text/plain": [
              "Legendary\n",
              "0    735\n",
              "1     65\n",
              "Name: count, dtype: int64"
            ],
            "text/html": [
              "<div>\n",
              "<style scoped>\n",
              "    .dataframe tbody tr th:only-of-type {\n",
              "        vertical-align: middle;\n",
              "    }\n",
              "\n",
              "    .dataframe tbody tr th {\n",
              "        vertical-align: top;\n",
              "    }\n",
              "\n",
              "    .dataframe thead th {\n",
              "        text-align: right;\n",
              "    }\n",
              "</style>\n",
              "<table border=\"1\" class=\"dataframe\">\n",
              "  <thead>\n",
              "    <tr style=\"text-align: right;\">\n",
              "      <th></th>\n",
              "      <th>count</th>\n",
              "    </tr>\n",
              "    <tr>\n",
              "      <th>Legendary</th>\n",
              "      <th></th>\n",
              "    </tr>\n",
              "  </thead>\n",
              "  <tbody>\n",
              "    <tr>\n",
              "      <th>0</th>\n",
              "      <td>735</td>\n",
              "    </tr>\n",
              "    <tr>\n",
              "      <th>1</th>\n",
              "      <td>65</td>\n",
              "    </tr>\n",
              "  </tbody>\n",
              "</table>\n",
              "</div><br><label><b>dtype:</b> int64</label>"
            ]
          },
          "metadata": {},
          "execution_count": 12
        }
      ],
      "source": [
        "y.value_counts()"
      ]
    },
    {
      "cell_type": "code",
      "execution_count": 13,
      "id": "9f08e314",
      "metadata": {
        "ExecuteTime": {
          "end_time": "2021-10-24T20:18:20.023876Z",
          "start_time": "2021-10-24T20:18:20.018390Z"
        },
        "id": "9f08e314",
        "outputId": "ebc58ea3-c7b3-4cc2-938a-8ac267a4eebf",
        "colab": {
          "base_uri": "https://localhost:8080/",
          "height": 176
        }
      },
      "outputs": [
        {
          "output_type": "execute_result",
          "data": {
            "text/plain": [
              "Legendary\n",
              "0    0.91875\n",
              "1    0.08125\n",
              "Name: proportion, dtype: float64"
            ],
            "text/html": [
              "<div>\n",
              "<style scoped>\n",
              "    .dataframe tbody tr th:only-of-type {\n",
              "        vertical-align: middle;\n",
              "    }\n",
              "\n",
              "    .dataframe tbody tr th {\n",
              "        vertical-align: top;\n",
              "    }\n",
              "\n",
              "    .dataframe thead th {\n",
              "        text-align: right;\n",
              "    }\n",
              "</style>\n",
              "<table border=\"1\" class=\"dataframe\">\n",
              "  <thead>\n",
              "    <tr style=\"text-align: right;\">\n",
              "      <th></th>\n",
              "      <th>proportion</th>\n",
              "    </tr>\n",
              "    <tr>\n",
              "      <th>Legendary</th>\n",
              "      <th></th>\n",
              "    </tr>\n",
              "  </thead>\n",
              "  <tbody>\n",
              "    <tr>\n",
              "      <th>0</th>\n",
              "      <td>0.91875</td>\n",
              "    </tr>\n",
              "    <tr>\n",
              "      <th>1</th>\n",
              "      <td>0.08125</td>\n",
              "    </tr>\n",
              "  </tbody>\n",
              "</table>\n",
              "</div><br><label><b>dtype:</b> float64</label>"
            ]
          },
          "metadata": {},
          "execution_count": 13
        }
      ],
      "source": [
        "y.value_counts(normalize=True)"
      ]
    },
    {
      "cell_type": "markdown",
      "id": "794932ac",
      "metadata": {
        "id": "794932ac"
      },
      "source": [
        "# Make some default pipeline"
      ]
    },
    {
      "cell_type": "code",
      "execution_count": 14,
      "id": "1ca1083b",
      "metadata": {
        "ExecuteTime": {
          "end_time": "2021-10-24T20:18:25.238240Z",
          "start_time": "2021-10-24T20:18:24.565781Z"
        },
        "id": "1ca1083b",
        "colab": {
          "base_uri": "https://localhost:8080/",
          "height": 378
        },
        "outputId": "212f6e0b-8437-46c9-ba58-3213449df522"
      },
      "outputs": [
        {
          "output_type": "error",
          "ename": "ModuleNotFoundError",
          "evalue": "No module named 'category_encoders'",
          "traceback": [
            "\u001b[0;31m---------------------------------------------------------------------------\u001b[0m",
            "\u001b[0;31mModuleNotFoundError\u001b[0m                       Traceback (most recent call last)",
            "\u001b[0;32m<ipython-input-14-04391720acc2>\u001b[0m in \u001b[0;36m<cell line: 4>\u001b[0;34m()\u001b[0m\n\u001b[1;32m      2\u001b[0m \u001b[0;32mfrom\u001b[0m \u001b[0msklearn\u001b[0m\u001b[0;34m.\u001b[0m\u001b[0mpipeline\u001b[0m \u001b[0;32mimport\u001b[0m \u001b[0mPipeline\u001b[0m\u001b[0;34m\u001b[0m\u001b[0;34m\u001b[0m\u001b[0m\n\u001b[1;32m      3\u001b[0m \u001b[0;32mfrom\u001b[0m \u001b[0msklearn\u001b[0m\u001b[0;34m.\u001b[0m\u001b[0mpreprocessing\u001b[0m \u001b[0;32mimport\u001b[0m \u001b[0mPolynomialFeatures\u001b[0m\u001b[0;34m,\u001b[0m \u001b[0mStandardScaler\u001b[0m\u001b[0;34m\u001b[0m\u001b[0;34m\u001b[0m\u001b[0m\n\u001b[0;32m----> 4\u001b[0;31m \u001b[0;32mfrom\u001b[0m \u001b[0mcategory_encoders\u001b[0m\u001b[0;34m.\u001b[0m\u001b[0mleave_one_out\u001b[0m \u001b[0;32mimport\u001b[0m \u001b[0mLeaveOneOutEncoder\u001b[0m\u001b[0;34m\u001b[0m\u001b[0;34m\u001b[0m\u001b[0m\n\u001b[0m\u001b[1;32m      5\u001b[0m \u001b[0;32mfrom\u001b[0m \u001b[0msklearn\u001b[0m\u001b[0;34m.\u001b[0m\u001b[0msvm\u001b[0m \u001b[0;32mimport\u001b[0m \u001b[0mSVC\u001b[0m\u001b[0;34m\u001b[0m\u001b[0;34m\u001b[0m\u001b[0m\n\u001b[1;32m      6\u001b[0m \u001b[0;32mfrom\u001b[0m \u001b[0msklearn\u001b[0m\u001b[0;34m.\u001b[0m\u001b[0mmodel_selection\u001b[0m \u001b[0;32mimport\u001b[0m \u001b[0mcross_validate\u001b[0m\u001b[0;34m\u001b[0m\u001b[0;34m\u001b[0m\u001b[0m\n",
            "\u001b[0;31mModuleNotFoundError\u001b[0m: No module named 'category_encoders'",
            "",
            "\u001b[0;31m---------------------------------------------------------------------------\u001b[0;32m\nNOTE: If your import is failing due to a missing package, you can\nmanually install dependencies using either !pip or !apt.\n\nTo view examples of installing some common dependencies, click the\n\"Open Examples\" button below.\n\u001b[0;31m---------------------------------------------------------------------------\u001b[0m\n"
          ],
          "errorDetails": {
            "actions": [
              {
                "action": "open_url",
                "actionText": "Open Examples",
                "url": "/notebooks/snippets/importing_libraries.ipynb"
              }
            ]
          }
        }
      ],
      "source": [
        "from sklearn.feature_selection import SelectKBest, SelectPercentile\n",
        "from sklearn.pipeline import Pipeline\n",
        "from sklearn.preprocessing import PolynomialFeatures, StandardScaler\n",
        "from category_encoders.leave_one_out import LeaveOneOutEncoder\n",
        "from sklearn.svm import SVC\n",
        "from sklearn.model_selection import cross_validate\n",
        "import sklearn"
      ]
    },
    {
      "cell_type": "code",
      "execution_count": null,
      "id": "f9abafe5",
      "metadata": {
        "id": "f9abafe5"
      },
      "outputs": [],
      "source": [
        "data.head(2)"
      ]
    },
    {
      "cell_type": "code",
      "execution_count": null,
      "id": "a422a95b",
      "metadata": {
        "ExecuteTime": {
          "end_time": "2021-10-24T20:18:25.243494Z",
          "start_time": "2021-10-24T20:18:25.240399Z"
        },
        "id": "a422a95b"
      },
      "outputs": [],
      "source": [
        "# define cat_cols\n",
        "\n",
        "cat_cols = ['Type 1', 'Type 2']\n",
        "\n",
        "default_pipeline = Pipeline([\n",
        "    ('cat_encoder_', LeaveOneOutEncoder(cols=cat_cols)),\n",
        "    ('scaler_', StandardScaler()),\n",
        "    ('model_', SVC(kernel='linear'))]\n",
        ")"
      ]
    },
    {
      "cell_type": "code",
      "execution_count": null,
      "id": "7711c467",
      "metadata": {
        "ExecuteTime": {
          "end_time": "2021-10-24T20:18:31.094311Z",
          "start_time": "2021-10-24T20:18:30.089861Z"
        },
        "id": "7711c467"
      },
      "outputs": [],
      "source": [
        "cv_res1 = cross_validate(default_pipeline,\n",
        "                        X,\n",
        "                        y,\n",
        "                        cv=5,\n",
        "                        scoring='f1',\n",
        "                        n_jobs=-1,\n",
        "                        return_train_score=True\n",
        "                       )"
      ]
    },
    {
      "cell_type": "code",
      "execution_count": null,
      "id": "70276735",
      "metadata": {
        "ExecuteTime": {
          "end_time": "2021-10-24T20:18:33.772638Z",
          "start_time": "2021-10-24T20:18:33.767530Z"
        },
        "id": "70276735"
      },
      "outputs": [],
      "source": [
        "cv_res1"
      ]
    },
    {
      "cell_type": "code",
      "execution_count": null,
      "id": "30ac9f47",
      "metadata": {
        "ExecuteTime": {
          "end_time": "2021-10-24T20:19:02.086505Z",
          "start_time": "2021-10-24T20:19:02.082394Z"
        },
        "id": "30ac9f47"
      },
      "outputs": [],
      "source": [
        "cv_res1['test_score'].mean()"
      ]
    },
    {
      "cell_type": "markdown",
      "id": "66fd75f0",
      "metadata": {
        "id": "66fd75f0"
      },
      "source": [
        "# Make pipeline more complicated"
      ]
    },
    {
      "cell_type": "code",
      "execution_count": null,
      "id": "1782aa47",
      "metadata": {
        "ExecuteTime": {
          "end_time": "2021-10-24T20:19:08.097819Z",
          "start_time": "2021-10-24T20:19:08.094458Z"
        },
        "id": "1782aa47"
      },
      "outputs": [],
      "source": [
        "# difficult pipeline\n",
        "\n",
        "pipe_dif = Pipeline([\n",
        "    ('cat_encoder_', LeaveOneOutEncoder(cols=cat_cols)),\n",
        "    ('poly_featurizer_', PolynomialFeatures(degree=4)),\n",
        "    ('scaler_', StandardScaler()),\n",
        "    ('model_', SVC(kernel='linear'))]\n",
        ")"
      ]
    },
    {
      "cell_type": "code",
      "execution_count": null,
      "id": "d79125ad",
      "metadata": {
        "ExecuteTime": {
          "end_time": "2021-10-24T20:19:11.534278Z",
          "start_time": "2021-10-24T20:19:10.844040Z"
        },
        "id": "d79125ad"
      },
      "outputs": [],
      "source": [
        "cv_res2 = cross_validate(pipe_dif,\n",
        "                        X,\n",
        "                        y,\n",
        "                        cv=5,\n",
        "                        scoring='f1',\n",
        "                        n_jobs=-1,\n",
        "                        return_train_score=True\n",
        "                       )\n",
        "\n",
        "cv_res2"
      ]
    },
    {
      "cell_type": "code",
      "execution_count": null,
      "id": "fe3b2b1e",
      "metadata": {
        "ExecuteTime": {
          "end_time": "2021-10-24T20:19:28.657790Z",
          "start_time": "2021-10-24T20:19:28.653899Z"
        },
        "id": "fe3b2b1e"
      },
      "outputs": [],
      "source": [
        "cv_res2['test_score'].mean()"
      ]
    },
    {
      "cell_type": "markdown",
      "id": "2f7f40f9",
      "metadata": {
        "ExecuteTime": {
          "end_time": "2021-10-24T13:09:24.240561Z",
          "start_time": "2021-10-24T13:09:24.235947Z"
        },
        "id": "2f7f40f9"
      },
      "source": [
        "train_score - просто класс ! модель получилась сложная, только очевидно переобученная ...\n",
        "\n",
        "согласны, узнали ?\n"
      ]
    },
    {
      "cell_type": "markdown",
      "id": "b4c2faae",
      "metadata": {
        "id": "b4c2faae"
      },
      "source": [
        "# Introduce feature selectors"
      ]
    },
    {
      "cell_type": "code",
      "execution_count": null,
      "id": "f0ffcfa5",
      "metadata": {
        "ExecuteTime": {
          "end_time": "2021-10-24T20:19:41.314430Z",
          "start_time": "2021-10-24T20:19:41.311959Z"
        },
        "id": "f0ffcfa5"
      },
      "outputs": [],
      "source": [
        "data_tr = pipe_dif[:-1]"
      ]
    },
    {
      "cell_type": "code",
      "execution_count": null,
      "id": "e549da75",
      "metadata": {
        "ExecuteTime": {
          "end_time": "2021-10-24T20:19:41.681665Z",
          "start_time": "2021-10-24T20:19:41.675526Z"
        },
        "id": "e549da75"
      },
      "outputs": [],
      "source": [
        "data_tr"
      ]
    },
    {
      "cell_type": "code",
      "execution_count": null,
      "id": "fbeb97f4",
      "metadata": {
        "id": "fbeb97f4"
      },
      "outputs": [],
      "source": [
        "X.shape"
      ]
    },
    {
      "cell_type": "code",
      "execution_count": null,
      "id": "5f8b606c",
      "metadata": {
        "ExecuteTime": {
          "end_time": "2021-10-24T20:19:42.141996Z",
          "start_time": "2021-10-24T20:19:42.095336Z"
        },
        "id": "5f8b606c"
      },
      "outputs": [],
      "source": [
        "X_tr = data_tr.fit_transform(X, y)\n",
        "print(f'data shape after transformation is {X_tr.shape}')"
      ]
    },
    {
      "cell_type": "markdown",
      "id": "65b0e2d1",
      "metadata": {
        "id": "65b0e2d1"
      },
      "source": [
        "1k признаков - многовато, добавим в пайплайн селектор"
      ]
    },
    {
      "cell_type": "markdown",
      "id": "441211f2",
      "metadata": {
        "id": "441211f2"
      },
      "source": [
        "## Фильтрационные методы\n",
        "\n",
        "Суть таких методов в том, чтобы для каждого признака посчитать некоторую метрику \"связи\" с целевым признаком. И в результате оставить топ-K признаков согласно выбранной метрике.\n",
        "\n",
        "В том числе на лекции обсуждались:\n",
        "\n",
        " - статистика хи-квадрат\n",
        " - метрика mutual information"
      ]
    },
    {
      "cell_type": "code",
      "execution_count": null,
      "id": "17ab83eb",
      "metadata": {
        "ExecuteTime": {
          "end_time": "2021-10-24T20:19:58.410888Z",
          "start_time": "2021-10-24T20:19:58.408446Z"
        },
        "id": "17ab83eb"
      },
      "outputs": [],
      "source": [
        "from sklearn.feature_selection import f_classif, chi2, mutual_info_classif"
      ]
    },
    {
      "cell_type": "code",
      "execution_count": null,
      "id": "1322e375",
      "metadata": {
        "ExecuteTime": {
          "end_time": "2021-10-24T20:20:00.536469Z",
          "start_time": "2021-10-24T20:20:00.532952Z"
        },
        "id": "1322e375"
      },
      "outputs": [],
      "source": [
        "k_best = 30\n",
        "\n",
        "pipe = Pipeline([\n",
        "    ('cat_encoder_', LeaveOneOutEncoder(cols=cat_cols)),\n",
        "    ('poly_featurizer_', PolynomialFeatures(degree=4)),\n",
        "    ('scaler_', StandardScaler()),\n",
        "    ('selector_', SelectKBest(score_func=mutual_info_classif, k=k_best)),\n",
        "    ('model_', SVC(kernel='linear'))]\n",
        ")"
      ]
    },
    {
      "cell_type": "code",
      "execution_count": null,
      "id": "25ee7c1e",
      "metadata": {
        "ExecuteTime": {
          "end_time": "2021-10-24T20:20:18.022535Z",
          "start_time": "2021-10-24T20:20:06.144920Z"
        },
        "id": "25ee7c1e"
      },
      "outputs": [],
      "source": [
        "cv_res = cross_validate(pipe, X, y, cv=5, scoring='f1', return_train_score=True)\n",
        "cv_res"
      ]
    },
    {
      "cell_type": "code",
      "execution_count": null,
      "id": "9fea36e8",
      "metadata": {
        "ExecuteTime": {
          "end_time": "2021-10-24T20:20:41.813570Z",
          "start_time": "2021-10-24T20:20:41.809915Z"
        },
        "id": "9fea36e8"
      },
      "outputs": [],
      "source": [
        "# k best нужно подбирать\n",
        "\n",
        "cv_res['test_score'].mean()"
      ]
    },
    {
      "cell_type": "markdown",
      "id": "10d4f624",
      "metadata": {
        "id": "10d4f624"
      },
      "source": [
        "## Жадный метод отбора"
      ]
    },
    {
      "cell_type": "code",
      "execution_count": null,
      "id": "43dc3423",
      "metadata": {
        "ExecuteTime": {
          "end_time": "2021-10-24T20:20:53.902156Z",
          "start_time": "2021-10-24T20:20:53.899723Z"
        },
        "id": "43dc3423"
      },
      "outputs": [],
      "source": [
        "from sklearn.feature_selection import RFE\n",
        "from sklearn.linear_model import LogisticRegression"
      ]
    },
    {
      "cell_type": "code",
      "execution_count": null,
      "id": "1e43160d",
      "metadata": {
        "ExecuteTime": {
          "end_time": "2021-10-24T20:25:10.673925Z",
          "start_time": "2021-10-24T20:25:10.671185Z"
        },
        "id": "1e43160d"
      },
      "outputs": [],
      "source": [
        "rfe = RFE(LogisticRegression(max_iter=1000), n_features_to_select=k_best, step=30)"
      ]
    },
    {
      "cell_type": "code",
      "execution_count": null,
      "id": "cb0f19e0",
      "metadata": {
        "ExecuteTime": {
          "end_time": "2021-10-24T20:25:12.544188Z",
          "start_time": "2021-10-24T20:25:12.540659Z"
        },
        "id": "cb0f19e0"
      },
      "outputs": [],
      "source": [
        "X_tr.shape"
      ]
    },
    {
      "cell_type": "code",
      "execution_count": null,
      "id": "2ebc1020",
      "metadata": {
        "ExecuteTime": {
          "end_time": "2021-10-24T20:25:35.091025Z",
          "start_time": "2021-10-24T20:25:32.892926Z"
        },
        "id": "2ebc1020"
      },
      "outputs": [],
      "source": [
        "res = rfe.fit_transform(X_tr, y)\n",
        "display(res.shape)\n",
        "res"
      ]
    },
    {
      "cell_type": "code",
      "execution_count": null,
      "id": "f876207a",
      "metadata": {
        "ExecuteTime": {
          "end_time": "2021-10-24T20:27:58.635555Z",
          "start_time": "2021-10-24T20:27:58.632190Z"
        },
        "id": "f876207a"
      },
      "outputs": [],
      "source": [
        "pipe_rfe = Pipeline([\n",
        "    ('cat_encoder_', LeaveOneOutEncoder(cols=cat_cols)),\n",
        "    ('poly_featurizer_', PolynomialFeatures(degree=4)),\n",
        "    ('scaler_', StandardScaler()),\n",
        "    ('selector_', RFE(LogisticRegression(max_iter=1000),\n",
        "                      n_features_to_select=30,\n",
        "                      step=30\n",
        "                     )),\n",
        "    ('model_', SVC(kernel='linear'))])"
      ]
    },
    {
      "cell_type": "code",
      "execution_count": null,
      "id": "17147cb6",
      "metadata": {
        "ExecuteTime": {
          "end_time": "2021-10-24T20:28:32.410710Z",
          "start_time": "2021-10-24T20:28:22.819441Z"
        },
        "id": "17147cb6"
      },
      "outputs": [],
      "source": [
        "cv_res3 = cross_validate(pipe_rfe, X, y, cv=5, scoring='f1', return_train_score=True)\n",
        "cv_res3"
      ]
    },
    {
      "cell_type": "code",
      "execution_count": null,
      "id": "9dd127a8",
      "metadata": {
        "ExecuteTime": {
          "end_time": "2021-10-24T20:28:49.063014Z",
          "start_time": "2021-10-24T20:28:49.059094Z"
        },
        "id": "9dd127a8"
      },
      "outputs": [],
      "source": [
        "cv_res3['test_score'].mean()"
      ]
    },
    {
      "cell_type": "markdown",
      "id": "aba8a949",
      "metadata": {
        "id": "aba8a949"
      },
      "source": [
        "## С помощью L1 регуляризации"
      ]
    },
    {
      "cell_type": "code",
      "execution_count": null,
      "id": "284511b8",
      "metadata": {
        "ExecuteTime": {
          "end_time": "2021-10-24T20:21:04.267409Z",
          "start_time": "2021-10-24T20:21:04.265012Z"
        },
        "id": "284511b8"
      },
      "outputs": [],
      "source": [
        "from sklearn.feature_selection import SelectFromModel"
      ]
    },
    {
      "cell_type": "code",
      "execution_count": null,
      "id": "09825d6b",
      "metadata": {
        "ExecuteTime": {
          "end_time": "2021-10-24T20:21:05.214768Z",
          "start_time": "2021-10-24T20:21:05.212084Z"
        },
        "id": "09825d6b"
      },
      "outputs": [],
      "source": [
        "sel = SelectFromModel(LogisticRegression(penalty='l1', max_iter=1000, solver='liblinear'), threshold=1e-5)"
      ]
    },
    {
      "cell_type": "code",
      "execution_count": null,
      "id": "0b404043",
      "metadata": {
        "ExecuteTime": {
          "end_time": "2021-10-24T20:21:06.595072Z",
          "start_time": "2021-10-24T20:21:06.468695Z"
        },
        "id": "0b404043"
      },
      "outputs": [],
      "source": [
        "# пример\n",
        "\n",
        "res = sel.fit_transform(X_tr, y)\n",
        "display(res.shape)\n",
        "res"
      ]
    },
    {
      "cell_type": "code",
      "execution_count": null,
      "id": "029d0335",
      "metadata": {
        "ExecuteTime": {
          "end_time": "2021-10-24T20:21:07.682619Z",
          "start_time": "2021-10-24T20:21:07.679172Z"
        },
        "id": "029d0335"
      },
      "outputs": [],
      "source": [
        "pipe_lasso =  Pipeline([\n",
        "    ('cat_encoder_', LeaveOneOutEncoder(cols=cat_cols)),\n",
        "    ('poly_featurizer_', PolynomialFeatures(degree=4)),\n",
        "    ('scaler_', StandardScaler()),\n",
        "    ('selector_', SelectFromModel(LogisticRegression(penalty='l1', max_iter=1000, solver='liblinear'),\n",
        "                                  threshold=1e-5)),\n",
        "    ('model_', SVC(kernel='linear'))])"
      ]
    },
    {
      "cell_type": "code",
      "execution_count": null,
      "id": "fd37cab6",
      "metadata": {
        "ExecuteTime": {
          "end_time": "2021-10-24T20:21:11.587486Z",
          "start_time": "2021-10-24T20:21:11.070842Z"
        },
        "id": "fd37cab6"
      },
      "outputs": [],
      "source": [
        "cv_res4 = cross_validate(pipe_lasso, X, y, cv=5, scoring='f1', return_train_score=True)\n",
        "cv_res4"
      ]
    },
    {
      "cell_type": "code",
      "execution_count": null,
      "id": "e4317544",
      "metadata": {
        "id": "e4317544"
      },
      "outputs": [],
      "source": [
        "cv_res4['test_score'].mean()"
      ]
    },
    {
      "cell_type": "markdown",
      "id": "499ff355",
      "metadata": {
        "id": "499ff355"
      },
      "source": [
        "# Нелинейные классификаторы\n",
        "\n",
        "- SVM с ядром\n",
        "- Наивный байесовский классификатор\n",
        "- Метод k ближайших соседей"
      ]
    },
    {
      "cell_type": "code",
      "execution_count": null,
      "id": "e5719e9d",
      "metadata": {
        "id": "e5719e9d"
      },
      "outputs": [],
      "source": [
        "pipe_lasso2 =  Pipeline([\n",
        "    ('cat_encoder_', LeaveOneOutEncoder(cols=cat_cols)),\n",
        "    ('poly_featurizer_', PolynomialFeatures(degree=4)),\n",
        "    ('scaler_', StandardScaler()),\n",
        "    ('selector_', SelectFromModel(LogisticRegression(penalty='l1', max_iter=1000, solver='liblinear'),\n",
        "                                  threshold=1e-5)),\n",
        "    ('model_', SVC(kernel='rbf'))])"
      ]
    },
    {
      "cell_type": "code",
      "execution_count": null,
      "id": "14f07ef7",
      "metadata": {
        "id": "14f07ef7"
      },
      "outputs": [],
      "source": [
        "cv_res5 = cross_validate(pipe_lasso2, X, y, cv=5, scoring='f1', return_train_score=True)\n",
        "cv_res5"
      ]
    },
    {
      "cell_type": "code",
      "execution_count": null,
      "id": "509f6dd8",
      "metadata": {
        "id": "509f6dd8"
      },
      "outputs": [],
      "source": [
        "cv_res5['test_score'].mean()"
      ]
    },
    {
      "cell_type": "markdown",
      "id": "989d957c",
      "metadata": {
        "id": "989d957c"
      },
      "source": [
        "Обучите наивный байесовский классификатор и метод k ближайших соседей вместо SVM в пайплайне выше."
      ]
    },
    {
      "cell_type": "code",
      "execution_count": 17,
      "id": "7a26c44f",
      "metadata": {
        "id": "7a26c44f"
      },
      "outputs": [],
      "source": [
        "from sklearn.neighbors import KNeighborsClassifier\n",
        "from sklearn.naive_bayes import MultinomialNB, GaussianNB"
      ]
    },
    {
      "cell_type": "code",
      "execution_count": 18,
      "id": "74ce0abb",
      "metadata": {
        "id": "74ce0abb",
        "colab": {
          "base_uri": "https://localhost:8080/",
          "height": 207
        },
        "outputId": "73cdb8b1-23af-4844-b393-9075d530563a"
      },
      "outputs": [
        {
          "output_type": "error",
          "ename": "NameError",
          "evalue": "name 'LeaveOneOutEncoder' is not defined",
          "traceback": [
            "\u001b[0;31m---------------------------------------------------------------------------\u001b[0m",
            "\u001b[0;31mNameError\u001b[0m                                 Traceback (most recent call last)",
            "\u001b[0;32m<ipython-input-18-4cabaaf2224b>\u001b[0m in \u001b[0;36m<cell line: 2>\u001b[0;34m()\u001b[0m\n\u001b[1;32m      1\u001b[0m \u001b[0;31m# your code here\u001b[0m\u001b[0;34m\u001b[0m\u001b[0;34m\u001b[0m\u001b[0m\n\u001b[1;32m      2\u001b[0m pipe_knn =  Pipeline([\n\u001b[0;32m----> 3\u001b[0;31m     \u001b[0;34m(\u001b[0m\u001b[0;34m'cat_encoder_'\u001b[0m\u001b[0;34m,\u001b[0m \u001b[0mLeaveOneOutEncoder\u001b[0m\u001b[0;34m(\u001b[0m\u001b[0mcols\u001b[0m\u001b[0;34m=\u001b[0m\u001b[0mcat_cols\u001b[0m\u001b[0;34m)\u001b[0m\u001b[0;34m)\u001b[0m\u001b[0;34m,\u001b[0m\u001b[0;34m\u001b[0m\u001b[0;34m\u001b[0m\u001b[0m\n\u001b[0m\u001b[1;32m      4\u001b[0m     \u001b[0;34m(\u001b[0m\u001b[0;34m'poly_featurizer_'\u001b[0m\u001b[0;34m,\u001b[0m \u001b[0mPolynomialFeatures\u001b[0m\u001b[0;34m(\u001b[0m\u001b[0mdegree\u001b[0m\u001b[0;34m=\u001b[0m\u001b[0;36m4\u001b[0m\u001b[0;34m)\u001b[0m\u001b[0;34m)\u001b[0m\u001b[0;34m,\u001b[0m\u001b[0;34m\u001b[0m\u001b[0;34m\u001b[0m\u001b[0m\n\u001b[1;32m      5\u001b[0m     \u001b[0;34m(\u001b[0m\u001b[0;34m'scaler_'\u001b[0m\u001b[0;34m,\u001b[0m \u001b[0mStandardScaler\u001b[0m\u001b[0;34m(\u001b[0m\u001b[0;34m)\u001b[0m\u001b[0;34m)\u001b[0m\u001b[0;34m,\u001b[0m\u001b[0;34m\u001b[0m\u001b[0;34m\u001b[0m\u001b[0m\n",
            "\u001b[0;31mNameError\u001b[0m: name 'LeaveOneOutEncoder' is not defined"
          ]
        }
      ],
      "source": [
        "# your code here\n",
        "pipe_knn =  Pipeline([\n",
        "    ('cat_encoder_', LeaveOneOutEncoder(cols=cat_cols)),\n",
        "    ('poly_featurizer_', PolynomialFeatures(degree=4)),\n",
        "    ('scaler_', StandardScaler()),\n",
        "    ('selector_', SelectFromModel(LogisticRegression(penalty='l1', max_iter=1000, solver='liblinear'),\n",
        "                                  threshold=1e-5)),\n",
        "    ('model_', KNeighborsClassifier())])"
      ]
    },
    {
      "cell_type": "code",
      "execution_count": null,
      "id": "dd8aed7b",
      "metadata": {
        "id": "dd8aed7b"
      },
      "outputs": [],
      "source": [
        "pipe_knn"
      ]
    },
    {
      "cell_type": "code",
      "execution_count": null,
      "id": "99f75ae4",
      "metadata": {
        "id": "99f75ae4"
      },
      "outputs": [],
      "source": [
        "cv_res5 = cross_validate(pipe_knn, X, y, cv=5, scoring='f1', return_train_score=True)\n",
        "cv_res5"
      ]
    },
    {
      "cell_type": "code",
      "execution_count": null,
      "id": "a0f59897",
      "metadata": {
        "id": "a0f59897"
      },
      "outputs": [],
      "source": [
        "cv_res5['test_score'].mean() #50"
      ]
    },
    {
      "cell_type": "markdown",
      "id": "60c4f766",
      "metadata": {
        "id": "60c4f766"
      },
      "source": [
        "С помощью GridSearch подберите гиперпараметр KNN (число соседей) внутри пайплайна."
      ]
    },
    {
      "cell_type": "code",
      "execution_count": null,
      "id": "279b636a",
      "metadata": {
        "id": "279b636a"
      },
      "outputs": [],
      "source": [
        "# your code here\n",
        "from sklearn.model_selection import GridSearchCV"
      ]
    },
    {
      "cell_type": "code",
      "execution_count": null,
      "id": "eb67eddc",
      "metadata": {
        "id": "eb67eddc"
      },
      "outputs": [],
      "source": [
        "pipe_knn =  Pipeline([\n",
        "    ('cat_encoder_', LeaveOneOutEncoder(cols=cat_cols)),\n",
        "    ('poly_featurizer_', PolynomialFeatures(degree=4)),\n",
        "    ('scaler_', StandardScaler()),\n",
        "    ('selector_', SelectFromModel(LogisticRegression(penalty='l1', max_iter=1000, solver='liblinear'),\n",
        "                                  threshold=1e-5)),\n",
        "    ('gridsearch_', GridSearchCV(estimator=KNeighborsClassifier(),\n",
        "             param_grid={'n_neighbors' : range(1,51)}))])"
      ]
    },
    {
      "cell_type": "code",
      "execution_count": null,
      "id": "8bcac670",
      "metadata": {
        "id": "8bcac670"
      },
      "outputs": [],
      "source": [
        "pipe_knn =  Pipeline([\n",
        "    ('cat_encoder_', LeaveOneOutEncoder(cols=cat_cols)),\n",
        "    ('poly_featurizer_', PolynomialFeatures(degree=4)),\n",
        "    ('scaler_', StandardScaler()),\n",
        "    ('selector_', SelectFromModel(LogisticRegression(penalty='l1', max_iter=1000, solver='liblinear'),\n",
        "                                  threshold=1e-5)),\n",
        "    ('gridsearch_', GridSearchCV(estimator=SVC(kernel='rbf'),\n",
        "             param_grid={'C' : range(1, 5)}))])"
      ]
    },
    {
      "cell_type": "code",
      "execution_count": null,
      "id": "90be50ea",
      "metadata": {
        "id": "90be50ea"
      },
      "outputs": [],
      "source": [
        "cv_res5 = cross_validate(pipe_knn, X, y, cv=5, scoring='f1', return_train_score=True)\n",
        "cv_res5"
      ]
    },
    {
      "cell_type": "code",
      "execution_count": null,
      "id": "46365a06",
      "metadata": {
        "id": "46365a06"
      },
      "outputs": [],
      "source": [
        "cv_res5['test_score'].mean()"
      ]
    },
    {
      "cell_type": "markdown",
      "id": "7c18a3ad",
      "metadata": {
        "id": "7c18a3ad"
      },
      "source": [
        "# Сохранение и загрузка модели"
      ]
    },
    {
      "cell_type": "code",
      "execution_count": 15,
      "id": "b533a422",
      "metadata": {
        "id": "b533a422"
      },
      "outputs": [],
      "source": [
        "import pickle #консервы"
      ]
    },
    {
      "cell_type": "markdown",
      "id": "24b4fdc2",
      "metadata": {
        "id": "24b4fdc2"
      },
      "source": [
        "Обучим лучшую модель на всех данных и сохраним её в файл."
      ]
    },
    {
      "cell_type": "code",
      "source": [
        "#your code here\n",
        "\n",
        "model = pipe_knn"
      ],
      "metadata": {
        "id": "0BE5OqnG8kwh"
      },
      "id": "0BE5OqnG8kwh",
      "execution_count": null,
      "outputs": []
    },
    {
      "cell_type": "code",
      "execution_count": null,
      "id": "17f6bf9d",
      "metadata": {
        "id": "17f6bf9d"
      },
      "outputs": [],
      "source": [
        "filename = 'best_model.sav'\n",
        "pickle.dump(model, open(filename, 'wb'))"
      ]
    },
    {
      "cell_type": "markdown",
      "id": "89f7ce8f",
      "metadata": {
        "id": "89f7ce8f"
      },
      "source": [
        "Загрузка модели из файла"
      ]
    },
    {
      "cell_type": "code",
      "execution_count": null,
      "id": "d0e7371a",
      "metadata": {
        "id": "d0e7371a"
      },
      "outputs": [],
      "source": [
        "loaded_model = pickle.load(open(filename, 'rb'))"
      ]
    },
    {
      "cell_type": "markdown",
      "id": "b2ca11ab",
      "metadata": {
        "id": "b2ca11ab"
      },
      "source": [
        "Второй вариант"
      ]
    },
    {
      "cell_type": "code",
      "execution_count": null,
      "id": "f1213313",
      "metadata": {
        "id": "f1213313"
      },
      "outputs": [],
      "source": [
        "import joblib\n",
        "\n",
        "filename = 'best_model.sav'\n",
        "joblib.dump(model, filename)\n",
        "\n",
        "loaded_model = joblib.load(filename)"
      ]
    },
    {
      "cell_type": "markdown",
      "id": "a91a9627",
      "metadata": {
        "id": "a91a9627"
      },
      "source": [
        "Почитать подробнее про сохранение модели в файл и загрузку из файла тут: https://machinelearningmastery.com/save-load-machine-learning-models-python-scikit-learn/"
      ]
    }
  ],
  "metadata": {
    "colab": {
      "provenance": []
    },
    "kernelspec": {
      "display_name": "Python 3 (ipykernel)",
      "language": "python",
      "name": "python3"
    },
    "language_info": {
      "codemirror_mode": {
        "name": "ipython",
        "version": 3
      },
      "file_extension": ".py",
      "mimetype": "text/x-python",
      "name": "python",
      "nbconvert_exporter": "python",
      "pygments_lexer": "ipython3",
      "version": "3.9.7"
    },
    "toc": {
      "base_numbering": 1,
      "nav_menu": {},
      "number_sections": true,
      "sideBar": true,
      "skip_h1_title": false,
      "title_cell": "Table of Contents",
      "title_sidebar": "Contents",
      "toc_cell": false,
      "toc_position": {},
      "toc_section_display": true,
      "toc_window_display": false
    }
  },
  "nbformat": 4,
  "nbformat_minor": 5
}