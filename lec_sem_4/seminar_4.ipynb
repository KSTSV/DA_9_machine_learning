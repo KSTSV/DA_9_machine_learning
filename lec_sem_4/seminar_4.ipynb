{
  "cells": [
    {
      "cell_type": "markdown",
      "id": "425068ca",
      "metadata": {
        "id": "425068ca"
      },
      "source": [
        "#  План семинара\n",
        "\n",
        "1. Линейный классификатор в задаче бинарной классификации\n",
        "2. Кодирование категориальных признаков"
      ]
    },
    {
      "cell_type": "markdown",
      "id": "23f21f2d",
      "metadata": {
        "id": "23f21f2d"
      },
      "source": [
        "## Задача бинарной классификации\n",
        "\n",
        "### Логистическая регрессия\n",
        "\n",
        "y = {-1, 1}\n",
        "\n",
        "$b(x) = \\sigma(<w,x>)$,\n",
        "\n",
        "где $\\sigma(z) = \\frac{1}{1 + e^{-z}}$\n",
        "\n",
        "То есть, мы предсказываем $P(y_i = 1| X_i)$ - вероятность того, что наблюдение принадлежит классу +1\n",
        "\n",
        "Обучаем с помощью функционала: Максимального лог правдоподобия (флэшбек из статистики)\n",
        "\n",
        "$Q(w) = -\\Sigma_{i=0}^{n}(y_i*log(b(x_i)) + (1 - y_i)log(1 - b(x_i))) \\rightarrow min_w$\n",
        "\n"
      ]
    },
    {
      "cell_type": "code",
      "execution_count": 2,
      "id": "5b03c300",
      "metadata": {
        "id": "5b03c300"
      },
      "outputs": [],
      "source": [
        "import pandas as pd\n",
        "import numpy as np\n",
        "import seaborn as sns"
      ]
    },
    {
      "cell_type": "code",
      "execution_count": null,
      "id": "dc2ae7be",
      "metadata": {
        "id": "dc2ae7be"
      },
      "outputs": [],
      "source": [
        "np.random.seed(42)"
      ]
    },
    {
      "cell_type": "code",
      "execution_count": 5,
      "id": "ca549dd9",
      "metadata": {
        "id": "ca549dd9"
      },
      "outputs": [],
      "source": [
        "data = pd.read_csv(\n",
        "    \"https://raw.githubusercontent.com/KSTSV/DA_9_machine_learning/refs/heads/main/lec_sem_4/bike_buyers_clean.csv\"\n",
        ")"
      ]
    },
    {
      "cell_type": "code",
      "execution_count": null,
      "id": "7de85d74",
      "metadata": {
        "id": "7de85d74"
      },
      "outputs": [],
      "source": [
        "data"
      ]
    },
    {
      "cell_type": "markdown",
      "id": "0744a18c",
      "metadata": {
        "id": "0744a18c"
      },
      "source": [
        "# Обзор данных"
      ]
    },
    {
      "cell_type": "code",
      "execution_count": null,
      "id": "c846a338",
      "metadata": {
        "id": "c846a338"
      },
      "outputs": [],
      "source": [
        "# проверим типы колонок в датасете\n",
        "data.dtypes"
      ]
    },
    {
      "cell_type": "code",
      "execution_count": null,
      "id": "6a4f289e",
      "metadata": {
        "id": "6a4f289e"
      },
      "outputs": [],
      "source": [
        "X = data.iloc[:,:-1]\n",
        "X.drop(columns='ID', inplace=True)\n",
        "\n",
        "y = data['Purchased Bike']"
      ]
    },
    {
      "cell_type": "code",
      "execution_count": null,
      "id": "1790fbd0",
      "metadata": {
        "id": "1790fbd0"
      },
      "outputs": [],
      "source": [
        "y.value_counts()"
      ]
    },
    {
      "cell_type": "code",
      "execution_count": null,
      "id": "5c431d0d",
      "metadata": {
        "id": "5c431d0d"
      },
      "outputs": [],
      "source": [
        "num_cols = X.columns[X.dtypes == 'int64'].tolist()\n",
        "cat_cols = X.columns[X.dtypes == 'object']\n",
        "\n",
        "print(f\"We have {len(num_cols)} numeric columns: {', '.join(num_cols)}\")\n",
        "print(f\"And {len(cat_cols)} categorical columns: {', '.join(cat_cols)}\")"
      ]
    },
    {
      "cell_type": "code",
      "execution_count": null,
      "id": "4a849f7d",
      "metadata": {
        "id": "4a849f7d",
        "scrolled": false
      },
      "outputs": [],
      "source": [
        "for col in cat_cols:\n",
        "    print(col)\n",
        "    display(X[col].value_counts(normalize=True))\n",
        "    print()"
      ]
    },
    {
      "cell_type": "code",
      "execution_count": null,
      "id": "9384e126",
      "metadata": {
        "id": "9384e126"
      },
      "outputs": [],
      "source": [
        "# у нас есть категориальные переменные разных видов!\n",
        "\n",
        "binary_cols = cat_cols[X[cat_cols].nunique() == 2].tolist()\n",
        "ordinal_cols = ['Commute Distance', 'Education']\n",
        "cat_cols = cat_cols.difference(binary_cols + ordinal_cols).tolist()"
      ]
    },
    {
      "cell_type": "code",
      "execution_count": null,
      "id": "afb1fa61",
      "metadata": {
        "id": "afb1fa61",
        "scrolled": false
      },
      "outputs": [],
      "source": [
        "for col in num_cols:\n",
        "    print(col)\n",
        "    display(X[col].describe())\n",
        "    print()"
      ]
    },
    {
      "cell_type": "code",
      "execution_count": null,
      "id": "iYmxDDsJ0fRA",
      "metadata": {
        "id": "iYmxDDsJ0fRA"
      },
      "outputs": [],
      "source": [
        "X.describe()"
      ]
    },
    {
      "cell_type": "code",
      "execution_count": null,
      "id": "5abb0d94",
      "metadata": {
        "id": "5abb0d94"
      },
      "outputs": [],
      "source": [
        "# classes are balanced !\n",
        "y.value_counts(normalize=True)"
      ]
    },
    {
      "cell_type": "code",
      "execution_count": null,
      "id": "c47e44c2",
      "metadata": {
        "id": "c47e44c2"
      },
      "outputs": [],
      "source": [
        "# transform y to numeric column\n",
        "y = (y == 'Yes').astype(int)\n",
        "y"
      ]
    },
    {
      "cell_type": "markdown",
      "id": "97212af5",
      "metadata": {
        "id": "97212af5"
      },
      "source": [
        "# Подготовка данных"
      ]
    },
    {
      "cell_type": "markdown",
      "id": "3b99eecf",
      "metadata": {
        "id": "3b99eecf"
      },
      "source": [
        "## Кодирование категориальных признаков"
      ]
    },
    {
      "cell_type": "code",
      "execution_count": null,
      "id": "21c340d0",
      "metadata": {
        "id": "21c340d0"
      },
      "outputs": [],
      "source": [
        "# run if not installed yet\n",
        "\n",
        "!pip install category_encoders"
      ]
    },
    {
      "cell_type": "code",
      "execution_count": null,
      "id": "e9ef0b6b",
      "metadata": {
        "id": "e9ef0b6b"
      },
      "outputs": [],
      "source": [
        "from category_encoders.ordinal import OrdinalEncoder # LabelEncoder\n",
        "from category_encoders.one_hot import OneHotEncoder # OneHotEncoding\n",
        "from category_encoders.target_encoder import TargetEncoder # счетчики+сглаживание"
      ]
    },
    {
      "cell_type": "code",
      "execution_count": null,
      "id": "10f5241d",
      "metadata": {
        "id": "10f5241d"
      },
      "outputs": [],
      "source": [
        "X['Education'].unique()\n",
        "dict_our = {'Bachelors':2, 'Partial College':1}\n",
        "X['Education'].map(dict_our)"
      ]
    },
    {
      "cell_type": "code",
      "execution_count": null,
      "id": "e65d03fb",
      "metadata": {
        "id": "e65d03fb"
      },
      "outputs": [],
      "source": [
        "# Ordinal: from categories to numbers\n",
        "\n",
        "ord_enc = OrdinalEncoder()\n",
        "ord_enc.fit_transform(X['Education'])"
      ]
    },
    {
      "cell_type": "code",
      "execution_count": null,
      "id": "0cdc5709",
      "metadata": {
        "id": "0cdc5709",
        "scrolled": false
      },
      "outputs": [],
      "source": [
        "# One hot: from k categories to k dummy columns\n",
        "\n",
        "one_hot_enc = OneHotEncoder()\n",
        "\n",
        "one_hot_enc.fit_transform(X['Education'], drop='first')\n",
        "# * fit -> определить количество новых столбцов (по кол-ву категорий)\n",
        "# * transform -> создать новые столбцы\n",
        "# * fit_transform = fit + transform\n",
        "\n",
        "# Нужно ли удалять какую-то из колонок после такого кодирования ?\n"
      ]
    },
    {
      "cell_type": "markdown",
      "id": "ecc35c64",
      "metadata": {
        "id": "ecc35c64"
      },
      "source": [
        "Target encoding вычисляет значения по формуле\n",
        "\n",
        "$$\\frac{mean(target)\\cdot n_{rows} + \\alpha \\cdot globalMean}{n_{rows} + \\alpha} $$"
      ]
    },
    {
      "cell_type": "code",
      "execution_count": null,
      "id": "48f62227",
      "metadata": {
        "id": "48f62227"
      },
      "outputs": [],
      "source": [
        "data.columns"
      ]
    },
    {
      "cell_type": "code",
      "execution_count": null,
      "id": "f95d9bbb",
      "metadata": {
        "id": "f95d9bbb"
      },
      "outputs": [],
      "source": [
        "df = X.copy()\n",
        "df['y'] = y"
      ]
    },
    {
      "cell_type": "code",
      "execution_count": null,
      "id": "ae400ab2",
      "metadata": {
        "id": "ae400ab2"
      },
      "outputs": [],
      "source": [
        "df.groupby('Education')['y'].mean()"
      ]
    },
    {
      "cell_type": "code",
      "execution_count": null,
      "id": "3d1b0d1f",
      "metadata": {
        "id": "3d1b0d1f"
      },
      "outputs": [],
      "source": [
        "df[['Education', 'y']].head()"
      ]
    },
    {
      "cell_type": "code",
      "execution_count": null,
      "id": "e1327a3e",
      "metadata": {
        "id": "e1327a3e"
      },
      "outputs": [],
      "source": [
        "# target encoding: from k categories to posterior probabilites of y == 1 - P(y==1 | category == c1)\n",
        "\n",
        "tgt_enc = TargetEncoder(smoothing=1)\n",
        "\n",
        "# smoothing - это коэффициент сглаживания alpha, чем он больше, тем больше регуляризация\n",
        "\n",
        "tgt_enc.fit_transform(X['Education'], y)"
      ]
    },
    {
      "cell_type": "code",
      "execution_count": null,
      "id": "78773e3e",
      "metadata": {
        "id": "78773e3e"
      },
      "outputs": [],
      "source": [
        "# энкодер можно применять сразу на весь датафрейм\n",
        "\n",
        "tgt_enc = TargetEncoder(cols=['Education', 'Gender', 'Region'])\n",
        "tgt_enc.fit_transform(X, y)"
      ]
    },
    {
      "cell_type": "markdown",
      "id": "9db464ee",
      "metadata": {
        "id": "9db464ee"
      },
      "source": [
        "Помимо сглаживания, для борьбы с переобучением при таргет энкодинге в лекции предлагались и другие методы\n",
        "\n",
        "- Добавление случайного шума\n",
        "- Вычисление счетчиков на кросс-валидации\n",
        "- Expanding mean encoding\n",
        "\n",
        "Первые две идеи реализованы в классе LeaveOneOut\n",
        "\n",
        "- значения считаются на основе кросс-валидации вида leave one out (то есть значение энкодинга для конкретного наблюдения будет считаться по всем наблюдениям, кроме этого)\n",
        "- параметр sigma отвечает за дисперсию случайного шума, который добавляется к значению энкодинга (чем больше sigma, тем больше регуляризация)"
      ]
    },
    {
      "cell_type": "code",
      "execution_count": null,
      "id": "b1a7b993",
      "metadata": {
        "id": "b1a7b993"
      },
      "outputs": [],
      "source": [
        "from category_encoders.leave_one_out import LeaveOneOutEncoder\n",
        "\n",
        "loo_enc = LeaveOneOutEncoder(sigma=3.)\n",
        "\n",
        "loo_enc.fit_transform(X['Education'], y)"
      ]
    },
    {
      "cell_type": "markdown",
      "id": "1f77f2cb",
      "metadata": {
        "id": "1f77f2cb"
      },
      "source": [
        "## Масштабирование числовых признаков"
      ]
    },
    {
      "cell_type": "code",
      "execution_count": null,
      "id": "91ecd400",
      "metadata": {
        "id": "91ecd400"
      },
      "outputs": [],
      "source": [
        "X['Income'].hist()"
      ]
    },
    {
      "cell_type": "code",
      "execution_count": null,
      "id": "2aba0cc6",
      "metadata": {
        "id": "2aba0cc6"
      },
      "outputs": [],
      "source": [
        "from sklearn.preprocessing import StandardScaler\n",
        "\n",
        "scaler = StandardScaler()\n",
        "scaler.fit_transform(X[['Income']])"
      ]
    },
    {
      "cell_type": "markdown",
      "id": "e0414655",
      "metadata": {
        "id": "e0414655"
      },
      "source": [
        "Есть две проблемы:\n",
        "- класc StandardScaler не умеет работать только на части колонок датафрейма\n",
        "- классы sklearn возвращают numpy arrays, а не pandas dataframe, что не удобно"
      ]
    },
    {
      "cell_type": "code",
      "execution_count": null,
      "id": "31d98491",
      "metadata": {
        "id": "31d98491"
      },
      "outputs": [],
      "source": [
        "num_cols"
      ]
    },
    {
      "cell_type": "code",
      "execution_count": null,
      "id": "aa30d1d3",
      "metadata": {
        "id": "aa30d1d3"
      },
      "outputs": [],
      "source": [
        "from sklearn.compose import ColumnTransformer\n",
        "\n",
        "ct = ColumnTransformer([('scaler', StandardScaler(), num_cols)], remainder='passthrough') # 'drop'"
      ]
    },
    {
      "cell_type": "code",
      "execution_count": null,
      "id": "108fdb47",
      "metadata": {
        "id": "108fdb47"
      },
      "outputs": [],
      "source": [
        "ct.fit_transform(X)"
      ]
    },
    {
      "cell_type": "code",
      "execution_count": null,
      "id": "4e56049e",
      "metadata": {
        "id": "4e56049e"
      },
      "outputs": [],
      "source": [
        "# нет удобной реализации - напишем сами !\n",
        "\n",
        "from sklearn.base import TransformerMixin\n",
        "\n",
        "class CustomScaler(TransformerMixin):\n",
        "    def __init__(self, cols, scaler=None):\n",
        "        self.cols = cols\n",
        "        self.scaler = scaler or StandardScaler()\n",
        "\n",
        "    def fit(self, X, y=None):\n",
        "        num_cols = X.copy()[self.cols]\n",
        "        self.scaler.fit(num_cols)\n",
        "        return self\n",
        "    def transform(self, X, y=None):\n",
        "        X_res = X.copy()\n",
        "        num_cols_tr = self.scaler.transform(X_res[self.cols])\n",
        "        for i, col in enumerate(self.cols):\n",
        "            X_res[col] = num_cols_tr[:,i]\n",
        "        return X_res"
      ]
    },
    {
      "cell_type": "code",
      "execution_count": null,
      "id": "2f03ef75",
      "metadata": {
        "id": "2f03ef75"
      },
      "outputs": [],
      "source": [
        "sc = CustomScaler(num_cols)\n",
        "X2 = sc.fit_transform(X)"
      ]
    },
    {
      "cell_type": "code",
      "execution_count": null,
      "id": "aeec28cb",
      "metadata": {
        "id": "aeec28cb"
      },
      "outputs": [],
      "source": [
        "X2.info()"
      ]
    },
    {
      "cell_type": "markdown",
      "id": "6df6e872",
      "metadata": {
        "id": "6df6e872"
      },
      "source": [
        "# Соберем все преобразования данных в pipeline"
      ]
    },
    {
      "cell_type": "code",
      "execution_count": null,
      "id": "ba1d0eb3",
      "metadata": {
        "id": "ba1d0eb3"
      },
      "outputs": [],
      "source": [
        "from sklearn.linear_model import LogisticRegression\n",
        "from sklearn.pipeline import Pipeline\n",
        "\n",
        "p1 = Pipeline([\n",
        "    ('ordinal_encoder_', OrdinalEncoder(cols=ordinal_cols + binary_cols + cat_cols)), # плохо!!!\n",
        "    ('scaler_', CustomScaler(num_cols)),\n",
        "    ('model_', LogisticRegression())\n",
        "    ])\n",
        "\n",
        "p2 = Pipeline([\n",
        "    ('one_hot_encoder_', OneHotEncoder(cols=ordinal_cols + binary_cols+cat_cols)),\n",
        "    ('scaler_', CustomScaler(num_cols)),\n",
        "    ('model_', LogisticRegression())\n",
        "    ])\n",
        "\n",
        "p3 = Pipeline([\n",
        "    ('target_encoder_', TargetEncoder(cols=ordinal_cols + binary_cols+cat_cols)),\n",
        "    ('scaler_', CustomScaler(num_cols)),\n",
        "    ('model_', LogisticRegression())\n",
        "])\n",
        "\n",
        "p4 = Pipeline([\n",
        "    ('ordinal_encoder_', OrdinalEncoder(cols=ordinal_cols)),\n",
        "    ('one_hot_encoder_', OneHotEncoder(cols=binary_cols+cat_cols)),\n",
        "    ('scaler_', CustomScaler(num_cols)),\n",
        "    ('model_', LogisticRegression())\n",
        "    ])\n",
        "\n",
        "p5 = Pipeline([\n",
        "    ('ordinal_encoder_', OrdinalEncoder(cols=ordinal_cols)),\n",
        "    ('one_hot_encoder_', OneHotEncoder(cols=binary_cols)),\n",
        "    ('target_encoder_', TargetEncoder(cols=cat_cols)),\n",
        "    ('scaler_', CustomScaler(num_cols)),\n",
        "    ('model_', LogisticRegression())\n",
        "])\n",
        "\n",
        "p6 = Pipeline([\n",
        "    ('one_hot_encoder_', OneHotEncoder(cols=binary_cols)),\n",
        "    ('target_encoder_', TargetEncoder(cols=cat_cols + ordinal_cols)),\n",
        "    ('scaler_', CustomScaler(num_cols)),\n",
        "    ('model_', LogisticRegression())\n",
        "])"
      ]
    },
    {
      "cell_type": "code",
      "execution_count": null,
      "id": "845d941c",
      "metadata": {
        "id": "845d941c"
      },
      "outputs": [],
      "source": [
        "cat_cols"
      ]
    },
    {
      "cell_type": "code",
      "execution_count": null,
      "id": "9cf3065c",
      "metadata": {
        "id": "9cf3065c"
      },
      "outputs": [],
      "source": [
        "# пример работы с пайплайном\n",
        "from sklearn.model_selection import train_test_split\n",
        "from sklearn.metrics import accuracy_score\n",
        "\n",
        "X_train, X_test, y_train, y_test = train_test_split(X, y)\n",
        "\n",
        "p1.fit(X_train, y_train)\n",
        "\n",
        "#print(p1)\n",
        "\n",
        "y_pred = p1.predict(X_test)\n",
        "\n",
        "print(accuracy_score(y_test, y_pred))"
      ]
    },
    {
      "cell_type": "code",
      "execution_count": null,
      "id": "587e13a5",
      "metadata": {
        "id": "587e13a5"
      },
      "outputs": [],
      "source": [
        "from sklearn import svm, datasets\n",
        "from sklearn.model_selection import cross_val_score\n",
        "X, y = datasets.load_iris(return_X_y=True)\n",
        "clf = LogisticRegression()\n",
        "cross_val_score(clf, X, y, cv=5, scoring='accuracy')"
      ]
    },
    {
      "cell_type": "markdown",
      "id": "f63c4670",
      "metadata": {
        "id": "f63c4670"
      },
      "source": [
        "# Сравнение качества классификации при разных пайплайнах преобразования данных"
      ]
    },
    {
      "cell_type": "markdown",
      "id": "bc0dc93e",
      "metadata": {
        "id": "bc0dc93e"
      },
      "source": [
        "Вообще существует довольно большое количество метрик для задачи бинарной классификации (о них будет подробно рассказано на лекциях)\n",
        "\n",
        "Но для нашей задачи разберем самую простую и интуитивную метрику: accuracy\n",
        "\n",
        "$accuracy = \\frac{1}{n}\\Sigma_{i=0}^n [\\hat y_i == y_i]$\n",
        "\n",
        "То есть доля правильных предсказаний"
      ]
    },
    {
      "cell_type": "code",
      "execution_count": null,
      "id": "ee526e54",
      "metadata": {
        "id": "ee526e54"
      },
      "outputs": [],
      "source": [
        "from sklearn.model_selection import cross_validate, cross_val_score\n",
        "import warnings\n",
        "\n",
        "warnings.filterwarnings('ignore')\n",
        "\n",
        "cross_val_score()"
      ]
    },
    {
      "cell_type": "code",
      "execution_count": null,
      "id": "22e4cfd0",
      "metadata": {
        "id": "22e4cfd0",
        "scrolled": true
      },
      "outputs": [],
      "source": [
        "for i, pipe in enumerate([p1, p2, p3, p4, p5, p6]):\n",
        "    cv_res = cross_validate(pipe,\n",
        "                            X,\n",
        "                            y,\n",
        "                            cv=5,\n",
        "                            scoring='accuracy'\n",
        "                           )\n",
        "    print(f\"Pipeline {i + 1}: mean cv accuracy = {cv_res['test_score'].mean()}\")"
      ]
    },
    {
      "cell_type": "code",
      "execution_count": null,
      "id": "35caf8b8",
      "metadata": {
        "id": "35caf8b8"
      },
      "outputs": [],
      "source": [
        "for i, pipe in enumerate([p1, p2, p3, p4, p5, p6]):\n",
        "    cv_res = cross_val_score(pipe,\n",
        "                            X,\n",
        "                            y,\n",
        "                            cv=5,\n",
        "                            scoring='accuracy'\n",
        "                           )\n",
        "    print(f\"Pipeline {i + 1}: mean cv accuracy = {cv_res['test_score'].mean()}\")"
      ]
    }
  ],
  "metadata": {
    "colab": {
      "provenance": []
    },
    "kernelspec": {
      "display_name": "Python 3 (ipykernel)",
      "language": "python",
      "name": "python3"
    },
    "language_info": {
      "codemirror_mode": {
        "name": "ipython",
        "version": 3
      },
      "file_extension": ".py",
      "mimetype": "text/x-python",
      "name": "python",
      "nbconvert_exporter": "python",
      "pygments_lexer": "ipython3",
      "version": "3.9.7"
    },
    "toc": {
      "base_numbering": 1,
      "nav_menu": {},
      "number_sections": true,
      "sideBar": true,
      "skip_h1_title": false,
      "title_cell": "Table of Contents",
      "title_sidebar": "Contents",
      "toc_cell": false,
      "toc_position": {},
      "toc_section_display": true,
      "toc_window_display": false
    }
  },
  "nbformat": 4,
  "nbformat_minor": 5
}