{
 "cells": [
  {
   "cell_type": "markdown",
   "id": "425068ca",
   "metadata": {
    "id": "425068ca"
   },
   "source": [
    "#  План семинара\n",
    "\n",
    "1. Линейный классификатор в задаче бинарной классификации\n",
    "2. Кодирование категориальных признаков"
   ]
  },
  {
   "cell_type": "markdown",
   "id": "23f21f2d",
   "metadata": {
    "id": "23f21f2d"
   },
   "source": [
    "## Задача бинарной классификации\n",
    "\n",
    "### Логистическая регрессия\n",
    "\n",
    "y = {-1, 1}\n",
    "\n",
    "$b(x) = \\sigma(<w,x>)$,\n",
    "\n",
    "где $\\sigma(z) = \\frac{1}{1 + e^{-z}}$\n",
    "\n",
    "То есть, мы предсказываем $P(y_i = 1| X_i)$ - вероятность того, что наблюдение принадлежит классу +1\n",
    "\n",
    "Обучаем с помощью функционала: Максимального лог правдоподобия (флэшбек из статистики)\n",
    "\n",
    "$Q(w) = -\\Sigma_{i=0}^{n}(y_i*log(b(x_i)) + (1 - y_i)log(1 - b(x_i))) \\rightarrow min_w$\n",
    "\n"
   ]
  },
  {
   "cell_type": "code",
   "execution_count": 1,
   "id": "5b03c300",
   "metadata": {
    "id": "5b03c300"
   },
   "outputs": [],
   "source": [
    "import pandas as pd\n",
    "import numpy as np\n",
    "import seaborn as sns"
   ]
  },
  {
   "cell_type": "code",
   "execution_count": 2,
   "id": "dc2ae7be",
   "metadata": {
    "id": "dc2ae7be"
   },
   "outputs": [],
   "source": [
    "np.random.seed(42)"
   ]
  },
  {
   "cell_type": "code",
   "execution_count": 3,
   "id": "ca549dd9",
   "metadata": {
    "id": "ca549dd9"
   },
   "outputs": [
    {
     "ename": "HTTPError",
     "evalue": "HTTP Error 404: Not Found",
     "output_type": "error",
     "traceback": [
      "\u001b[1;31m---------------------------------------------------------------------------\u001b[0m",
      "\u001b[1;31mHTTPError\u001b[0m                                 Traceback (most recent call last)",
      "\u001b[1;32mC:\\Users\\ANDUBE~1\\AppData\\Local\\Temp/ipykernel_4388/828780415.py\u001b[0m in \u001b[0;36m<module>\u001b[1;34m\u001b[0m\n\u001b[1;32m----> 1\u001b[1;33m data = pd.read_csv(\n\u001b[0m\u001b[0;32m      2\u001b[0m     \u001b[1;34m'https://raw.githubusercontent.com/evgpat/hse_ml_light_autumn_2023/main/datasets/bike_buyers_clean.csv'\u001b[0m\u001b[1;33m\u001b[0m\u001b[1;33m\u001b[0m\u001b[0m\n\u001b[0;32m      3\u001b[0m )\n",
      "\u001b[1;32m~\\Anaconda3\\lib\\site-packages\\pandas\\util\\_decorators.py\u001b[0m in \u001b[0;36mwrapper\u001b[1;34m(*args, **kwargs)\u001b[0m\n\u001b[0;32m    209\u001b[0m                 \u001b[1;32melse\u001b[0m\u001b[1;33m:\u001b[0m\u001b[1;33m\u001b[0m\u001b[1;33m\u001b[0m\u001b[0m\n\u001b[0;32m    210\u001b[0m                     \u001b[0mkwargs\u001b[0m\u001b[1;33m[\u001b[0m\u001b[0mnew_arg_name\u001b[0m\u001b[1;33m]\u001b[0m \u001b[1;33m=\u001b[0m \u001b[0mnew_arg_value\u001b[0m\u001b[1;33m\u001b[0m\u001b[1;33m\u001b[0m\u001b[0m\n\u001b[1;32m--> 211\u001b[1;33m             \u001b[1;32mreturn\u001b[0m \u001b[0mfunc\u001b[0m\u001b[1;33m(\u001b[0m\u001b[1;33m*\u001b[0m\u001b[0margs\u001b[0m\u001b[1;33m,\u001b[0m \u001b[1;33m**\u001b[0m\u001b[0mkwargs\u001b[0m\u001b[1;33m)\u001b[0m\u001b[1;33m\u001b[0m\u001b[1;33m\u001b[0m\u001b[0m\n\u001b[0m\u001b[0;32m    212\u001b[0m \u001b[1;33m\u001b[0m\u001b[0m\n\u001b[0;32m    213\u001b[0m         \u001b[1;32mreturn\u001b[0m \u001b[0mcast\u001b[0m\u001b[1;33m(\u001b[0m\u001b[0mF\u001b[0m\u001b[1;33m,\u001b[0m \u001b[0mwrapper\u001b[0m\u001b[1;33m)\u001b[0m\u001b[1;33m\u001b[0m\u001b[1;33m\u001b[0m\u001b[0m\n",
      "\u001b[1;32m~\\Anaconda3\\lib\\site-packages\\pandas\\util\\_decorators.py\u001b[0m in \u001b[0;36mwrapper\u001b[1;34m(*args, **kwargs)\u001b[0m\n\u001b[0;32m    329\u001b[0m                     \u001b[0mstacklevel\u001b[0m\u001b[1;33m=\u001b[0m\u001b[0mfind_stack_level\u001b[0m\u001b[1;33m(\u001b[0m\u001b[1;33m)\u001b[0m\u001b[1;33m,\u001b[0m\u001b[1;33m\u001b[0m\u001b[1;33m\u001b[0m\u001b[0m\n\u001b[0;32m    330\u001b[0m                 )\n\u001b[1;32m--> 331\u001b[1;33m             \u001b[1;32mreturn\u001b[0m \u001b[0mfunc\u001b[0m\u001b[1;33m(\u001b[0m\u001b[1;33m*\u001b[0m\u001b[0margs\u001b[0m\u001b[1;33m,\u001b[0m \u001b[1;33m**\u001b[0m\u001b[0mkwargs\u001b[0m\u001b[1;33m)\u001b[0m\u001b[1;33m\u001b[0m\u001b[1;33m\u001b[0m\u001b[0m\n\u001b[0m\u001b[0;32m    332\u001b[0m \u001b[1;33m\u001b[0m\u001b[0m\n\u001b[0;32m    333\u001b[0m         \u001b[1;31m# error: \"Callable[[VarArg(Any), KwArg(Any)], Any]\" has no\u001b[0m\u001b[1;33m\u001b[0m\u001b[1;33m\u001b[0m\u001b[0m\n",
      "\u001b[1;32m~\\Anaconda3\\lib\\site-packages\\pandas\\io\\parsers\\readers.py\u001b[0m in \u001b[0;36mread_csv\u001b[1;34m(filepath_or_buffer, sep, delimiter, header, names, index_col, usecols, squeeze, prefix, mangle_dupe_cols, dtype, engine, converters, true_values, false_values, skipinitialspace, skiprows, skipfooter, nrows, na_values, keep_default_na, na_filter, verbose, skip_blank_lines, parse_dates, infer_datetime_format, keep_date_col, date_parser, dayfirst, cache_dates, iterator, chunksize, compression, thousands, decimal, lineterminator, quotechar, quoting, doublequote, escapechar, comment, encoding, encoding_errors, dialect, error_bad_lines, warn_bad_lines, on_bad_lines, delim_whitespace, low_memory, memory_map, float_precision, storage_options)\u001b[0m\n\u001b[0;32m    948\u001b[0m     \u001b[0mkwds\u001b[0m\u001b[1;33m.\u001b[0m\u001b[0mupdate\u001b[0m\u001b[1;33m(\u001b[0m\u001b[0mkwds_defaults\u001b[0m\u001b[1;33m)\u001b[0m\u001b[1;33m\u001b[0m\u001b[1;33m\u001b[0m\u001b[0m\n\u001b[0;32m    949\u001b[0m \u001b[1;33m\u001b[0m\u001b[0m\n\u001b[1;32m--> 950\u001b[1;33m     \u001b[1;32mreturn\u001b[0m \u001b[0m_read\u001b[0m\u001b[1;33m(\u001b[0m\u001b[0mfilepath_or_buffer\u001b[0m\u001b[1;33m,\u001b[0m \u001b[0mkwds\u001b[0m\u001b[1;33m)\u001b[0m\u001b[1;33m\u001b[0m\u001b[1;33m\u001b[0m\u001b[0m\n\u001b[0m\u001b[0;32m    951\u001b[0m \u001b[1;33m\u001b[0m\u001b[0m\n\u001b[0;32m    952\u001b[0m \u001b[1;33m\u001b[0m\u001b[0m\n",
      "\u001b[1;32m~\\Anaconda3\\lib\\site-packages\\pandas\\io\\parsers\\readers.py\u001b[0m in \u001b[0;36m_read\u001b[1;34m(filepath_or_buffer, kwds)\u001b[0m\n\u001b[0;32m    603\u001b[0m \u001b[1;33m\u001b[0m\u001b[0m\n\u001b[0;32m    604\u001b[0m     \u001b[1;31m# Create the parser.\u001b[0m\u001b[1;33m\u001b[0m\u001b[1;33m\u001b[0m\u001b[0m\n\u001b[1;32m--> 605\u001b[1;33m     \u001b[0mparser\u001b[0m \u001b[1;33m=\u001b[0m \u001b[0mTextFileReader\u001b[0m\u001b[1;33m(\u001b[0m\u001b[0mfilepath_or_buffer\u001b[0m\u001b[1;33m,\u001b[0m \u001b[1;33m**\u001b[0m\u001b[0mkwds\u001b[0m\u001b[1;33m)\u001b[0m\u001b[1;33m\u001b[0m\u001b[1;33m\u001b[0m\u001b[0m\n\u001b[0m\u001b[0;32m    606\u001b[0m \u001b[1;33m\u001b[0m\u001b[0m\n\u001b[0;32m    607\u001b[0m     \u001b[1;32mif\u001b[0m \u001b[0mchunksize\u001b[0m \u001b[1;32mor\u001b[0m \u001b[0miterator\u001b[0m\u001b[1;33m:\u001b[0m\u001b[1;33m\u001b[0m\u001b[1;33m\u001b[0m\u001b[0m\n",
      "\u001b[1;32m~\\Anaconda3\\lib\\site-packages\\pandas\\io\\parsers\\readers.py\u001b[0m in \u001b[0;36m__init__\u001b[1;34m(self, f, engine, **kwds)\u001b[0m\n\u001b[0;32m   1440\u001b[0m \u001b[1;33m\u001b[0m\u001b[0m\n\u001b[0;32m   1441\u001b[0m         \u001b[0mself\u001b[0m\u001b[1;33m.\u001b[0m\u001b[0mhandles\u001b[0m\u001b[1;33m:\u001b[0m \u001b[0mIOHandles\u001b[0m \u001b[1;33m|\u001b[0m \u001b[1;32mNone\u001b[0m \u001b[1;33m=\u001b[0m \u001b[1;32mNone\u001b[0m\u001b[1;33m\u001b[0m\u001b[1;33m\u001b[0m\u001b[0m\n\u001b[1;32m-> 1442\u001b[1;33m         \u001b[0mself\u001b[0m\u001b[1;33m.\u001b[0m\u001b[0m_engine\u001b[0m \u001b[1;33m=\u001b[0m \u001b[0mself\u001b[0m\u001b[1;33m.\u001b[0m\u001b[0m_make_engine\u001b[0m\u001b[1;33m(\u001b[0m\u001b[0mf\u001b[0m\u001b[1;33m,\u001b[0m \u001b[0mself\u001b[0m\u001b[1;33m.\u001b[0m\u001b[0mengine\u001b[0m\u001b[1;33m)\u001b[0m\u001b[1;33m\u001b[0m\u001b[1;33m\u001b[0m\u001b[0m\n\u001b[0m\u001b[0;32m   1443\u001b[0m \u001b[1;33m\u001b[0m\u001b[0m\n\u001b[0;32m   1444\u001b[0m     \u001b[1;32mdef\u001b[0m \u001b[0mclose\u001b[0m\u001b[1;33m(\u001b[0m\u001b[0mself\u001b[0m\u001b[1;33m)\u001b[0m \u001b[1;33m->\u001b[0m \u001b[1;32mNone\u001b[0m\u001b[1;33m:\u001b[0m\u001b[1;33m\u001b[0m\u001b[1;33m\u001b[0m\u001b[0m\n",
      "\u001b[1;32m~\\Anaconda3\\lib\\site-packages\\pandas\\io\\parsers\\readers.py\u001b[0m in \u001b[0;36m_make_engine\u001b[1;34m(self, f, engine)\u001b[0m\n\u001b[0;32m   1733\u001b[0m                 \u001b[1;32mif\u001b[0m \u001b[1;34m\"b\"\u001b[0m \u001b[1;32mnot\u001b[0m \u001b[1;32min\u001b[0m \u001b[0mmode\u001b[0m\u001b[1;33m:\u001b[0m\u001b[1;33m\u001b[0m\u001b[1;33m\u001b[0m\u001b[0m\n\u001b[0;32m   1734\u001b[0m                     \u001b[0mmode\u001b[0m \u001b[1;33m+=\u001b[0m \u001b[1;34m\"b\"\u001b[0m\u001b[1;33m\u001b[0m\u001b[1;33m\u001b[0m\u001b[0m\n\u001b[1;32m-> 1735\u001b[1;33m             self.handles = get_handle(\n\u001b[0m\u001b[0;32m   1736\u001b[0m                 \u001b[0mf\u001b[0m\u001b[1;33m,\u001b[0m\u001b[1;33m\u001b[0m\u001b[1;33m\u001b[0m\u001b[0m\n\u001b[0;32m   1737\u001b[0m                 \u001b[0mmode\u001b[0m\u001b[1;33m,\u001b[0m\u001b[1;33m\u001b[0m\u001b[1;33m\u001b[0m\u001b[0m\n",
      "\u001b[1;32m~\\Anaconda3\\lib\\site-packages\\pandas\\io\\common.py\u001b[0m in \u001b[0;36mget_handle\u001b[1;34m(path_or_buf, mode, encoding, compression, memory_map, is_text, errors, storage_options)\u001b[0m\n\u001b[0;32m    711\u001b[0m \u001b[1;33m\u001b[0m\u001b[0m\n\u001b[0;32m    712\u001b[0m     \u001b[1;31m# open URLs\u001b[0m\u001b[1;33m\u001b[0m\u001b[1;33m\u001b[0m\u001b[0m\n\u001b[1;32m--> 713\u001b[1;33m     ioargs = _get_filepath_or_buffer(\n\u001b[0m\u001b[0;32m    714\u001b[0m         \u001b[0mpath_or_buf\u001b[0m\u001b[1;33m,\u001b[0m\u001b[1;33m\u001b[0m\u001b[1;33m\u001b[0m\u001b[0m\n\u001b[0;32m    715\u001b[0m         \u001b[0mencoding\u001b[0m\u001b[1;33m=\u001b[0m\u001b[0mencoding\u001b[0m\u001b[1;33m,\u001b[0m\u001b[1;33m\u001b[0m\u001b[1;33m\u001b[0m\u001b[0m\n",
      "\u001b[1;32m~\\Anaconda3\\lib\\site-packages\\pandas\\io\\common.py\u001b[0m in \u001b[0;36m_get_filepath_or_buffer\u001b[1;34m(filepath_or_buffer, encoding, compression, mode, storage_options)\u001b[0m\n\u001b[0;32m    361\u001b[0m         \u001b[1;31m# assuming storage_options is to be interpreted as headers\u001b[0m\u001b[1;33m\u001b[0m\u001b[1;33m\u001b[0m\u001b[0m\n\u001b[0;32m    362\u001b[0m         \u001b[0mreq_info\u001b[0m \u001b[1;33m=\u001b[0m \u001b[0murllib\u001b[0m\u001b[1;33m.\u001b[0m\u001b[0mrequest\u001b[0m\u001b[1;33m.\u001b[0m\u001b[0mRequest\u001b[0m\u001b[1;33m(\u001b[0m\u001b[0mfilepath_or_buffer\u001b[0m\u001b[1;33m,\u001b[0m \u001b[0mheaders\u001b[0m\u001b[1;33m=\u001b[0m\u001b[0mstorage_options\u001b[0m\u001b[1;33m)\u001b[0m\u001b[1;33m\u001b[0m\u001b[1;33m\u001b[0m\u001b[0m\n\u001b[1;32m--> 363\u001b[1;33m         \u001b[1;32mwith\u001b[0m \u001b[0murlopen\u001b[0m\u001b[1;33m(\u001b[0m\u001b[0mreq_info\u001b[0m\u001b[1;33m)\u001b[0m \u001b[1;32mas\u001b[0m \u001b[0mreq\u001b[0m\u001b[1;33m:\u001b[0m\u001b[1;33m\u001b[0m\u001b[1;33m\u001b[0m\u001b[0m\n\u001b[0m\u001b[0;32m    364\u001b[0m             \u001b[0mcontent_encoding\u001b[0m \u001b[1;33m=\u001b[0m \u001b[0mreq\u001b[0m\u001b[1;33m.\u001b[0m\u001b[0mheaders\u001b[0m\u001b[1;33m.\u001b[0m\u001b[0mget\u001b[0m\u001b[1;33m(\u001b[0m\u001b[1;34m\"Content-Encoding\"\u001b[0m\u001b[1;33m,\u001b[0m \u001b[1;32mNone\u001b[0m\u001b[1;33m)\u001b[0m\u001b[1;33m\u001b[0m\u001b[1;33m\u001b[0m\u001b[0m\n\u001b[0;32m    365\u001b[0m             \u001b[1;32mif\u001b[0m \u001b[0mcontent_encoding\u001b[0m \u001b[1;33m==\u001b[0m \u001b[1;34m\"gzip\"\u001b[0m\u001b[1;33m:\u001b[0m\u001b[1;33m\u001b[0m\u001b[1;33m\u001b[0m\u001b[0m\n",
      "\u001b[1;32m~\\Anaconda3\\lib\\site-packages\\pandas\\io\\common.py\u001b[0m in \u001b[0;36murlopen\u001b[1;34m(*args, **kwargs)\u001b[0m\n\u001b[0;32m    263\u001b[0m     \u001b[1;32mimport\u001b[0m \u001b[0murllib\u001b[0m\u001b[1;33m.\u001b[0m\u001b[0mrequest\u001b[0m\u001b[1;33m\u001b[0m\u001b[1;33m\u001b[0m\u001b[0m\n\u001b[0;32m    264\u001b[0m \u001b[1;33m\u001b[0m\u001b[0m\n\u001b[1;32m--> 265\u001b[1;33m     \u001b[1;32mreturn\u001b[0m \u001b[0murllib\u001b[0m\u001b[1;33m.\u001b[0m\u001b[0mrequest\u001b[0m\u001b[1;33m.\u001b[0m\u001b[0murlopen\u001b[0m\u001b[1;33m(\u001b[0m\u001b[1;33m*\u001b[0m\u001b[0margs\u001b[0m\u001b[1;33m,\u001b[0m \u001b[1;33m**\u001b[0m\u001b[0mkwargs\u001b[0m\u001b[1;33m)\u001b[0m\u001b[1;33m\u001b[0m\u001b[1;33m\u001b[0m\u001b[0m\n\u001b[0m\u001b[0;32m    266\u001b[0m \u001b[1;33m\u001b[0m\u001b[0m\n\u001b[0;32m    267\u001b[0m \u001b[1;33m\u001b[0m\u001b[0m\n",
      "\u001b[1;32m~\\Anaconda3\\lib\\urllib\\request.py\u001b[0m in \u001b[0;36murlopen\u001b[1;34m(url, data, timeout, cafile, capath, cadefault, context)\u001b[0m\n\u001b[0;32m    212\u001b[0m     \u001b[1;32melse\u001b[0m\u001b[1;33m:\u001b[0m\u001b[1;33m\u001b[0m\u001b[1;33m\u001b[0m\u001b[0m\n\u001b[0;32m    213\u001b[0m         \u001b[0mopener\u001b[0m \u001b[1;33m=\u001b[0m \u001b[0m_opener\u001b[0m\u001b[1;33m\u001b[0m\u001b[1;33m\u001b[0m\u001b[0m\n\u001b[1;32m--> 214\u001b[1;33m     \u001b[1;32mreturn\u001b[0m \u001b[0mopener\u001b[0m\u001b[1;33m.\u001b[0m\u001b[0mopen\u001b[0m\u001b[1;33m(\u001b[0m\u001b[0murl\u001b[0m\u001b[1;33m,\u001b[0m \u001b[0mdata\u001b[0m\u001b[1;33m,\u001b[0m \u001b[0mtimeout\u001b[0m\u001b[1;33m)\u001b[0m\u001b[1;33m\u001b[0m\u001b[1;33m\u001b[0m\u001b[0m\n\u001b[0m\u001b[0;32m    215\u001b[0m \u001b[1;33m\u001b[0m\u001b[0m\n\u001b[0;32m    216\u001b[0m \u001b[1;32mdef\u001b[0m \u001b[0minstall_opener\u001b[0m\u001b[1;33m(\u001b[0m\u001b[0mopener\u001b[0m\u001b[1;33m)\u001b[0m\u001b[1;33m:\u001b[0m\u001b[1;33m\u001b[0m\u001b[1;33m\u001b[0m\u001b[0m\n",
      "\u001b[1;32m~\\Anaconda3\\lib\\urllib\\request.py\u001b[0m in \u001b[0;36mopen\u001b[1;34m(self, fullurl, data, timeout)\u001b[0m\n\u001b[0;32m    521\u001b[0m         \u001b[1;32mfor\u001b[0m \u001b[0mprocessor\u001b[0m \u001b[1;32min\u001b[0m \u001b[0mself\u001b[0m\u001b[1;33m.\u001b[0m\u001b[0mprocess_response\u001b[0m\u001b[1;33m.\u001b[0m\u001b[0mget\u001b[0m\u001b[1;33m(\u001b[0m\u001b[0mprotocol\u001b[0m\u001b[1;33m,\u001b[0m \u001b[1;33m[\u001b[0m\u001b[1;33m]\u001b[0m\u001b[1;33m)\u001b[0m\u001b[1;33m:\u001b[0m\u001b[1;33m\u001b[0m\u001b[1;33m\u001b[0m\u001b[0m\n\u001b[0;32m    522\u001b[0m             \u001b[0mmeth\u001b[0m \u001b[1;33m=\u001b[0m \u001b[0mgetattr\u001b[0m\u001b[1;33m(\u001b[0m\u001b[0mprocessor\u001b[0m\u001b[1;33m,\u001b[0m \u001b[0mmeth_name\u001b[0m\u001b[1;33m)\u001b[0m\u001b[1;33m\u001b[0m\u001b[1;33m\u001b[0m\u001b[0m\n\u001b[1;32m--> 523\u001b[1;33m             \u001b[0mresponse\u001b[0m \u001b[1;33m=\u001b[0m \u001b[0mmeth\u001b[0m\u001b[1;33m(\u001b[0m\u001b[0mreq\u001b[0m\u001b[1;33m,\u001b[0m \u001b[0mresponse\u001b[0m\u001b[1;33m)\u001b[0m\u001b[1;33m\u001b[0m\u001b[1;33m\u001b[0m\u001b[0m\n\u001b[0m\u001b[0;32m    524\u001b[0m \u001b[1;33m\u001b[0m\u001b[0m\n\u001b[0;32m    525\u001b[0m         \u001b[1;32mreturn\u001b[0m \u001b[0mresponse\u001b[0m\u001b[1;33m\u001b[0m\u001b[1;33m\u001b[0m\u001b[0m\n",
      "\u001b[1;32m~\\Anaconda3\\lib\\urllib\\request.py\u001b[0m in \u001b[0;36mhttp_response\u001b[1;34m(self, request, response)\u001b[0m\n\u001b[0;32m    630\u001b[0m         \u001b[1;31m# request was successfully received, understood, and accepted.\u001b[0m\u001b[1;33m\u001b[0m\u001b[1;33m\u001b[0m\u001b[0m\n\u001b[0;32m    631\u001b[0m         \u001b[1;32mif\u001b[0m \u001b[1;32mnot\u001b[0m \u001b[1;33m(\u001b[0m\u001b[1;36m200\u001b[0m \u001b[1;33m<=\u001b[0m \u001b[0mcode\u001b[0m \u001b[1;33m<\u001b[0m \u001b[1;36m300\u001b[0m\u001b[1;33m)\u001b[0m\u001b[1;33m:\u001b[0m\u001b[1;33m\u001b[0m\u001b[1;33m\u001b[0m\u001b[0m\n\u001b[1;32m--> 632\u001b[1;33m             response = self.parent.error(\n\u001b[0m\u001b[0;32m    633\u001b[0m                 'http', request, response, code, msg, hdrs)\n\u001b[0;32m    634\u001b[0m \u001b[1;33m\u001b[0m\u001b[0m\n",
      "\u001b[1;32m~\\Anaconda3\\lib\\urllib\\request.py\u001b[0m in \u001b[0;36merror\u001b[1;34m(self, proto, *args)\u001b[0m\n\u001b[0;32m    559\u001b[0m         \u001b[1;32mif\u001b[0m \u001b[0mhttp_err\u001b[0m\u001b[1;33m:\u001b[0m\u001b[1;33m\u001b[0m\u001b[1;33m\u001b[0m\u001b[0m\n\u001b[0;32m    560\u001b[0m             \u001b[0margs\u001b[0m \u001b[1;33m=\u001b[0m \u001b[1;33m(\u001b[0m\u001b[0mdict\u001b[0m\u001b[1;33m,\u001b[0m \u001b[1;34m'default'\u001b[0m\u001b[1;33m,\u001b[0m \u001b[1;34m'http_error_default'\u001b[0m\u001b[1;33m)\u001b[0m \u001b[1;33m+\u001b[0m \u001b[0morig_args\u001b[0m\u001b[1;33m\u001b[0m\u001b[1;33m\u001b[0m\u001b[0m\n\u001b[1;32m--> 561\u001b[1;33m             \u001b[1;32mreturn\u001b[0m \u001b[0mself\u001b[0m\u001b[1;33m.\u001b[0m\u001b[0m_call_chain\u001b[0m\u001b[1;33m(\u001b[0m\u001b[1;33m*\u001b[0m\u001b[0margs\u001b[0m\u001b[1;33m)\u001b[0m\u001b[1;33m\u001b[0m\u001b[1;33m\u001b[0m\u001b[0m\n\u001b[0m\u001b[0;32m    562\u001b[0m \u001b[1;33m\u001b[0m\u001b[0m\n\u001b[0;32m    563\u001b[0m \u001b[1;31m# XXX probably also want an abstract factory that knows when it makes\u001b[0m\u001b[1;33m\u001b[0m\u001b[1;33m\u001b[0m\u001b[0m\n",
      "\u001b[1;32m~\\Anaconda3\\lib\\urllib\\request.py\u001b[0m in \u001b[0;36m_call_chain\u001b[1;34m(self, chain, kind, meth_name, *args)\u001b[0m\n\u001b[0;32m    492\u001b[0m         \u001b[1;32mfor\u001b[0m \u001b[0mhandler\u001b[0m \u001b[1;32min\u001b[0m \u001b[0mhandlers\u001b[0m\u001b[1;33m:\u001b[0m\u001b[1;33m\u001b[0m\u001b[1;33m\u001b[0m\u001b[0m\n\u001b[0;32m    493\u001b[0m             \u001b[0mfunc\u001b[0m \u001b[1;33m=\u001b[0m \u001b[0mgetattr\u001b[0m\u001b[1;33m(\u001b[0m\u001b[0mhandler\u001b[0m\u001b[1;33m,\u001b[0m \u001b[0mmeth_name\u001b[0m\u001b[1;33m)\u001b[0m\u001b[1;33m\u001b[0m\u001b[1;33m\u001b[0m\u001b[0m\n\u001b[1;32m--> 494\u001b[1;33m             \u001b[0mresult\u001b[0m \u001b[1;33m=\u001b[0m \u001b[0mfunc\u001b[0m\u001b[1;33m(\u001b[0m\u001b[1;33m*\u001b[0m\u001b[0margs\u001b[0m\u001b[1;33m)\u001b[0m\u001b[1;33m\u001b[0m\u001b[1;33m\u001b[0m\u001b[0m\n\u001b[0m\u001b[0;32m    495\u001b[0m             \u001b[1;32mif\u001b[0m \u001b[0mresult\u001b[0m \u001b[1;32mis\u001b[0m \u001b[1;32mnot\u001b[0m \u001b[1;32mNone\u001b[0m\u001b[1;33m:\u001b[0m\u001b[1;33m\u001b[0m\u001b[1;33m\u001b[0m\u001b[0m\n\u001b[0;32m    496\u001b[0m                 \u001b[1;32mreturn\u001b[0m \u001b[0mresult\u001b[0m\u001b[1;33m\u001b[0m\u001b[1;33m\u001b[0m\u001b[0m\n",
      "\u001b[1;32m~\\Anaconda3\\lib\\urllib\\request.py\u001b[0m in \u001b[0;36mhttp_error_default\u001b[1;34m(self, req, fp, code, msg, hdrs)\u001b[0m\n\u001b[0;32m    639\u001b[0m \u001b[1;32mclass\u001b[0m \u001b[0mHTTPDefaultErrorHandler\u001b[0m\u001b[1;33m(\u001b[0m\u001b[0mBaseHandler\u001b[0m\u001b[1;33m)\u001b[0m\u001b[1;33m:\u001b[0m\u001b[1;33m\u001b[0m\u001b[1;33m\u001b[0m\u001b[0m\n\u001b[0;32m    640\u001b[0m     \u001b[1;32mdef\u001b[0m \u001b[0mhttp_error_default\u001b[0m\u001b[1;33m(\u001b[0m\u001b[0mself\u001b[0m\u001b[1;33m,\u001b[0m \u001b[0mreq\u001b[0m\u001b[1;33m,\u001b[0m \u001b[0mfp\u001b[0m\u001b[1;33m,\u001b[0m \u001b[0mcode\u001b[0m\u001b[1;33m,\u001b[0m \u001b[0mmsg\u001b[0m\u001b[1;33m,\u001b[0m \u001b[0mhdrs\u001b[0m\u001b[1;33m)\u001b[0m\u001b[1;33m:\u001b[0m\u001b[1;33m\u001b[0m\u001b[1;33m\u001b[0m\u001b[0m\n\u001b[1;32m--> 641\u001b[1;33m         \u001b[1;32mraise\u001b[0m \u001b[0mHTTPError\u001b[0m\u001b[1;33m(\u001b[0m\u001b[0mreq\u001b[0m\u001b[1;33m.\u001b[0m\u001b[0mfull_url\u001b[0m\u001b[1;33m,\u001b[0m \u001b[0mcode\u001b[0m\u001b[1;33m,\u001b[0m \u001b[0mmsg\u001b[0m\u001b[1;33m,\u001b[0m \u001b[0mhdrs\u001b[0m\u001b[1;33m,\u001b[0m \u001b[0mfp\u001b[0m\u001b[1;33m)\u001b[0m\u001b[1;33m\u001b[0m\u001b[1;33m\u001b[0m\u001b[0m\n\u001b[0m\u001b[0;32m    642\u001b[0m \u001b[1;33m\u001b[0m\u001b[0m\n\u001b[0;32m    643\u001b[0m \u001b[1;32mclass\u001b[0m \u001b[0mHTTPRedirectHandler\u001b[0m\u001b[1;33m(\u001b[0m\u001b[0mBaseHandler\u001b[0m\u001b[1;33m)\u001b[0m\u001b[1;33m:\u001b[0m\u001b[1;33m\u001b[0m\u001b[1;33m\u001b[0m\u001b[0m\n",
      "\u001b[1;31mHTTPError\u001b[0m: HTTP Error 404: Not Found"
     ]
    }
   ],
   "source": [
    "data = pd.read_csv(\n",
    "    'https://raw.githubusercontent.com/evgpat/hse_ml_light_autumn_2023/main/datasets/bike_buyers_clean.csv'\n",
    ")"
   ]
  },
  {
   "cell_type": "code",
   "execution_count": null,
   "id": "7de85d74",
   "metadata": {
    "id": "7de85d74",
    "outputId": "8d9f6cc9-9e38-4fcd-fd3e-213bc8317ef5"
   },
   "outputs": [],
   "source": [
    "data"
   ]
  },
  {
   "cell_type": "markdown",
   "id": "0744a18c",
   "metadata": {
    "id": "0744a18c"
   },
   "source": [
    "# Обзор данных"
   ]
  },
  {
   "cell_type": "code",
   "execution_count": null,
   "id": "c846a338",
   "metadata": {
    "id": "c846a338",
    "outputId": "430c2540-2da9-4e7f-adb3-87247597d55b"
   },
   "outputs": [],
   "source": [
    "# проверим типы колонок в датасете\n",
    "data.dtypes"
   ]
  },
  {
   "cell_type": "code",
   "execution_count": null,
   "id": "6a4f289e",
   "metadata": {
    "id": "6a4f289e"
   },
   "outputs": [],
   "source": [
    "X = data.iloc[:,:-1]\n",
    "X.drop(columns='ID', inplace=True)\n",
    "\n",
    "y = data['Purchased Bike']"
   ]
  },
  {
   "cell_type": "code",
   "execution_count": null,
   "id": "1790fbd0",
   "metadata": {},
   "outputs": [],
   "source": [
    "y.value_counts()"
   ]
  },
  {
   "cell_type": "code",
   "execution_count": null,
   "id": "5c431d0d",
   "metadata": {
    "id": "5c431d0d",
    "outputId": "96ea7b9c-2636-4678-862f-e9ad384d9337"
   },
   "outputs": [],
   "source": [
    "num_cols = X.columns[X.dtypes == 'int64'].tolist()\n",
    "cat_cols = X.columns[X.dtypes == 'object']\n",
    "\n",
    "print(f\"We have {len(num_cols)} numeric columns: {', '.join(num_cols)}\")\n",
    "print(f\"And {len(cat_cols)} categorical columns: {', '.join(cat_cols)}\")"
   ]
  },
  {
   "cell_type": "code",
   "execution_count": null,
   "id": "4a849f7d",
   "metadata": {
    "id": "4a849f7d",
    "outputId": "b7666428-0e70-4b14-9c39-f5a086eebf3f",
    "scrolled": false
   },
   "outputs": [],
   "source": [
    "for col in cat_cols:\n",
    "    print(col)\n",
    "    display(X[col].value_counts(normalize=True))\n",
    "    print()"
   ]
  },
  {
   "cell_type": "code",
   "execution_count": null,
   "id": "9384e126",
   "metadata": {
    "id": "9384e126"
   },
   "outputs": [],
   "source": [
    "# у нас есть категориальные переменные разных видов!\n",
    "\n",
    "binary_cols = cat_cols[X[cat_cols].nunique() == 2].tolist()\n",
    "ordinal_cols = ['Commute Distance', 'Education']\n",
    "cat_cols = cat_cols.difference(binary_cols + ordinal_cols).tolist()"
   ]
  },
  {
   "cell_type": "code",
   "execution_count": null,
   "id": "afb1fa61",
   "metadata": {
    "id": "afb1fa61",
    "outputId": "25f4f8f0-7109-4339-8a87-db44479cbb83",
    "scrolled": false
   },
   "outputs": [],
   "source": [
    "for col in num_cols:\n",
    "    print(col)\n",
    "    display(X[col].describe())\n",
    "    print()"
   ]
  },
  {
   "cell_type": "code",
   "execution_count": null,
   "id": "iYmxDDsJ0fRA",
   "metadata": {
    "id": "iYmxDDsJ0fRA",
    "outputId": "e1651e97-b62f-45b1-fa09-c44bb9fe9695"
   },
   "outputs": [],
   "source": [
    "X.describe()"
   ]
  },
  {
   "cell_type": "code",
   "execution_count": null,
   "id": "5abb0d94",
   "metadata": {
    "id": "5abb0d94",
    "outputId": "6b3d40bc-a840-4173-a757-eb6ad74b53a4"
   },
   "outputs": [],
   "source": [
    "# classes are balanced !\n",
    "y.value_counts(normalize=True)"
   ]
  },
  {
   "cell_type": "code",
   "execution_count": null,
   "id": "c47e44c2",
   "metadata": {
    "id": "c47e44c2",
    "outputId": "eb0f6cee-7523-4781-8314-a061a7df582f"
   },
   "outputs": [],
   "source": [
    "# transform y to numeric column\n",
    "y = (y == 'Yes').astype(int)\n",
    "y"
   ]
  },
  {
   "cell_type": "markdown",
   "id": "97212af5",
   "metadata": {
    "id": "97212af5"
   },
   "source": [
    "# Подготовка данных"
   ]
  },
  {
   "cell_type": "markdown",
   "id": "3b99eecf",
   "metadata": {
    "id": "3b99eecf"
   },
   "source": [
    "## Кодирование категориальных признаков"
   ]
  },
  {
   "cell_type": "code",
   "execution_count": null,
   "id": "21c340d0",
   "metadata": {
    "id": "21c340d0"
   },
   "outputs": [],
   "source": [
    "# run if not installed yet\n",
    "\n",
    "!pip install category_encoders"
   ]
  },
  {
   "cell_type": "code",
   "execution_count": null,
   "id": "e9ef0b6b",
   "metadata": {
    "id": "e9ef0b6b"
   },
   "outputs": [],
   "source": [
    "from category_encoders.ordinal import OrdinalEncoder # LabelEncoder\n",
    "from category_encoders.one_hot import OneHotEncoder # OneHotEncoding\n",
    "from category_encoders.target_encoder import TargetEncoder # счетчики+сглаживание"
   ]
  },
  {
   "cell_type": "code",
   "execution_count": null,
   "id": "10f5241d",
   "metadata": {
    "id": "10f5241d",
    "outputId": "0fd3befe-a703-4a33-acea-1183a4734e58"
   },
   "outputs": [],
   "source": [
    "X['Education'].unique()\n",
    "dict_our = {'Bachelors':2, 'Partial College':1}\n",
    "X['Education'].map(dict_our)"
   ]
  },
  {
   "cell_type": "code",
   "execution_count": null,
   "id": "e65d03fb",
   "metadata": {
    "id": "e65d03fb",
    "outputId": "cd07ebf2-c664-42cb-ee8e-790717529fb7"
   },
   "outputs": [],
   "source": [
    "# Ordinal: from categories to numbers\n",
    "\n",
    "ord_enc = OrdinalEncoder()\n",
    "ord_enc.fit_transform(X['Education'])"
   ]
  },
  {
   "cell_type": "code",
   "execution_count": null,
   "id": "0cdc5709",
   "metadata": {
    "id": "0cdc5709",
    "outputId": "20ddff6a-c0c3-4b0c-a3b7-a3eaad212e5f",
    "scrolled": false
   },
   "outputs": [],
   "source": [
    "# One hot: from k categories to k dummy columns\n",
    "\n",
    "one_hot_enc = OneHotEncoder()\n",
    "\n",
    "one_hot_enc.fit_transform(X['Education'], drop='first')\n",
    "# * fit -> определить количество новых столбцов (по кол-ву категорий)\n",
    "# * transform -> создать новые столбцы\n",
    "# * fit_transform = fit + transform\n",
    "\n",
    "# Нужно ли удалять какую-то из колонок после такого кодирования ?\n"
   ]
  },
  {
   "cell_type": "markdown",
   "id": "ecc35c64",
   "metadata": {
    "id": "ecc35c64"
   },
   "source": [
    "Target encoding вычисляет значения по формуле\n",
    "\n",
    "$$\\frac{mean(target)\\cdot n_{rows} + \\alpha \\cdot globalMean}{n_{rows} + \\alpha} $$"
   ]
  },
  {
   "cell_type": "code",
   "execution_count": null,
   "id": "48f62227",
   "metadata": {},
   "outputs": [],
   "source": [
    "data.columns"
   ]
  },
  {
   "cell_type": "code",
   "execution_count": null,
   "id": "f95d9bbb",
   "metadata": {},
   "outputs": [],
   "source": [
    "df = X.copy()\n",
    "df['y'] = y"
   ]
  },
  {
   "cell_type": "code",
   "execution_count": null,
   "id": "ae400ab2",
   "metadata": {},
   "outputs": [],
   "source": [
    "df.groupby('Education')['y'].mean()"
   ]
  },
  {
   "cell_type": "code",
   "execution_count": null,
   "id": "3d1b0d1f",
   "metadata": {},
   "outputs": [],
   "source": [
    "df[['Education', 'y']].head()"
   ]
  },
  {
   "cell_type": "code",
   "execution_count": null,
   "id": "e1327a3e",
   "metadata": {
    "id": "e1327a3e",
    "outputId": "864e7690-832b-4be6-ff44-40d669f1aa8b"
   },
   "outputs": [],
   "source": [
    "# target encoding: from k categories to posterior probabilites of y == 1 - P(y==1 | category == c1)\n",
    "\n",
    "tgt_enc = TargetEncoder(smoothing=1)\n",
    "\n",
    "# smoothing - это коэффициент сглаживания alpha, чем он больше, тем больше регуляризация\n",
    "\n",
    "tgt_enc.fit_transform(X['Education'], y)"
   ]
  },
  {
   "cell_type": "code",
   "execution_count": null,
   "id": "78773e3e",
   "metadata": {
    "id": "78773e3e",
    "outputId": "1278ff31-dc23-4a62-9893-27faf5ae52cd"
   },
   "outputs": [],
   "source": [
    "# энкодер можно применять сразу на весь датафрейм\n",
    "\n",
    "tgt_enc = TargetEncoder(cols=['Education', 'Gender', 'Region'])\n",
    "tgt_enc.fit_transform(X, y)"
   ]
  },
  {
   "cell_type": "markdown",
   "id": "9db464ee",
   "metadata": {
    "id": "9db464ee"
   },
   "source": [
    "Помимо сглаживания, для борьбы с переобучением при таргет энкодинге в лекции предлагались и другие методы\n",
    "\n",
    "- Добавление случайного шума\n",
    "- Вычисление счетчиков на кросс-валидации\n",
    "- Expanding mean encoding\n",
    "\n",
    "Первые две идеи реализованы в классе LeaveOneOut\n",
    "\n",
    "- значения считаются на основе кросс-валидации вида leave one out (то есть значение энкодинга для конкретного наблюдения будет считаться по всем наблюдениям, кроме этого)\n",
    "- параметр sigma отвечает за дисперсию случайного шума, который добавляется к значению энкодинга (чем больше sigma, тем больше регуляризация)"
   ]
  },
  {
   "cell_type": "code",
   "execution_count": null,
   "id": "b1a7b993",
   "metadata": {
    "id": "b1a7b993",
    "outputId": "c0afd3a9-4bf2-40b0-b5f4-648baf580563"
   },
   "outputs": [],
   "source": [
    "from category_encoders.leave_one_out import LeaveOneOutEncoder\n",
    "\n",
    "loo_enc = LeaveOneOutEncoder(sigma=3.)\n",
    "\n",
    "loo_enc.fit_transform(X['Education'], y)"
   ]
  },
  {
   "cell_type": "markdown",
   "id": "1f77f2cb",
   "metadata": {
    "id": "1f77f2cb"
   },
   "source": [
    "## Масштабирование числовых признаков"
   ]
  },
  {
   "cell_type": "code",
   "execution_count": null,
   "id": "91ecd400",
   "metadata": {
    "id": "91ecd400",
    "outputId": "2c91964b-ff0e-4e2c-fc78-3b3648343296"
   },
   "outputs": [],
   "source": [
    "X['Income'].hist()"
   ]
  },
  {
   "cell_type": "code",
   "execution_count": null,
   "id": "2aba0cc6",
   "metadata": {
    "id": "2aba0cc6",
    "outputId": "bec22d15-59aa-40f8-ad1a-0ac62ccc0796"
   },
   "outputs": [],
   "source": [
    "from sklearn.preprocessing import StandardScaler\n",
    "\n",
    "scaler = StandardScaler()\n",
    "scaler.fit_transform(X[['Income']])"
   ]
  },
  {
   "cell_type": "markdown",
   "id": "e0414655",
   "metadata": {
    "id": "e0414655"
   },
   "source": [
    "Есть две проблемы:\n",
    "- класc StandardScaler не умеет работать только на части колонок датафрейма\n",
    "- классы sklearn возвращают numpy arrays, а не pandas dataframe, что не удобно"
   ]
  },
  {
   "cell_type": "code",
   "execution_count": null,
   "id": "31d98491",
   "metadata": {
    "id": "31d98491",
    "outputId": "887ab5be-434f-4890-a7a1-24ab27624459"
   },
   "outputs": [],
   "source": [
    "num_cols"
   ]
  },
  {
   "cell_type": "code",
   "execution_count": null,
   "id": "aa30d1d3",
   "metadata": {
    "id": "aa30d1d3"
   },
   "outputs": [],
   "source": [
    "from sklearn.compose import ColumnTransformer\n",
    "\n",
    "ct = ColumnTransformer([('scaler', StandardScaler(), num_cols)], remainder='passthrough') # 'drop'"
   ]
  },
  {
   "cell_type": "code",
   "execution_count": null,
   "id": "108fdb47",
   "metadata": {
    "id": "108fdb47",
    "outputId": "ce8a2f84-2c48-424d-a346-669e7c7bc2bb"
   },
   "outputs": [],
   "source": [
    "ct.fit_transform(X)"
   ]
  },
  {
   "cell_type": "code",
   "execution_count": null,
   "id": "4e56049e",
   "metadata": {
    "id": "4e56049e"
   },
   "outputs": [],
   "source": [
    "# нет удобной реализации - напишем сами !\n",
    "\n",
    "from sklearn.base import TransformerMixin\n",
    "\n",
    "class CustomScaler(TransformerMixin):\n",
    "    def __init__(self, cols, scaler=None):\n",
    "        self.cols = cols\n",
    "        self.scaler = scaler or StandardScaler()\n",
    "        \n",
    "    def fit(self, X, y=None):\n",
    "        num_cols = X.copy()[self.cols]\n",
    "        self.scaler.fit(num_cols)\n",
    "        return self\n",
    "    def transform(self, X, y=None):\n",
    "        X_res = X.copy()\n",
    "        num_cols_tr = self.scaler.transform(X_res[self.cols])\n",
    "        for i, col in enumerate(self.cols):\n",
    "            X_res[col] = num_cols_tr[:,i]\n",
    "        return X_res"
   ]
  },
  {
   "cell_type": "code",
   "execution_count": null,
   "id": "2f03ef75",
   "metadata": {
    "id": "2f03ef75"
   },
   "outputs": [],
   "source": [
    "sc = CustomScaler(num_cols)\n",
    "X2 = sc.fit_transform(X)"
   ]
  },
  {
   "cell_type": "code",
   "execution_count": null,
   "id": "aeec28cb",
   "metadata": {
    "id": "aeec28cb",
    "outputId": "e0371bde-994b-43a8-bbfd-72c040a4131f"
   },
   "outputs": [],
   "source": [
    "X2.info()"
   ]
  },
  {
   "cell_type": "markdown",
   "id": "6df6e872",
   "metadata": {
    "id": "6df6e872"
   },
   "source": [
    "# Соберем все преобразования данных в pipeline"
   ]
  },
  {
   "cell_type": "code",
   "execution_count": null,
   "id": "ba1d0eb3",
   "metadata": {
    "id": "ba1d0eb3"
   },
   "outputs": [],
   "source": [
    "from sklearn.linear_model import LogisticRegression\n",
    "from sklearn.pipeline import Pipeline\n",
    "\n",
    "p1 = Pipeline([\n",
    "    ('ordinal_encoder_', OrdinalEncoder(cols=ordinal_cols + binary_cols + cat_cols)), # плохо!!!\n",
    "    ('scaler_', CustomScaler(num_cols)),\n",
    "    ('model_', LogisticRegression())\n",
    "    ])\n",
    "\n",
    "p2 = Pipeline([\n",
    "    ('one_hot_encoder_', OneHotEncoder(cols=ordinal_cols + binary_cols+cat_cols)),\n",
    "    ('scaler_', CustomScaler(num_cols)),\n",
    "    ('model_', LogisticRegression())\n",
    "    ])\n",
    "\n",
    "p3 = Pipeline([\n",
    "    ('target_encoder_', TargetEncoder(cols=ordinal_cols + binary_cols+cat_cols)),\n",
    "    ('scaler_', CustomScaler(num_cols)),\n",
    "    ('model_', LogisticRegression())\n",
    "])\n",
    "\n",
    "p4 = Pipeline([\n",
    "    ('ordinal_encoder_', OrdinalEncoder(cols=ordinal_cols)),\n",
    "    ('one_hot_encoder_', OneHotEncoder(cols=binary_cols+cat_cols)),\n",
    "    ('scaler_', CustomScaler(num_cols)),\n",
    "    ('model_', LogisticRegression())\n",
    "    ])\n",
    "\n",
    "p5 = Pipeline([\n",
    "    ('ordinal_encoder_', OrdinalEncoder(cols=ordinal_cols)),\n",
    "    ('one_hot_encoder_', OneHotEncoder(cols=binary_cols)),\n",
    "    ('target_encoder_', TargetEncoder(cols=cat_cols)),\n",
    "    ('scaler_', CustomScaler(num_cols)),\n",
    "    ('model_', LogisticRegression())\n",
    "])\n",
    "\n",
    "p6 = Pipeline([\n",
    "    ('one_hot_encoder_', OneHotEncoder(cols=binary_cols)),\n",
    "    ('target_encoder_', TargetEncoder(cols=cat_cols + ordinal_cols)),\n",
    "    ('scaler_', CustomScaler(num_cols)),\n",
    "    ('model_', LogisticRegression())\n",
    "])"
   ]
  },
  {
   "cell_type": "code",
   "execution_count": null,
   "id": "845d941c",
   "metadata": {},
   "outputs": [],
   "source": [
    "cat_cols"
   ]
  },
  {
   "cell_type": "code",
   "execution_count": null,
   "id": "9cf3065c",
   "metadata": {
    "id": "9cf3065c",
    "outputId": "fa22389b-4e6e-4cd4-caba-8ec7ece7326a"
   },
   "outputs": [],
   "source": [
    "# пример работы с пайплайном\n",
    "from sklearn.model_selection import train_test_split\n",
    "from sklearn.metrics import accuracy_score\n",
    "\n",
    "X_train, X_test, y_train, y_test = train_test_split(X, y)\n",
    "\n",
    "p1.fit(X_train, y_train)\n",
    "\n",
    "#print(p1)\n",
    "\n",
    "y_pred = p1.predict(X_test)\n",
    "\n",
    "print(accuracy_score(y_test, y_pred))"
   ]
  },
  {
   "cell_type": "code",
   "execution_count": null,
   "id": "587e13a5",
   "metadata": {},
   "outputs": [],
   "source": [
    "from sklearn import svm, datasets\n",
    "from sklearn.model_selection import cross_val_score\n",
    "X, y = datasets.load_iris(return_X_y=True)\n",
    "clf = LogisticRegression()\n",
    "cross_val_score(clf, X, y, cv=5, scoring='accuracy')"
   ]
  },
  {
   "cell_type": "markdown",
   "id": "f63c4670",
   "metadata": {
    "id": "f63c4670"
   },
   "source": [
    "# Сравнение качества классификации при разных пайплайнах преобразования данных"
   ]
  },
  {
   "cell_type": "markdown",
   "id": "bc0dc93e",
   "metadata": {
    "id": "bc0dc93e"
   },
   "source": [
    "Вообще существует довольно большое количество метрик для задачи бинарной классификации (о них будет подробно рассказано на лекциях)\n",
    "\n",
    "Но для нашей задачи разберем самую простую и интуитивную метрику: accuracy\n",
    "\n",
    "$accuracy = \\frac{1}{n}\\Sigma_{i=0}^n [\\hat y_i == y_i]$\n",
    "\n",
    "То есть доля правильных предсказаний"
   ]
  },
  {
   "cell_type": "code",
   "execution_count": null,
   "id": "ee526e54",
   "metadata": {
    "id": "ee526e54"
   },
   "outputs": [],
   "source": [
    "from sklearn.model_selection import cross_validate, cross_val_score\n",
    "import warnings\n",
    "\n",
    "warnings.filterwarnings('ignore')\n",
    "\n",
    "cross_val_score()"
   ]
  },
  {
   "cell_type": "code",
   "execution_count": null,
   "id": "22e4cfd0",
   "metadata": {
    "id": "22e4cfd0",
    "outputId": "ca1d68fe-4347-437b-9e35-231491ced709",
    "scrolled": true
   },
   "outputs": [],
   "source": [
    "for i, pipe in enumerate([p1, p2, p3, p4, p5, p6]):\n",
    "    cv_res = cross_validate(pipe,\n",
    "                            X,\n",
    "                            y,\n",
    "                            cv=5,\n",
    "                            scoring='accuracy'\n",
    "                           )\n",
    "    print(f\"Pipeline {i + 1}: mean cv accuracy = {cv_res['test_score'].mean()}\")"
   ]
  },
  {
   "cell_type": "code",
   "execution_count": null,
   "id": "35caf8b8",
   "metadata": {},
   "outputs": [],
   "source": [
    "for i, pipe in enumerate([p1, p2, p3, p4, p5, p6]):\n",
    "    cv_res = cross_val_score(pipe,\n",
    "                            X,\n",
    "                            y,\n",
    "                            cv=5,\n",
    "                            scoring='accuracy'\n",
    "                           )\n",
    "    print(f\"Pipeline {i + 1}: mean cv accuracy = {cv_res['test_score'].mean()}\")"
   ]
  }
 ],
 "metadata": {
  "colab": {
   "provenance": []
  },
  "kernelspec": {
   "display_name": "Python 3 (ipykernel)",
   "language": "python",
   "name": "python3"
  },
  "language_info": {
   "codemirror_mode": {
    "name": "ipython",
    "version": 3
   },
   "file_extension": ".py",
   "mimetype": "text/x-python",
   "name": "python",
   "nbconvert_exporter": "python",
   "pygments_lexer": "ipython3",
   "version": "3.9.7"
  },
  "toc": {
   "base_numbering": 1,
   "nav_menu": {},
   "number_sections": true,
   "sideBar": true,
   "skip_h1_title": false,
   "title_cell": "Table of Contents",
   "title_sidebar": "Contents",
   "toc_cell": false,
   "toc_position": {},
   "toc_section_display": true,
   "toc_window_display": false
  }
 },
 "nbformat": 4,
 "nbformat_minor": 5
}
