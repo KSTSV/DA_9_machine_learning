{
  "cells": [
    {
      "cell_type": "code",
      "execution_count": 1,
      "id": "5NSBCmQapX9v",
      "metadata": {
        "id": "5NSBCmQapX9v"
      },
      "outputs": [],
      "source": [
        "%%capture\n",
        "!pip install lightfm\n",
        "!pip install transliterate"
      ]
    },
    {
      "cell_type": "code",
      "execution_count": 2,
      "id": "5160c016",
      "metadata": {
        "id": "5160c016"
      },
      "outputs": [],
      "source": [
        "from copy import deepcopy\n",
        "from itertools import combinations\n",
        "import pickle\n",
        "import typing as tp\n",
        "from zipfile import ZipFile\n",
        "\n",
        "from lightfm import LightFM\n",
        "from lightfm.data import Dataset as LFMDataset\n",
        "import numpy as np\n",
        "import pandas as pd\n",
        "from scipy.sparse import coo_matrix\n",
        "from sklearn.preprocessing import normalize\n",
        "from transliterate import translit"
      ]
    },
    {
      "cell_type": "code",
      "execution_count": 3,
      "id": "f300483e",
      "metadata": {
        "id": "f300483e"
      },
      "outputs": [],
      "source": [
        "RANDOM_STATE = 42"
      ]
    },
    {
      "cell_type": "markdown",
      "id": "55767a6f",
      "metadata": {
        "id": "55767a6f"
      },
      "source": [
        "## Загрузка данных"
      ]
    },
    {
      "cell_type": "markdown",
      "id": "11e95e79",
      "metadata": {
        "id": "11e95e79"
      },
      "source": [
        "Для целей семинара используем анонимизированные данные по просмотрам в онлайн-кинотеатре Кион. Мы имеем данные по действиям примерно за полгода, а также признаки пользователей и контента."
      ]
    },
    {
      "cell_type": "code",
      "execution_count": 4,
      "id": "O7FUfm7O7Ras",
      "metadata": {
        "id": "O7FUfm7O7Ras"
      },
      "outputs": [],
      "source": [
        "interactions = pd.read_csv(\"https://www.dropbox.com/scl/fi/agp4diw6eg5t4f8jfedol/interactions.csv?rlkey=2xuzzrz39l6lpr4086nmqk88p&dl=1\")\n",
        "items = pd.read_csv(\"https://www.dropbox.com/scl/fi/qlqdlgkxzs8nc7qevpfu3/items.csv?rlkey=4lmxdw0981zqoj1ls105guhlq&dl=1\")"
      ]
    },
    {
      "cell_type": "code",
      "execution_count": 5,
      "id": "y_Fo0WQz7kUD",
      "metadata": {
        "colab": {
          "base_uri": "https://localhost:8080/",
          "height": 206
        },
        "id": "y_Fo0WQz7kUD",
        "outputId": "7d84c37c-6636-463f-f2a6-3c37d1066344"
      },
      "outputs": [
        {
          "output_type": "execute_result",
          "data": {
            "text/plain": [
              "   user_id  item_id last_watch_dt  total_dur  watched_pct\n",
              "0   176549     9506    2021-05-11       4250         72.0\n",
              "1   699317     1659    2021-05-29       8317        100.0\n",
              "2   656683     7107    2021-05-09         10          0.0\n",
              "3   864613     7638    2021-07-05      14483        100.0\n",
              "4   964868     9506    2021-04-30       6725        100.0"
            ],
            "text/html": [
              "\n",
              "  <div id=\"df-c72a68e6-774d-4a78-bda1-7b642a54c610\" class=\"colab-df-container\">\n",
              "    <div>\n",
              "<style scoped>\n",
              "    .dataframe tbody tr th:only-of-type {\n",
              "        vertical-align: middle;\n",
              "    }\n",
              "\n",
              "    .dataframe tbody tr th {\n",
              "        vertical-align: top;\n",
              "    }\n",
              "\n",
              "    .dataframe thead th {\n",
              "        text-align: right;\n",
              "    }\n",
              "</style>\n",
              "<table border=\"1\" class=\"dataframe\">\n",
              "  <thead>\n",
              "    <tr style=\"text-align: right;\">\n",
              "      <th></th>\n",
              "      <th>user_id</th>\n",
              "      <th>item_id</th>\n",
              "      <th>last_watch_dt</th>\n",
              "      <th>total_dur</th>\n",
              "      <th>watched_pct</th>\n",
              "    </tr>\n",
              "  </thead>\n",
              "  <tbody>\n",
              "    <tr>\n",
              "      <th>0</th>\n",
              "      <td>176549</td>\n",
              "      <td>9506</td>\n",
              "      <td>2021-05-11</td>\n",
              "      <td>4250</td>\n",
              "      <td>72.0</td>\n",
              "    </tr>\n",
              "    <tr>\n",
              "      <th>1</th>\n",
              "      <td>699317</td>\n",
              "      <td>1659</td>\n",
              "      <td>2021-05-29</td>\n",
              "      <td>8317</td>\n",
              "      <td>100.0</td>\n",
              "    </tr>\n",
              "    <tr>\n",
              "      <th>2</th>\n",
              "      <td>656683</td>\n",
              "      <td>7107</td>\n",
              "      <td>2021-05-09</td>\n",
              "      <td>10</td>\n",
              "      <td>0.0</td>\n",
              "    </tr>\n",
              "    <tr>\n",
              "      <th>3</th>\n",
              "      <td>864613</td>\n",
              "      <td>7638</td>\n",
              "      <td>2021-07-05</td>\n",
              "      <td>14483</td>\n",
              "      <td>100.0</td>\n",
              "    </tr>\n",
              "    <tr>\n",
              "      <th>4</th>\n",
              "      <td>964868</td>\n",
              "      <td>9506</td>\n",
              "      <td>2021-04-30</td>\n",
              "      <td>6725</td>\n",
              "      <td>100.0</td>\n",
              "    </tr>\n",
              "  </tbody>\n",
              "</table>\n",
              "</div>\n",
              "    <div class=\"colab-df-buttons\">\n",
              "\n",
              "  <div class=\"colab-df-container\">\n",
              "    <button class=\"colab-df-convert\" onclick=\"convertToInteractive('df-c72a68e6-774d-4a78-bda1-7b642a54c610')\"\n",
              "            title=\"Convert this dataframe to an interactive table.\"\n",
              "            style=\"display:none;\">\n",
              "\n",
              "  <svg xmlns=\"http://www.w3.org/2000/svg\" height=\"24px\" viewBox=\"0 -960 960 960\">\n",
              "    <path d=\"M120-120v-720h720v720H120Zm60-500h600v-160H180v160Zm220 220h160v-160H400v160Zm0 220h160v-160H400v160ZM180-400h160v-160H180v160Zm440 0h160v-160H620v160ZM180-180h160v-160H180v160Zm440 0h160v-160H620v160Z\"/>\n",
              "  </svg>\n",
              "    </button>\n",
              "\n",
              "  <style>\n",
              "    .colab-df-container {\n",
              "      display:flex;\n",
              "      gap: 12px;\n",
              "    }\n",
              "\n",
              "    .colab-df-convert {\n",
              "      background-color: #E8F0FE;\n",
              "      border: none;\n",
              "      border-radius: 50%;\n",
              "      cursor: pointer;\n",
              "      display: none;\n",
              "      fill: #1967D2;\n",
              "      height: 32px;\n",
              "      padding: 0 0 0 0;\n",
              "      width: 32px;\n",
              "    }\n",
              "\n",
              "    .colab-df-convert:hover {\n",
              "      background-color: #E2EBFA;\n",
              "      box-shadow: 0px 1px 2px rgba(60, 64, 67, 0.3), 0px 1px 3px 1px rgba(60, 64, 67, 0.15);\n",
              "      fill: #174EA6;\n",
              "    }\n",
              "\n",
              "    .colab-df-buttons div {\n",
              "      margin-bottom: 4px;\n",
              "    }\n",
              "\n",
              "    [theme=dark] .colab-df-convert {\n",
              "      background-color: #3B4455;\n",
              "      fill: #D2E3FC;\n",
              "    }\n",
              "\n",
              "    [theme=dark] .colab-df-convert:hover {\n",
              "      background-color: #434B5C;\n",
              "      box-shadow: 0px 1px 3px 1px rgba(0, 0, 0, 0.15);\n",
              "      filter: drop-shadow(0px 1px 2px rgba(0, 0, 0, 0.3));\n",
              "      fill: #FFFFFF;\n",
              "    }\n",
              "  </style>\n",
              "\n",
              "    <script>\n",
              "      const buttonEl =\n",
              "        document.querySelector('#df-c72a68e6-774d-4a78-bda1-7b642a54c610 button.colab-df-convert');\n",
              "      buttonEl.style.display =\n",
              "        google.colab.kernel.accessAllowed ? 'block' : 'none';\n",
              "\n",
              "      async function convertToInteractive(key) {\n",
              "        const element = document.querySelector('#df-c72a68e6-774d-4a78-bda1-7b642a54c610');\n",
              "        const dataTable =\n",
              "          await google.colab.kernel.invokeFunction('convertToInteractive',\n",
              "                                                    [key], {});\n",
              "        if (!dataTable) return;\n",
              "\n",
              "        const docLinkHtml = 'Like what you see? Visit the ' +\n",
              "          '<a target=\"_blank\" href=https://colab.research.google.com/notebooks/data_table.ipynb>data table notebook</a>'\n",
              "          + ' to learn more about interactive tables.';\n",
              "        element.innerHTML = '';\n",
              "        dataTable['output_type'] = 'display_data';\n",
              "        await google.colab.output.renderOutput(dataTable, element);\n",
              "        const docLink = document.createElement('div');\n",
              "        docLink.innerHTML = docLinkHtml;\n",
              "        element.appendChild(docLink);\n",
              "      }\n",
              "    </script>\n",
              "  </div>\n",
              "\n",
              "\n",
              "<div id=\"df-e03480fb-db01-4844-acb2-adf4817a9ac0\">\n",
              "  <button class=\"colab-df-quickchart\" onclick=\"quickchart('df-e03480fb-db01-4844-acb2-adf4817a9ac0')\"\n",
              "            title=\"Suggest charts\"\n",
              "            style=\"display:none;\">\n",
              "\n",
              "<svg xmlns=\"http://www.w3.org/2000/svg\" height=\"24px\"viewBox=\"0 0 24 24\"\n",
              "     width=\"24px\">\n",
              "    <g>\n",
              "        <path d=\"M19 3H5c-1.1 0-2 .9-2 2v14c0 1.1.9 2 2 2h14c1.1 0 2-.9 2-2V5c0-1.1-.9-2-2-2zM9 17H7v-7h2v7zm4 0h-2V7h2v10zm4 0h-2v-4h2v4z\"/>\n",
              "    </g>\n",
              "</svg>\n",
              "  </button>\n",
              "\n",
              "<style>\n",
              "  .colab-df-quickchart {\n",
              "      --bg-color: #E8F0FE;\n",
              "      --fill-color: #1967D2;\n",
              "      --hover-bg-color: #E2EBFA;\n",
              "      --hover-fill-color: #174EA6;\n",
              "      --disabled-fill-color: #AAA;\n",
              "      --disabled-bg-color: #DDD;\n",
              "  }\n",
              "\n",
              "  [theme=dark] .colab-df-quickchart {\n",
              "      --bg-color: #3B4455;\n",
              "      --fill-color: #D2E3FC;\n",
              "      --hover-bg-color: #434B5C;\n",
              "      --hover-fill-color: #FFFFFF;\n",
              "      --disabled-bg-color: #3B4455;\n",
              "      --disabled-fill-color: #666;\n",
              "  }\n",
              "\n",
              "  .colab-df-quickchart {\n",
              "    background-color: var(--bg-color);\n",
              "    border: none;\n",
              "    border-radius: 50%;\n",
              "    cursor: pointer;\n",
              "    display: none;\n",
              "    fill: var(--fill-color);\n",
              "    height: 32px;\n",
              "    padding: 0;\n",
              "    width: 32px;\n",
              "  }\n",
              "\n",
              "  .colab-df-quickchart:hover {\n",
              "    background-color: var(--hover-bg-color);\n",
              "    box-shadow: 0 1px 2px rgba(60, 64, 67, 0.3), 0 1px 3px 1px rgba(60, 64, 67, 0.15);\n",
              "    fill: var(--button-hover-fill-color);\n",
              "  }\n",
              "\n",
              "  .colab-df-quickchart-complete:disabled,\n",
              "  .colab-df-quickchart-complete:disabled:hover {\n",
              "    background-color: var(--disabled-bg-color);\n",
              "    fill: var(--disabled-fill-color);\n",
              "    box-shadow: none;\n",
              "  }\n",
              "\n",
              "  .colab-df-spinner {\n",
              "    border: 2px solid var(--fill-color);\n",
              "    border-color: transparent;\n",
              "    border-bottom-color: var(--fill-color);\n",
              "    animation:\n",
              "      spin 1s steps(1) infinite;\n",
              "  }\n",
              "\n",
              "  @keyframes spin {\n",
              "    0% {\n",
              "      border-color: transparent;\n",
              "      border-bottom-color: var(--fill-color);\n",
              "      border-left-color: var(--fill-color);\n",
              "    }\n",
              "    20% {\n",
              "      border-color: transparent;\n",
              "      border-left-color: var(--fill-color);\n",
              "      border-top-color: var(--fill-color);\n",
              "    }\n",
              "    30% {\n",
              "      border-color: transparent;\n",
              "      border-left-color: var(--fill-color);\n",
              "      border-top-color: var(--fill-color);\n",
              "      border-right-color: var(--fill-color);\n",
              "    }\n",
              "    40% {\n",
              "      border-color: transparent;\n",
              "      border-right-color: var(--fill-color);\n",
              "      border-top-color: var(--fill-color);\n",
              "    }\n",
              "    60% {\n",
              "      border-color: transparent;\n",
              "      border-right-color: var(--fill-color);\n",
              "    }\n",
              "    80% {\n",
              "      border-color: transparent;\n",
              "      border-right-color: var(--fill-color);\n",
              "      border-bottom-color: var(--fill-color);\n",
              "    }\n",
              "    90% {\n",
              "      border-color: transparent;\n",
              "      border-bottom-color: var(--fill-color);\n",
              "    }\n",
              "  }\n",
              "</style>\n",
              "\n",
              "  <script>\n",
              "    async function quickchart(key) {\n",
              "      const quickchartButtonEl =\n",
              "        document.querySelector('#' + key + ' button');\n",
              "      quickchartButtonEl.disabled = true;  // To prevent multiple clicks.\n",
              "      quickchartButtonEl.classList.add('colab-df-spinner');\n",
              "      try {\n",
              "        const charts = await google.colab.kernel.invokeFunction(\n",
              "            'suggestCharts', [key], {});\n",
              "      } catch (error) {\n",
              "        console.error('Error during call to suggestCharts:', error);\n",
              "      }\n",
              "      quickchartButtonEl.classList.remove('colab-df-spinner');\n",
              "      quickchartButtonEl.classList.add('colab-df-quickchart-complete');\n",
              "    }\n",
              "    (() => {\n",
              "      let quickchartButtonEl =\n",
              "        document.querySelector('#df-e03480fb-db01-4844-acb2-adf4817a9ac0 button');\n",
              "      quickchartButtonEl.style.display =\n",
              "        google.colab.kernel.accessAllowed ? 'block' : 'none';\n",
              "    })();\n",
              "  </script>\n",
              "</div>\n",
              "    </div>\n",
              "  </div>\n"
            ],
            "application/vnd.google.colaboratory.intrinsic+json": {
              "type": "dataframe",
              "variable_name": "interactions"
            }
          },
          "metadata": {},
          "execution_count": 5
        }
      ],
      "source": [
        "interactions.head()"
      ]
    },
    {
      "cell_type": "code",
      "execution_count": 6,
      "id": "bGIKjsNe8Pxh",
      "metadata": {
        "colab": {
          "base_uri": "https://localhost:8080/",
          "height": 328
        },
        "id": "bGIKjsNe8Pxh",
        "outputId": "27352fa4-45e5-4a95-81c4-4f49fd17704e"
      },
      "outputs": [
        {
          "output_type": "execute_result",
          "data": {
            "text/plain": [
              "   item_id content_type             title      title_orig  release_year  \\\n",
              "0    10711         film    Поговори с ней  Hable con ella        2002.0   \n",
              "1     8250         film            Объезд          Detour        2013.0   \n",
              "2     2508         film       Голые перцы    Search Party        2014.0   \n",
              "3    10716         film  Тактическая сила  Tactical Force        2011.0   \n",
              "4     7868         film            45 лет        45 Years        2015.0   \n",
              "\n",
              "                                             genres       countries  for_kids  \\\n",
              "0           драмы, зарубежные, детективы, мелодрамы         Испания       NaN   \n",
              "1                              зарубежные, триллеры             США       NaN   \n",
              "2                  зарубежные, приключения, комедии             США       NaN   \n",
              "3  криминал, зарубежные, триллеры, боевики, комедии          Канада       NaN   \n",
              "4                      драмы, зарубежные, мелодрамы  Великобритания       NaN   \n",
              "\n",
              "   age_rating studios         directors  \\\n",
              "0        16.0     NaN  Педро Альмодовар   \n",
              "1        16.0     NaN   Уильям Дикерсон   \n",
              "2        16.0     NaN    Скот Армстронг   \n",
              "3        16.0     NaN  Адам П. Калтраро   \n",
              "4        16.0     NaN         Эндрю Хэй   \n",
              "\n",
              "                                              actors  \\\n",
              "0  Адольфо Фернандес, Ана Фернандес, Дарио Гранди...   \n",
              "1  Бриа Грант, Джон Форест, Дэб Снайдер, Нил Хопк...   \n",
              "2  Адам Палли, Брайан Хаски, Дж.Б. Смув, Джейсон ...   \n",
              "3  Адриан Холмс, Даррен Шалави, Джерри Вассерман,...   \n",
              "4  Александра Риддлстон-Барретт, Джеральдин Джейм...   \n",
              "\n",
              "                                            keywords  \\\n",
              "0  Поговори, ней, 2002, Испания, друзья, любовь, ...   \n",
              "1  Объезд, 2013, США, выживание, диких, условиях,...   \n",
              "2  Голые, перцы, 2014, США, друзья, свадьбы, прео...   \n",
              "3  Тактическая, сила, 2011, Канада, бандиты, ганг...   \n",
              "4  45, лет, 2015, Великобритания, брак, жизнь, лю...   \n",
              "\n",
              "                                         description business_dt  \n",
              "0  Мелодрама легендарного Педро Альмодовара «Пого...  2021-09-10  \n",
              "1  История среднестатистического американца, чью ...  2021-09-10  \n",
              "2  Уморительная современная комедия на популярную...  2021-09-10  \n",
              "3  Профессиональный рестлер Стив Остин («Все или ...  2021-09-10  \n",
              "4  Шарлотта Рэмплинг, Том Кортни, Джеральдин Джей...  2021-09-10  "
            ],
            "text/html": [
              "\n",
              "  <div id=\"df-3764acce-941a-4a2d-9646-755b2456250e\" class=\"colab-df-container\">\n",
              "    <div>\n",
              "<style scoped>\n",
              "    .dataframe tbody tr th:only-of-type {\n",
              "        vertical-align: middle;\n",
              "    }\n",
              "\n",
              "    .dataframe tbody tr th {\n",
              "        vertical-align: top;\n",
              "    }\n",
              "\n",
              "    .dataframe thead th {\n",
              "        text-align: right;\n",
              "    }\n",
              "</style>\n",
              "<table border=\"1\" class=\"dataframe\">\n",
              "  <thead>\n",
              "    <tr style=\"text-align: right;\">\n",
              "      <th></th>\n",
              "      <th>item_id</th>\n",
              "      <th>content_type</th>\n",
              "      <th>title</th>\n",
              "      <th>title_orig</th>\n",
              "      <th>release_year</th>\n",
              "      <th>genres</th>\n",
              "      <th>countries</th>\n",
              "      <th>for_kids</th>\n",
              "      <th>age_rating</th>\n",
              "      <th>studios</th>\n",
              "      <th>directors</th>\n",
              "      <th>actors</th>\n",
              "      <th>keywords</th>\n",
              "      <th>description</th>\n",
              "      <th>business_dt</th>\n",
              "    </tr>\n",
              "  </thead>\n",
              "  <tbody>\n",
              "    <tr>\n",
              "      <th>0</th>\n",
              "      <td>10711</td>\n",
              "      <td>film</td>\n",
              "      <td>Поговори с ней</td>\n",
              "      <td>Hable con ella</td>\n",
              "      <td>2002.0</td>\n",
              "      <td>драмы, зарубежные, детективы, мелодрамы</td>\n",
              "      <td>Испания</td>\n",
              "      <td>NaN</td>\n",
              "      <td>16.0</td>\n",
              "      <td>NaN</td>\n",
              "      <td>Педро Альмодовар</td>\n",
              "      <td>Адольфо Фернандес, Ана Фернандес, Дарио Гранди...</td>\n",
              "      <td>Поговори, ней, 2002, Испания, друзья, любовь, ...</td>\n",
              "      <td>Мелодрама легендарного Педро Альмодовара «Пого...</td>\n",
              "      <td>2021-09-10</td>\n",
              "    </tr>\n",
              "    <tr>\n",
              "      <th>1</th>\n",
              "      <td>8250</td>\n",
              "      <td>film</td>\n",
              "      <td>Объезд</td>\n",
              "      <td>Detour</td>\n",
              "      <td>2013.0</td>\n",
              "      <td>зарубежные, триллеры</td>\n",
              "      <td>США</td>\n",
              "      <td>NaN</td>\n",
              "      <td>16.0</td>\n",
              "      <td>NaN</td>\n",
              "      <td>Уильям Дикерсон</td>\n",
              "      <td>Бриа Грант, Джон Форест, Дэб Снайдер, Нил Хопк...</td>\n",
              "      <td>Объезд, 2013, США, выживание, диких, условиях,...</td>\n",
              "      <td>История среднестатистического американца, чью ...</td>\n",
              "      <td>2021-09-10</td>\n",
              "    </tr>\n",
              "    <tr>\n",
              "      <th>2</th>\n",
              "      <td>2508</td>\n",
              "      <td>film</td>\n",
              "      <td>Голые перцы</td>\n",
              "      <td>Search Party</td>\n",
              "      <td>2014.0</td>\n",
              "      <td>зарубежные, приключения, комедии</td>\n",
              "      <td>США</td>\n",
              "      <td>NaN</td>\n",
              "      <td>16.0</td>\n",
              "      <td>NaN</td>\n",
              "      <td>Скот Армстронг</td>\n",
              "      <td>Адам Палли, Брайан Хаски, Дж.Б. Смув, Джейсон ...</td>\n",
              "      <td>Голые, перцы, 2014, США, друзья, свадьбы, прео...</td>\n",
              "      <td>Уморительная современная комедия на популярную...</td>\n",
              "      <td>2021-09-10</td>\n",
              "    </tr>\n",
              "    <tr>\n",
              "      <th>3</th>\n",
              "      <td>10716</td>\n",
              "      <td>film</td>\n",
              "      <td>Тактическая сила</td>\n",
              "      <td>Tactical Force</td>\n",
              "      <td>2011.0</td>\n",
              "      <td>криминал, зарубежные, триллеры, боевики, комедии</td>\n",
              "      <td>Канада</td>\n",
              "      <td>NaN</td>\n",
              "      <td>16.0</td>\n",
              "      <td>NaN</td>\n",
              "      <td>Адам П. Калтраро</td>\n",
              "      <td>Адриан Холмс, Даррен Шалави, Джерри Вассерман,...</td>\n",
              "      <td>Тактическая, сила, 2011, Канада, бандиты, ганг...</td>\n",
              "      <td>Профессиональный рестлер Стив Остин («Все или ...</td>\n",
              "      <td>2021-09-10</td>\n",
              "    </tr>\n",
              "    <tr>\n",
              "      <th>4</th>\n",
              "      <td>7868</td>\n",
              "      <td>film</td>\n",
              "      <td>45 лет</td>\n",
              "      <td>45 Years</td>\n",
              "      <td>2015.0</td>\n",
              "      <td>драмы, зарубежные, мелодрамы</td>\n",
              "      <td>Великобритания</td>\n",
              "      <td>NaN</td>\n",
              "      <td>16.0</td>\n",
              "      <td>NaN</td>\n",
              "      <td>Эндрю Хэй</td>\n",
              "      <td>Александра Риддлстон-Барретт, Джеральдин Джейм...</td>\n",
              "      <td>45, лет, 2015, Великобритания, брак, жизнь, лю...</td>\n",
              "      <td>Шарлотта Рэмплинг, Том Кортни, Джеральдин Джей...</td>\n",
              "      <td>2021-09-10</td>\n",
              "    </tr>\n",
              "  </tbody>\n",
              "</table>\n",
              "</div>\n",
              "    <div class=\"colab-df-buttons\">\n",
              "\n",
              "  <div class=\"colab-df-container\">\n",
              "    <button class=\"colab-df-convert\" onclick=\"convertToInteractive('df-3764acce-941a-4a2d-9646-755b2456250e')\"\n",
              "            title=\"Convert this dataframe to an interactive table.\"\n",
              "            style=\"display:none;\">\n",
              "\n",
              "  <svg xmlns=\"http://www.w3.org/2000/svg\" height=\"24px\" viewBox=\"0 -960 960 960\">\n",
              "    <path d=\"M120-120v-720h720v720H120Zm60-500h600v-160H180v160Zm220 220h160v-160H400v160Zm0 220h160v-160H400v160ZM180-400h160v-160H180v160Zm440 0h160v-160H620v160ZM180-180h160v-160H180v160Zm440 0h160v-160H620v160Z\"/>\n",
              "  </svg>\n",
              "    </button>\n",
              "\n",
              "  <style>\n",
              "    .colab-df-container {\n",
              "      display:flex;\n",
              "      gap: 12px;\n",
              "    }\n",
              "\n",
              "    .colab-df-convert {\n",
              "      background-color: #E8F0FE;\n",
              "      border: none;\n",
              "      border-radius: 50%;\n",
              "      cursor: pointer;\n",
              "      display: none;\n",
              "      fill: #1967D2;\n",
              "      height: 32px;\n",
              "      padding: 0 0 0 0;\n",
              "      width: 32px;\n",
              "    }\n",
              "\n",
              "    .colab-df-convert:hover {\n",
              "      background-color: #E2EBFA;\n",
              "      box-shadow: 0px 1px 2px rgba(60, 64, 67, 0.3), 0px 1px 3px 1px rgba(60, 64, 67, 0.15);\n",
              "      fill: #174EA6;\n",
              "    }\n",
              "\n",
              "    .colab-df-buttons div {\n",
              "      margin-bottom: 4px;\n",
              "    }\n",
              "\n",
              "    [theme=dark] .colab-df-convert {\n",
              "      background-color: #3B4455;\n",
              "      fill: #D2E3FC;\n",
              "    }\n",
              "\n",
              "    [theme=dark] .colab-df-convert:hover {\n",
              "      background-color: #434B5C;\n",
              "      box-shadow: 0px 1px 3px 1px rgba(0, 0, 0, 0.15);\n",
              "      filter: drop-shadow(0px 1px 2px rgba(0, 0, 0, 0.3));\n",
              "      fill: #FFFFFF;\n",
              "    }\n",
              "  </style>\n",
              "\n",
              "    <script>\n",
              "      const buttonEl =\n",
              "        document.querySelector('#df-3764acce-941a-4a2d-9646-755b2456250e button.colab-df-convert');\n",
              "      buttonEl.style.display =\n",
              "        google.colab.kernel.accessAllowed ? 'block' : 'none';\n",
              "\n",
              "      async function convertToInteractive(key) {\n",
              "        const element = document.querySelector('#df-3764acce-941a-4a2d-9646-755b2456250e');\n",
              "        const dataTable =\n",
              "          await google.colab.kernel.invokeFunction('convertToInteractive',\n",
              "                                                    [key], {});\n",
              "        if (!dataTable) return;\n",
              "\n",
              "        const docLinkHtml = 'Like what you see? Visit the ' +\n",
              "          '<a target=\"_blank\" href=https://colab.research.google.com/notebooks/data_table.ipynb>data table notebook</a>'\n",
              "          + ' to learn more about interactive tables.';\n",
              "        element.innerHTML = '';\n",
              "        dataTable['output_type'] = 'display_data';\n",
              "        await google.colab.output.renderOutput(dataTable, element);\n",
              "        const docLink = document.createElement('div');\n",
              "        docLink.innerHTML = docLinkHtml;\n",
              "        element.appendChild(docLink);\n",
              "      }\n",
              "    </script>\n",
              "  </div>\n",
              "\n",
              "\n",
              "<div id=\"df-caeb6bb7-2c59-4096-b82f-1a57999ba128\">\n",
              "  <button class=\"colab-df-quickchart\" onclick=\"quickchart('df-caeb6bb7-2c59-4096-b82f-1a57999ba128')\"\n",
              "            title=\"Suggest charts\"\n",
              "            style=\"display:none;\">\n",
              "\n",
              "<svg xmlns=\"http://www.w3.org/2000/svg\" height=\"24px\"viewBox=\"0 0 24 24\"\n",
              "     width=\"24px\">\n",
              "    <g>\n",
              "        <path d=\"M19 3H5c-1.1 0-2 .9-2 2v14c0 1.1.9 2 2 2h14c1.1 0 2-.9 2-2V5c0-1.1-.9-2-2-2zM9 17H7v-7h2v7zm4 0h-2V7h2v10zm4 0h-2v-4h2v4z\"/>\n",
              "    </g>\n",
              "</svg>\n",
              "  </button>\n",
              "\n",
              "<style>\n",
              "  .colab-df-quickchart {\n",
              "      --bg-color: #E8F0FE;\n",
              "      --fill-color: #1967D2;\n",
              "      --hover-bg-color: #E2EBFA;\n",
              "      --hover-fill-color: #174EA6;\n",
              "      --disabled-fill-color: #AAA;\n",
              "      --disabled-bg-color: #DDD;\n",
              "  }\n",
              "\n",
              "  [theme=dark] .colab-df-quickchart {\n",
              "      --bg-color: #3B4455;\n",
              "      --fill-color: #D2E3FC;\n",
              "      --hover-bg-color: #434B5C;\n",
              "      --hover-fill-color: #FFFFFF;\n",
              "      --disabled-bg-color: #3B4455;\n",
              "      --disabled-fill-color: #666;\n",
              "  }\n",
              "\n",
              "  .colab-df-quickchart {\n",
              "    background-color: var(--bg-color);\n",
              "    border: none;\n",
              "    border-radius: 50%;\n",
              "    cursor: pointer;\n",
              "    display: none;\n",
              "    fill: var(--fill-color);\n",
              "    height: 32px;\n",
              "    padding: 0;\n",
              "    width: 32px;\n",
              "  }\n",
              "\n",
              "  .colab-df-quickchart:hover {\n",
              "    background-color: var(--hover-bg-color);\n",
              "    box-shadow: 0 1px 2px rgba(60, 64, 67, 0.3), 0 1px 3px 1px rgba(60, 64, 67, 0.15);\n",
              "    fill: var(--button-hover-fill-color);\n",
              "  }\n",
              "\n",
              "  .colab-df-quickchart-complete:disabled,\n",
              "  .colab-df-quickchart-complete:disabled:hover {\n",
              "    background-color: var(--disabled-bg-color);\n",
              "    fill: var(--disabled-fill-color);\n",
              "    box-shadow: none;\n",
              "  }\n",
              "\n",
              "  .colab-df-spinner {\n",
              "    border: 2px solid var(--fill-color);\n",
              "    border-color: transparent;\n",
              "    border-bottom-color: var(--fill-color);\n",
              "    animation:\n",
              "      spin 1s steps(1) infinite;\n",
              "  }\n",
              "\n",
              "  @keyframes spin {\n",
              "    0% {\n",
              "      border-color: transparent;\n",
              "      border-bottom-color: var(--fill-color);\n",
              "      border-left-color: var(--fill-color);\n",
              "    }\n",
              "    20% {\n",
              "      border-color: transparent;\n",
              "      border-left-color: var(--fill-color);\n",
              "      border-top-color: var(--fill-color);\n",
              "    }\n",
              "    30% {\n",
              "      border-color: transparent;\n",
              "      border-left-color: var(--fill-color);\n",
              "      border-top-color: var(--fill-color);\n",
              "      border-right-color: var(--fill-color);\n",
              "    }\n",
              "    40% {\n",
              "      border-color: transparent;\n",
              "      border-right-color: var(--fill-color);\n",
              "      border-top-color: var(--fill-color);\n",
              "    }\n",
              "    60% {\n",
              "      border-color: transparent;\n",
              "      border-right-color: var(--fill-color);\n",
              "    }\n",
              "    80% {\n",
              "      border-color: transparent;\n",
              "      border-right-color: var(--fill-color);\n",
              "      border-bottom-color: var(--fill-color);\n",
              "    }\n",
              "    90% {\n",
              "      border-color: transparent;\n",
              "      border-bottom-color: var(--fill-color);\n",
              "    }\n",
              "  }\n",
              "</style>\n",
              "\n",
              "  <script>\n",
              "    async function quickchart(key) {\n",
              "      const quickchartButtonEl =\n",
              "        document.querySelector('#' + key + ' button');\n",
              "      quickchartButtonEl.disabled = true;  // To prevent multiple clicks.\n",
              "      quickchartButtonEl.classList.add('colab-df-spinner');\n",
              "      try {\n",
              "        const charts = await google.colab.kernel.invokeFunction(\n",
              "            'suggestCharts', [key], {});\n",
              "      } catch (error) {\n",
              "        console.error('Error during call to suggestCharts:', error);\n",
              "      }\n",
              "      quickchartButtonEl.classList.remove('colab-df-spinner');\n",
              "      quickchartButtonEl.classList.add('colab-df-quickchart-complete');\n",
              "    }\n",
              "    (() => {\n",
              "      let quickchartButtonEl =\n",
              "        document.querySelector('#df-caeb6bb7-2c59-4096-b82f-1a57999ba128 button');\n",
              "      quickchartButtonEl.style.display =\n",
              "        google.colab.kernel.accessAllowed ? 'block' : 'none';\n",
              "    })();\n",
              "  </script>\n",
              "</div>\n",
              "    </div>\n",
              "  </div>\n"
            ],
            "application/vnd.google.colaboratory.intrinsic+json": {
              "type": "dataframe",
              "variable_name": "items",
              "summary": "{\n  \"name\": \"items\",\n  \"rows\": 16519,\n  \"fields\": [\n    {\n      \"column\": \"item_id\",\n      \"properties\": {\n        \"dtype\": \"number\",\n        \"std\": 4768,\n        \"min\": 0,\n        \"max\": 16518,\n        \"num_unique_values\": 16519,\n        \"samples\": [\n          14033,\n          11192,\n          3627\n        ],\n        \"semantic_type\": \"\",\n        \"description\": \"\"\n      }\n    },\n    {\n      \"column\": \"content_type\",\n      \"properties\": {\n        \"dtype\": \"category\",\n        \"num_unique_values\": 2,\n        \"samples\": [\n          \"series\",\n          \"film\"\n        ],\n        \"semantic_type\": \"\",\n        \"description\": \"\"\n      }\n    },\n    {\n      \"column\": \"title\",\n      \"properties\": {\n        \"dtype\": \"string\",\n        \"num_unique_values\": 15321,\n        \"samples\": [\n          \"\\u0410\\u043b\\u0435\\u043a\\u0441\\u0430\\u043d\\u0434\\u0440 \\u041f\\u0430\\u0440\\u0445\\u043e\\u043c\\u0435\\u043d\\u043a\\u043e\",\n          \"\\u0417\\u0432\\u0443\\u043a \\u0442\\u0438\\u0448\\u0438\\u043d\\u044b\"\n        ],\n        \"semantic_type\": \"\",\n        \"description\": \"\"\n      }\n    },\n    {\n      \"column\": \"title_orig\",\n      \"properties\": {\n        \"dtype\": \"string\",\n        \"num_unique_values\": 10677,\n        \"samples\": [\n          \"Shooting Dogs\",\n          \"Gora samocvetov\"\n        ],\n        \"semantic_type\": \"\",\n        \"description\": \"\"\n      }\n    },\n    {\n      \"column\": \"release_year\",\n      \"properties\": {\n        \"dtype\": \"number\",\n        \"std\": 17.130286012235537,\n        \"min\": 1897.0,\n        \"max\": 2021.0,\n        \"num_unique_values\": 105,\n        \"samples\": [\n          2009.0,\n          1977.0\n        ],\n        \"semantic_type\": \"\",\n        \"description\": \"\"\n      }\n    },\n    {\n      \"column\": \"genres\",\n      \"properties\": {\n        \"dtype\": \"category\",\n        \"num_unique_values\": 2863,\n        \"samples\": [\n          \"\\u043a\\u0440\\u0438\\u043c\\u0438\\u043d\\u0430\\u043b, \\u0434\\u0435\\u0442\\u0435\\u043a\\u0442\\u0438\\u0432\\u044b, \\u0434\\u0440\\u0430\\u043c\\u044b, \\u0442\\u0440\\u0438\\u043b\\u043b\\u0435\\u0440\\u044b, \\u043c\\u0435\\u043b\\u043e\\u0434\\u0440\\u0430\\u043c\\u044b\",\n          \"\\u0437\\u0430\\u0440\\u0443\\u0431\\u0435\\u0436\\u043d\\u044b\\u0435, \\u043c\\u0438\\u0441\\u0442\\u0438\\u043a\\u0430, \\u043a\\u043e\\u0440\\u043e\\u0442\\u043a\\u043e\\u043c\\u0435\\u0442\\u0440\\u0430\\u0436\\u043d\\u044b\\u0435, \\u0443\\u0436\\u0430\\u0441\\u044b\"\n        ],\n        \"semantic_type\": \"\",\n        \"description\": \"\"\n      }\n    },\n    {\n      \"column\": \"countries\",\n      \"properties\": {\n        \"dtype\": \"category\",\n        \"num_unique_values\": 695,\n        \"samples\": [\n          \"\\u0418\\u0440\\u043b\\u0430\\u043d\\u0434\\u0438\\u044f, \\u0424\\u0440\\u0430\\u043d\\u0446\\u0438\\u044f\",\n          \"\\u0418\\u0441\\u043f\\u0430\\u043d\\u0438\\u044f, \\u0424\\u0440\\u0430\\u043d\\u0446\\u0438\\u044f, \\u0428\\u0432\\u0435\\u0446\\u0438\\u044f, \\u0410\\u0440\\u0433\\u0435\\u043d\\u0442\\u0438\\u043d\\u0430\"\n        ],\n        \"semantic_type\": \"\",\n        \"description\": \"\"\n      }\n    },\n    {\n      \"column\": \"for_kids\",\n      \"properties\": {\n        \"dtype\": \"number\",\n        \"std\": 0.41972034928850604,\n        \"min\": 0.0,\n        \"max\": 1.0,\n        \"num_unique_values\": 2,\n        \"samples\": [\n          0.0,\n          1.0\n        ],\n        \"semantic_type\": \"\",\n        \"description\": \"\"\n      }\n    },\n    {\n      \"column\": \"age_rating\",\n      \"properties\": {\n        \"dtype\": \"number\",\n        \"std\": 5.478630067238795,\n        \"min\": 0.0,\n        \"max\": 21.0,\n        \"num_unique_values\": 6,\n        \"samples\": [\n          16.0,\n          12.0\n        ],\n        \"semantic_type\": \"\",\n        \"description\": \"\"\n      }\n    },\n    {\n      \"column\": \"studios\",\n      \"properties\": {\n        \"dtype\": \"category\",\n        \"num_unique_values\": 38,\n        \"samples\": [\n          \"Legendary\",\n          \"New Regency Productions\"\n        ],\n        \"semantic_type\": \"\",\n        \"description\": \"\"\n      }\n    },\n    {\n      \"column\": \"directors\",\n      \"properties\": {\n        \"dtype\": \"category\",\n        \"num_unique_values\": 7981,\n        \"samples\": [\n          \"\\u0422\\u043e\\u043d\\u0438 \\u0427\\u0430\\u043d\",\n          \"\\u0421\\u0442\\u0435\\u0444\\u0430\\u043d \\u0420\\u043e\\u0431\\u0435\\u043b\\u0438\"\n        ],\n        \"semantic_type\": \"\",\n        \"description\": \"\"\n      }\n    },\n    {\n      \"column\": \"actors\",\n      \"properties\": {\n        \"dtype\": \"string\",\n        \"num_unique_values\": 13501,\n        \"samples\": [\n          \"\\u041a\\u0435\\u0432\\u0438\\u043d \\u0421\\u043f\\u0435\\u0439\\u0441\\u0438, \\u041c\\u0430\\u0439\\u043a\\u043b \\u0428\\u0435\\u043d\\u043d\\u043e\\u043d, \\u0410\\u043b\\u0435\\u043a\\u0441 \\u041f\\u0435\\u0442\\u0442\\u0438\\u0444\\u0435\\u0440, \\u0414\\u0436\\u043e\\u043d\\u043d\\u0438 \\u041d\\u043e\\u043a\\u0441\\u0432\\u0438\\u043b, \\u041a\\u043e\\u043b\\u0438\\u043d \\u0425\\u044d\\u043d\\u043a\\u0441, \\u042d\\u0432\\u0430\\u043d \\u041f\\u0438\\u0442\\u0435\\u0440\\u0441, \\u0421\\u043a\\u0430\\u0439 \\u0424\\u0435\\u0440\\u0440\\u0435\\u0439\\u0440\\u0430, \\u0422\\u0440\\u044d\\u0439\\u0441\\u0438 \\u041b\\u0435\\u0442\\u0442\\u0441, \\u0422\\u0435\\u0439\\u0442 \\u0414\\u043e\\u043d\\u043e\\u0432\\u0430\\u043d, \\u042d\\u0448\\u043b\\u0438 \\u0411\\u0435\\u043d\\u0441\\u043e\\u043d\",\n          \"\\u0410\\u043b\\u0435\\u043a\\u0441\\u0430\\u043d\\u0434\\u0440 \\u0424\\u0440\\u043e\\u043b\\u043e\\u0432, \\u041c\\u043e\\u0438\\u0441\\u0435\\u0439 \\u041a\\u0443\\u0440\\u0442\\u0430\\u043d\\u0438\\u0434\\u0437\\u0435, \\u041a\\u043e\\u043d\\u0441\\u0442\\u0430\\u043d\\u0442\\u0438\\u043d \\u041e\\u0437\\u0435\\u0440\\u043e\\u0432, \\u0410\\u0440\\u0438\\u043d\\u0430 \\u0415\\u0441\\u0438\\u043d\\u0430, \\u0410\\u043b\\u0438\\u043d\\u0430 \\u041d\\u0430\\u043c\\u0441\\u0430\\u0440\\u0430\\u0435\\u0432\\u0430\"\n        ],\n        \"semantic_type\": \"\",\n        \"description\": \"\"\n      }\n    },\n    {\n      \"column\": \"keywords\",\n      \"properties\": {\n        \"dtype\": \"string\",\n        \"num_unique_values\": 16034,\n        \"samples\": [\n          \"\\u0417\\u0432\\u0435\\u0440\\u044c, \\u043b\\u0438\\u043a\\u0443\\u044e\\u0449\\u0438\\u0439, 1989, \\u0421\\u0421\\u0421\\u0420\",\n          \"\\u0416\\u0438\\u043b\\u0438-\\u0431\\u044b\\u043b\\u0438, \\u0442\\u0438\\u0444\\u043b\\u043e\\u043a\\u043e\\u043c\\u043c\\u0435\\u043d\\u0442\\u0430\\u0440\\u0438\\u0435\\u043c, 2018, \\u0420\\u043e\\u0441\\u0441\\u0438\\u044f\"\n        ],\n        \"semantic_type\": \"\",\n        \"description\": \"\"\n      }\n    },\n    {\n      \"column\": \"description\",\n      \"properties\": {\n        \"dtype\": \"string\",\n        \"num_unique_values\": 16166,\n        \"samples\": [\n          \"1609 \\u0433\\u043e\\u0434. \\u0418\\u0434\\u0435\\u0442 \\u0432\\u043e\\u0439\\u043d\\u0430. \\u041f\\u043e\\u043b\\u044c\\u0441\\u043a\\u043e-\\u043b\\u0438\\u0442\\u043e\\u0432\\u0441\\u043a\\u0438\\u0435 \\u0432\\u043e\\u0439\\u0441\\u043a\\u0430 \\u0432\\u0437\\u044f\\u043b\\u0438 \\u0432 \\u043e\\u0441\\u0430\\u0434\\u0443 \\u0421\\u043c\\u043e\\u043b\\u0435\\u043d\\u0441\\u043a, \\u043d\\u043e \\u0440\\u0443\\u0441\\u0441\\u043a\\u0438\\u0439 \\u0433\\u0430\\u0440\\u043d\\u0438\\u0437\\u043e\\u043d \\u0432\\u043e \\u0433\\u043b\\u0430\\u0432\\u0435 \\u0441 \\u0432\\u043e\\u0435\\u0432\\u043e\\u0434\\u043e\\u0439 \\u041c\\u0438\\u0445\\u0430\\u0438\\u043b\\u043e\\u043c \\u0428\\u0435\\u0438\\u043d\\u044b\\u043c \\u0433\\u043e\\u0442\\u043e\\u0432 \\u0434\\u0435\\u0440\\u0436\\u0430\\u0442\\u044c \\u043e\\u0431\\u043e\\u0440\\u043e\\u043d\\u0443 \\u0434\\u043e \\u043a\\u043e\\u043d\\u0446\\u0430. \\u0421\\u043c\\u043e\\u043b\\u0435\\u043d\\u0441\\u043a \\u2013 \\u0433\\u043b\\u0430\\u0432\\u043d\\u0430\\u044f \\u043a\\u0440\\u0435\\u043f\\u043e\\u0441\\u0442\\u044c \\u043d\\u0430 \\u043f\\u0443\\u0442\\u0438 \\u0437\\u0430\\u0445\\u0432\\u0430\\u0442\\u0447\\u0438\\u043a\\u043e\\u0432 \\u043a \\u041c\\u043e\\u0441\\u043a\\u0432\\u0435, \\u0438 \\u0435\\u0433\\u043e \\u043d\\u0435\\u043b\\u044c\\u0437\\u044f \\u0441\\u0434\\u0430\\u0432\\u0430\\u0442\\u044c \\u0431\\u0435\\u0437 \\u0431\\u043e\\u044f. \\u041e\\u0431 \\u044d\\u0442\\u043e\\u043c \\u0437\\u043d\\u0430\\u044e\\u0442 \\u0434\\u0430\\u0436\\u0435 \\u0434\\u0435\\u0442\\u0438. \\u041c\\u0430\\u043b\\u044c\\u0447\\u0438\\u043a \\u0421\\u0430\\u0448\\u043a\\u0430 \\u043b\\u0435\\u043f\\u0438\\u0442 \\u0441\\u0430\\u043c\\u043e\\u0434\\u0435\\u043b\\u044c\\u043d\\u044b\\u0435 \\u0431\\u043e\\u043c\\u0431\\u044b \\u0438\\u0437 \\u0442\\u0435\\u0441\\u0442\\u0430 \\u0438 \\u043a\\u043e\\u043b\\u0434\\u0443\\u0435\\u0442 \\u0432 \\u0437\\u0430\\u0449\\u0438\\u0442\\u0443 \\u0433\\u043e\\u0440\\u043e\\u0434\\u0430 \\u2013 \\u0432\\u044b\\u0437\\u044b\\u0432\\u0430\\u0435\\u0442 \\u043d\\u0430 \\u043f\\u043e\\u043c\\u043e\\u0449\\u044c \\u0426\\u0430\\u0440\\u044f \\u0441 \\u041e\\u0433\\u043d\\u0435\\u043d\\u043d\\u044b\\u043c \\u0449\\u0438\\u0442\\u043e\\u043c \\u0438 \\u041f\\u043b\\u0430\\u043c\\u0435\\u043d\\u043d\\u044b\\u043c \\u043a\\u043e\\u043f\\u044c\\u0435\\u043c. \\u041f\\u043e\\u043a\\u0430 \\u0432\\u043e\\u043b\\u0448\\u0435\\u0431\\u043d\\u044b\\u0439 \\u0446\\u0430\\u0440\\u044c \\u043d\\u0435 \\u043f\\u0440\\u0438\\u0448\\u0435\\u043b, \\u0421\\u0430\\u0448\\u043a\\u0430 \\u0438 \\u0435\\u0433\\u043e \\u0434\\u0440\\u0443\\u0433 \\u0424\\u0435\\u0434\\u043e\\u0440 \\u043f\\u0440\\u043e\\u0441\\u044f\\u0442\\u0441\\u044f \\u0432 \\u043f\\u043e\\u043c\\u043e\\u0449\\u043d\\u0438\\u043a\\u0438 \\u043a \\u0432\\u043e\\u0435\\u0432\\u043e\\u0434\\u0435. \\u0418\\u043c \\u043f\\u0440\\u0435\\u0434\\u0441\\u0442\\u043e\\u0438\\u0442 \\u0440\\u0430\\u0437\\u0440\\u0443\\u0448\\u0438\\u0442\\u044c \\u043a\\u043e\\u0432\\u0430\\u0440\\u043d\\u044b\\u0435 \\u043f\\u043b\\u0430\\u043d\\u044b \\u043f\\u043e\\u043b\\u044c\\u0441\\u043a\\u043e\\u0433\\u043e \\u043a\\u043e\\u0440\\u043e\\u043b\\u044f \\u0421\\u0438\\u0433\\u0438\\u0437\\u043c\\u0443\\u043d\\u0434\\u0430 \\u0422\\u0440\\u0435\\u0442\\u044c\\u0435\\u0433\\u043e \\u0438 \\u0441\\u043f\\u0440\\u0430\\u0432\\u0438\\u0442\\u044c\\u0441\\u044f \\u0441 \\u043d\\u0435\\u0447\\u0438\\u0441\\u0442\\u043e\\u0439 \\u0441\\u0438\\u043b\\u043e\\u0439, \\u0447\\u0442\\u043e \\u043f\\u043e \\u043d\\u043e\\u0447\\u0430\\u043c \\u0431\\u0440\\u043e\\u0434\\u0438\\u0442 \\u043f\\u043e \\u043e\\u0441\\u0430\\u0436\\u0434\\u0435\\u043d\\u043d\\u043e\\u0439 \\u043a\\u0440\\u0435\\u043f\\u043e\\u0441\\u0442\\u0438.\",\n          \"\\u041f\\u0440\\u043e\\u0432\\u043e\\u043a\\u0430\\u0446\\u0438\\u043e\\u043d\\u043d\\u044b\\u0439 \\u0438 \\u0447\\u0443\\u0432\\u0441\\u0442\\u0432\\u0435\\u043d\\u043d\\u044b\\u0439 \\u0442\\u0440\\u0438\\u043b\\u043b\\u0435\\u0440 \\u041a\\u044d\\u0442\\u0440\\u0438\\u043d \\u0425\\u0430\\u0440\\u0434\\u0432\\u0438\\u043a, \\u0440\\u0435\\u0436\\u0438\\u0441\\u0441\\u0435\\u0440\\u0430 \\u00ab\\u0412\\u0430\\u043d\\u0438\\u043b\\u044c\\u043d\\u043e\\u0433\\u043e \\u043d\\u0435\\u0431\\u0430\\u00bb, \\u0440\\u0430\\u0441\\u0441\\u043a\\u0430\\u0437\\u044b\\u0432\\u0430\\u044e\\u0449\\u0438\\u0439 \\u043e \\u043c\\u043e\\u043b\\u043e\\u0434\\u043e\\u0439 \\u0440\\u043e\\u043a-\\u0437\\u0432\\u0435\\u0437\\u0434\\u0435, \\u043a\\u043e\\u0442\\u043e\\u0440\\u0430\\u044f \\u043d\\u0435 \\u043c\\u043e\\u0436\\u0435\\u0442 \\u043e\\u043f\\u0440\\u0430\\u0432\\u0438\\u0442\\u044c\\u0441\\u044f \\u043f\\u043e\\u0441\\u043b\\u0435 \\u0441\\u043c\\u0435\\u0440\\u0442\\u0438 \\u043b\\u044e\\u0431\\u0438\\u043c\\u043e\\u0433\\u043e \\u0431\\u0440\\u0430\\u0442\\u0430.  \\u0425\\u0435\\u0439\\u043b\\u0438 \\u2013 \\u0432\\u043e\\u0441\\u0445\\u043e\\u0434\\u044f\\u0449\\u0430\\u044f \\u0440\\u043e\\u043a-\\u0437\\u0432\\u0435\\u0437\\u0434\\u0430 \\u0438 \\u043a\\u0440\\u0430\\u0439\\u043d\\u0435 \\u0442\\u0430\\u043b\\u0430\\u043d\\u0442\\u043b\\u0438\\u0432\\u044b\\u0439 \\u043c\\u0443\\u0437\\u044b\\u043a\\u0430\\u043d\\u0442. \\u041f\\u0435\\u0440\\u0432\\u044b\\u0439 \\u0435\\u0435 \\u0430\\u043b\\u044c\\u0431\\u043e\\u043c \\u0432\\u0437\\u043e\\u0440\\u0432\\u0430\\u043b \\u043c\\u0438\\u0440\\u043e\\u0432\\u044b\\u0435 \\u0447\\u0430\\u0440\\u0442\\u044b \\u0438 \\u0441\\u0434\\u0435\\u043b\\u0430\\u043b \\u0438\\u0437 \\u043d\\u0438\\u043a\\u043e\\u043c\\u0443 \\u043d\\u0435\\u0438\\u0437\\u0432\\u0435\\u0441\\u0442\\u043d\\u043e\\u0439 \\u043f\\u0435\\u0432\\u0438\\u0446\\u044b \\u043c\\u0438\\u0440\\u043e\\u0432\\u0443\\u044e \\u0437\\u0432\\u0435\\u0437\\u0434\\u0443. \\u041e\\u0434\\u043d\\u0430\\u043a\\u043e \\u0432\\u0441\\u0435 \\u0438\\u0437\\u043c\\u0435\\u043d\\u0438\\u043b\\u043e\\u0441\\u044c \\u043f\\u043e\\u0441\\u043b\\u0435 \\u0442\\u0440\\u0430\\u0433\\u0438\\u0447\\u0435\\u0441\\u043a\\u043e\\u0439 \\u0441\\u043c\\u0435\\u0440\\u0442\\u0438 \\u0435\\u0435 \\u0431\\u0440\\u0430\\u0442\\u0430, \\u043a\\u043e\\u0442\\u043e\\u0440\\u044b\\u0439 \\u0443\\u043c\\u0435\\u0440 \\u043e\\u0442 \\u043f\\u0435\\u0440\\u0435\\u0434\\u043e\\u0437\\u0438\\u0440\\u043e\\u0432\\u043a\\u0438 \\u0433\\u0435\\u0440\\u043e\\u0438\\u043d\\u043e\\u043c. \\u0423\\u0431\\u0438\\u0442\\u0430\\u044f \\u0433\\u043e\\u0440\\u0435\\u043c, \\u0425\\u0435\\u0439\\u043b\\u0438 \\u043e\\u0431\\u0432\\u0438\\u043d\\u044f\\u0435\\u0442 \\u0441\\u0435\\u0431\\u044f \\u0432 \\u044d\\u0442\\u043e\\u043c \\u0438 \\u0431\\u043e\\u043b\\u044c\\u0448\\u0435 \\u043d\\u0435 \\u043c\\u043e\\u0436\\u0435\\u0442 \\u0442\\u0432\\u043e\\u0440\\u0438\\u0442\\u044c: \\u0435\\u0435 \\u0432\\u0442\\u043e\\u0440\\u043e\\u0439 \\u0430\\u043b\\u044c\\u0431\\u043e\\u043c \\u0441\\u0442\\u0430\\u043d\\u043e\\u0432\\u0438\\u0442\\u0441\\u044f \\u043a\\u043e\\u043c\\u043c\\u0435\\u0440\\u0447\\u0435\\u0441\\u043a\\u0438\\u043c \\u0438 \\u0442\\u0432\\u043e\\u0440\\u0447\\u0435\\u0441\\u043a\\u0438\\u043c \\u043f\\u0440\\u043e\\u0432\\u0430\\u043b\\u043e\\u043c. \\u0418\\u0437 \\u044d\\u0442\\u043e\\u0439 \\u044d\\u043c\\u043e\\u0446\\u0438\\u043e\\u043d\\u0430\\u043b\\u044c\\u043d\\u043e\\u0439 \\u0434\\u044b\\u0440\\u044b \\u0434\\u0435\\u0432\\u0443\\u0448\\u043a\\u0443 \\u0432\\u044b\\u0442\\u0430\\u0441\\u043a\\u0438\\u0432\\u0430\\u0435\\u0442 \\u042d\\u043d\\u0446\\u043e, \\u043d\\u043e\\u0432\\u044b\\u0439 \\u0433\\u0438\\u0442\\u0430\\u0440\\u0438\\u0441\\u0442 \\u0433\\u0440\\u0443\\u043f\\u043f\\u044b. \\u0415\\u0433\\u043e \\u0441\\u0432\\u0435\\u0436\\u0438\\u0435 \\u0438\\u0434\\u0435\\u0438, \\u043e\\u043f\\u0442\\u0438\\u043c\\u0438\\u0437\\u043c \\u0438 \\u0432\\u0435\\u0440\\u0430 \\u0432 \\u0436\\u0438\\u0437\\u043d\\u044c \\u0441\\u0442\\u0430\\u043d\\u043e\\u0432\\u0438\\u0442\\u0441\\u044f \\u0434\\u043b\\u044f \\u0425\\u0435\\u0439\\u043b\\u0438 \\u0432\\u0434\\u043e\\u0445\\u043d\\u043e\\u0432\\u0435\\u043d\\u0438\\u0435\\u043c. \\u041d\\u043e \\u0432 \\u0441\\u043a\\u043e\\u0440\\u043e\\u043c \\u0432\\u0440\\u0435\\u043c\\u0435\\u043d\\u0438 \\u0442\\u0432\\u043e\\u0440\\u0447\\u0435\\u0441\\u043a\\u0438\\u0435 \\u043e\\u0442\\u043d\\u043e\\u0448\\u0435\\u043d\\u0438\\u044f \\u043c\\u0435\\u0436\\u0434\\u0443 \\u043c\\u043e\\u043b\\u043e\\u0434\\u044b\\u043c\\u0438 \\u043b\\u044e\\u0434\\u044c\\u043c\\u0438 \\u043f\\u0435\\u0440\\u0435\\u0442\\u0435\\u043a\\u0430\\u044e\\u0442 \\u0432 \\u043b\\u044e\\u0431\\u043e\\u0432\\u043d\\u044b\\u0435\\u2026 \\u041a\\u0430\\u043a \\u044d\\u0442\\u043e \\u043f\\u043e\\u0432\\u043b\\u0438\\u044f\\u0435\\u0442 \\u043d\\u0430 \\u0436\\u0438\\u0437\\u043d\\u044c \\u0425\\u0435\\u0439\\u043b\\u0438 \\u0438 \\u0435\\u0435 \\u0442\\u0432\\u043e\\u0440\\u0447\\u0435\\u0441\\u0442\\u0432\\u043e? \\u0415\\u0441\\u043b\\u0438 \\u0432\\u044b \\u043f\\u043e\\u043a\\u043b\\u043e\\u043d\\u043d\\u0438\\u043a \\u043d\\u0430\\u043f\\u0440\\u044f\\u0436\\u0435\\u043d\\u043d\\u044b\\u0445, \\u0437\\u0430\\u0445\\u0432\\u0430\\u0442\\u044b\\u0432\\u0430\\u044e\\u0449\\u0438\\u0445 \\u0438 \\u0441\\u0442\\u0440\\u0430\\u0441\\u0442\\u043d\\u044b\\u0445 \\u0444\\u0438\\u043b\\u044c\\u043c\\u043e\\u0432, \\u0442\\u043e \\u043e\\u0431\\u044f\\u0437\\u0430\\u0442\\u0435\\u043b\\u044c\\u043d\\u043e \\u043f\\u043e\\u0441\\u043c\\u043e\\u0442\\u0440\\u0438\\u0442\\u0435 \\u00ab\\u0417\\u0430\\u0436\\u0433\\u0438 \\u043c\\u0435\\u043d\\u044f\\u00bb \\u0432 \\u043d\\u0430\\u0448\\u0435\\u043c \\u043e\\u043d\\u043b\\u0430\\u0439\\u043d-\\u043a\\u0438\\u043d\\u043e\\u0442\\u0435\\u0430\\u0442\\u0440\\u0435. \\u0412\\u0430\\u0441 \\u0436\\u0434\\u0443\\u0442 \\u044d\\u0440\\u043e\\u0442\\u0438\\u0447\\u043d\\u044b\\u0439 \\u0432\\u0438\\u0434\\u0435\\u043e\\u0440\\u044f\\u0434, \\u043f\\u0440\\u0435\\u043a\\u0440\\u0430\\u0441\\u043d\\u0430\\u044f \\u0440\\u0435\\u0436\\u0438\\u0441\\u0441\\u0443\\u0440\\u0430 \\u0438 \\u0441\\u043c\\u0435\\u043b\\u0430\\u044f \\u0430\\u043a\\u0442\\u0435\\u0440\\u0441\\u043a\\u0430\\u044f \\u0438\\u0433\\u0440\\u0430.\"\n        ],\n        \"semantic_type\": \"\",\n        \"description\": \"\"\n      }\n    },\n    {\n      \"column\": \"business_dt\",\n      \"properties\": {\n        \"dtype\": \"object\",\n        \"num_unique_values\": 1,\n        \"samples\": [\n          \"2021-09-10\"\n        ],\n        \"semantic_type\": \"\",\n        \"description\": \"\"\n      }\n    }\n  ]\n}"
            }
          },
          "metadata": {},
          "execution_count": 6
        }
      ],
      "source": [
        "items.head()"
      ]
    },
    {
      "cell_type": "markdown",
      "id": "fe276912",
      "metadata": {
        "id": "fe276912"
      },
      "source": [
        "Определим последний доступный день в выборке как тестовый, а 3 месяца до него - обучающей выборкой.\n",
        "\n",
        "Для простоты:\n",
        "- удачным взаимодействием будем считать просмотр любой длительности и при обучении будем использовать только эту информацию, игнорируя данные о признаках пользователей и контента\n",
        "- не будем обрабатывать \"холодных\" пользователей, просто удалим их из тестовой выборки"
      ]
    },
    {
      "cell_type": "code",
      "execution_count": 7,
      "id": "72bd1e82",
      "metadata": {
        "id": "72bd1e82"
      },
      "outputs": [],
      "source": [
        "train = interactions.loc[\n",
        "    (interactions[\"last_watch_dt\"] >= \"2021-05-21\")\n",
        "    & (interactions[\"last_watch_dt\"] <= \"2021-08-21\"),\n",
        "    [\"user_id\", \"item_id\"]\n",
        "]\n",
        "\n",
        "test = interactions.loc[interactions[\"last_watch_dt\"] == \"2021-08-22\", [\"user_id\", \"item_id\"]]\n",
        "test = test.loc[test[\"user_id\"].isin(train[\"user_id\"]) & test[\"item_id\"].isin(train[\"item_id\"])]"
      ]
    },
    {
      "cell_type": "code",
      "execution_count": 8,
      "id": "deb1130f",
      "metadata": {
        "id": "deb1130f"
      },
      "outputs": [],
      "source": [
        "train = pd.merge(train, items[[\"item_id\", \"title\", \"genres\"]], on=\"item_id\")\n",
        "test = pd.merge(test, items[[\"item_id\", \"title\", \"genres\"]], on=\"item_id\")"
      ]
    },
    {
      "cell_type": "markdown",
      "id": "c42dc3cf",
      "metadata": {
        "id": "c42dc3cf"
      },
      "source": [
        "## Добавление аватаров в обучающую выборку"
      ]
    },
    {
      "cell_type": "markdown",
      "id": "e4f7a649",
      "metadata": {
        "id": "e4f7a649"
      },
      "source": [
        "Далее для построения рекомендаций будем использовать алгоритм матричного разложения из библиотеки LightFM. Для формирования рекомендаций для аватаров необходимо, чтобы действия аватаров были в обучающей выборке.\n",
        "\n",
        "Отметим, что добавляя действия аватаров в обучающую выборку, мы несколько изменяем ее распределение. Обычно этим можно пренебречь, т.к. объем обучающей выборки (в нашем случае 5 млн наблюдений) значительно больше объема действий аватаров (10 наблюдений)."
      ]
    },
    {
      "cell_type": "code",
      "execution_count": 9,
      "id": "c473306a",
      "metadata": {
        "colab": {
          "base_uri": "https://localhost:8080/",
          "height": 206
        },
        "id": "c473306a",
        "outputId": "06bebe62-eede-4b84-a7eb-6200a2bd8c23"
      },
      "outputs": [
        {
          "output_type": "execute_result",
          "data": {
            "text/plain": [
              "         user_id                          title  item_id  \\\n",
              "0  avatar_action                       Джон Уик     7671   \n",
              "1  avatar_action                      Заложница    14362   \n",
              "2  avatar_action                     Перевозчик     8350   \n",
              "3  avatar_action            Форсаж: Хоббс и Шоу     2323   \n",
              "4  avatar_action  Терминатор 3: Восстание машин     2925   \n",
              "\n",
              "                          genres  \n",
              "0              боевики, триллеры  \n",
              "1              боевики, триллеры  \n",
              "2    боевики, триллеры, криминал  \n",
              "3              боевики, триллеры  \n",
              "4  боевики, фантастика, триллеры  "
            ],
            "text/html": [
              "\n",
              "  <div id=\"df-4e412d31-1122-4446-9881-b2e04fac241c\" class=\"colab-df-container\">\n",
              "    <div>\n",
              "<style scoped>\n",
              "    .dataframe tbody tr th:only-of-type {\n",
              "        vertical-align: middle;\n",
              "    }\n",
              "\n",
              "    .dataframe tbody tr th {\n",
              "        vertical-align: top;\n",
              "    }\n",
              "\n",
              "    .dataframe thead th {\n",
              "        text-align: right;\n",
              "    }\n",
              "</style>\n",
              "<table border=\"1\" class=\"dataframe\">\n",
              "  <thead>\n",
              "    <tr style=\"text-align: right;\">\n",
              "      <th></th>\n",
              "      <th>user_id</th>\n",
              "      <th>title</th>\n",
              "      <th>item_id</th>\n",
              "      <th>genres</th>\n",
              "    </tr>\n",
              "  </thead>\n",
              "  <tbody>\n",
              "    <tr>\n",
              "      <th>0</th>\n",
              "      <td>avatar_action</td>\n",
              "      <td>Джон Уик</td>\n",
              "      <td>7671</td>\n",
              "      <td>боевики, триллеры</td>\n",
              "    </tr>\n",
              "    <tr>\n",
              "      <th>1</th>\n",
              "      <td>avatar_action</td>\n",
              "      <td>Заложница</td>\n",
              "      <td>14362</td>\n",
              "      <td>боевики, триллеры</td>\n",
              "    </tr>\n",
              "    <tr>\n",
              "      <th>2</th>\n",
              "      <td>avatar_action</td>\n",
              "      <td>Перевозчик</td>\n",
              "      <td>8350</td>\n",
              "      <td>боевики, триллеры, криминал</td>\n",
              "    </tr>\n",
              "    <tr>\n",
              "      <th>3</th>\n",
              "      <td>avatar_action</td>\n",
              "      <td>Форсаж: Хоббс и Шоу</td>\n",
              "      <td>2323</td>\n",
              "      <td>боевики, триллеры</td>\n",
              "    </tr>\n",
              "    <tr>\n",
              "      <th>4</th>\n",
              "      <td>avatar_action</td>\n",
              "      <td>Терминатор 3: Восстание машин</td>\n",
              "      <td>2925</td>\n",
              "      <td>боевики, фантастика, триллеры</td>\n",
              "    </tr>\n",
              "  </tbody>\n",
              "</table>\n",
              "</div>\n",
              "    <div class=\"colab-df-buttons\">\n",
              "\n",
              "  <div class=\"colab-df-container\">\n",
              "    <button class=\"colab-df-convert\" onclick=\"convertToInteractive('df-4e412d31-1122-4446-9881-b2e04fac241c')\"\n",
              "            title=\"Convert this dataframe to an interactive table.\"\n",
              "            style=\"display:none;\">\n",
              "\n",
              "  <svg xmlns=\"http://www.w3.org/2000/svg\" height=\"24px\" viewBox=\"0 -960 960 960\">\n",
              "    <path d=\"M120-120v-720h720v720H120Zm60-500h600v-160H180v160Zm220 220h160v-160H400v160Zm0 220h160v-160H400v160ZM180-400h160v-160H180v160Zm440 0h160v-160H620v160ZM180-180h160v-160H180v160Zm440 0h160v-160H620v160Z\"/>\n",
              "  </svg>\n",
              "    </button>\n",
              "\n",
              "  <style>\n",
              "    .colab-df-container {\n",
              "      display:flex;\n",
              "      gap: 12px;\n",
              "    }\n",
              "\n",
              "    .colab-df-convert {\n",
              "      background-color: #E8F0FE;\n",
              "      border: none;\n",
              "      border-radius: 50%;\n",
              "      cursor: pointer;\n",
              "      display: none;\n",
              "      fill: #1967D2;\n",
              "      height: 32px;\n",
              "      padding: 0 0 0 0;\n",
              "      width: 32px;\n",
              "    }\n",
              "\n",
              "    .colab-df-convert:hover {\n",
              "      background-color: #E2EBFA;\n",
              "      box-shadow: 0px 1px 2px rgba(60, 64, 67, 0.3), 0px 1px 3px 1px rgba(60, 64, 67, 0.15);\n",
              "      fill: #174EA6;\n",
              "    }\n",
              "\n",
              "    .colab-df-buttons div {\n",
              "      margin-bottom: 4px;\n",
              "    }\n",
              "\n",
              "    [theme=dark] .colab-df-convert {\n",
              "      background-color: #3B4455;\n",
              "      fill: #D2E3FC;\n",
              "    }\n",
              "\n",
              "    [theme=dark] .colab-df-convert:hover {\n",
              "      background-color: #434B5C;\n",
              "      box-shadow: 0px 1px 3px 1px rgba(0, 0, 0, 0.15);\n",
              "      filter: drop-shadow(0px 1px 2px rgba(0, 0, 0, 0.3));\n",
              "      fill: #FFFFFF;\n",
              "    }\n",
              "  </style>\n",
              "\n",
              "    <script>\n",
              "      const buttonEl =\n",
              "        document.querySelector('#df-4e412d31-1122-4446-9881-b2e04fac241c button.colab-df-convert');\n",
              "      buttonEl.style.display =\n",
              "        google.colab.kernel.accessAllowed ? 'block' : 'none';\n",
              "\n",
              "      async function convertToInteractive(key) {\n",
              "        const element = document.querySelector('#df-4e412d31-1122-4446-9881-b2e04fac241c');\n",
              "        const dataTable =\n",
              "          await google.colab.kernel.invokeFunction('convertToInteractive',\n",
              "                                                    [key], {});\n",
              "        if (!dataTable) return;\n",
              "\n",
              "        const docLinkHtml = 'Like what you see? Visit the ' +\n",
              "          '<a target=\"_blank\" href=https://colab.research.google.com/notebooks/data_table.ipynb>data table notebook</a>'\n",
              "          + ' to learn more about interactive tables.';\n",
              "        element.innerHTML = '';\n",
              "        dataTable['output_type'] = 'display_data';\n",
              "        await google.colab.output.renderOutput(dataTable, element);\n",
              "        const docLink = document.createElement('div');\n",
              "        docLink.innerHTML = docLinkHtml;\n",
              "        element.appendChild(docLink);\n",
              "      }\n",
              "    </script>\n",
              "  </div>\n",
              "\n",
              "\n",
              "<div id=\"df-62352cbf-7444-415c-acfc-4e04dec1c813\">\n",
              "  <button class=\"colab-df-quickchart\" onclick=\"quickchart('df-62352cbf-7444-415c-acfc-4e04dec1c813')\"\n",
              "            title=\"Suggest charts\"\n",
              "            style=\"display:none;\">\n",
              "\n",
              "<svg xmlns=\"http://www.w3.org/2000/svg\" height=\"24px\"viewBox=\"0 0 24 24\"\n",
              "     width=\"24px\">\n",
              "    <g>\n",
              "        <path d=\"M19 3H5c-1.1 0-2 .9-2 2v14c0 1.1.9 2 2 2h14c1.1 0 2-.9 2-2V5c0-1.1-.9-2-2-2zM9 17H7v-7h2v7zm4 0h-2V7h2v10zm4 0h-2v-4h2v4z\"/>\n",
              "    </g>\n",
              "</svg>\n",
              "  </button>\n",
              "\n",
              "<style>\n",
              "  .colab-df-quickchart {\n",
              "      --bg-color: #E8F0FE;\n",
              "      --fill-color: #1967D2;\n",
              "      --hover-bg-color: #E2EBFA;\n",
              "      --hover-fill-color: #174EA6;\n",
              "      --disabled-fill-color: #AAA;\n",
              "      --disabled-bg-color: #DDD;\n",
              "  }\n",
              "\n",
              "  [theme=dark] .colab-df-quickchart {\n",
              "      --bg-color: #3B4455;\n",
              "      --fill-color: #D2E3FC;\n",
              "      --hover-bg-color: #434B5C;\n",
              "      --hover-fill-color: #FFFFFF;\n",
              "      --disabled-bg-color: #3B4455;\n",
              "      --disabled-fill-color: #666;\n",
              "  }\n",
              "\n",
              "  .colab-df-quickchart {\n",
              "    background-color: var(--bg-color);\n",
              "    border: none;\n",
              "    border-radius: 50%;\n",
              "    cursor: pointer;\n",
              "    display: none;\n",
              "    fill: var(--fill-color);\n",
              "    height: 32px;\n",
              "    padding: 0;\n",
              "    width: 32px;\n",
              "  }\n",
              "\n",
              "  .colab-df-quickchart:hover {\n",
              "    background-color: var(--hover-bg-color);\n",
              "    box-shadow: 0 1px 2px rgba(60, 64, 67, 0.3), 0 1px 3px 1px rgba(60, 64, 67, 0.15);\n",
              "    fill: var(--button-hover-fill-color);\n",
              "  }\n",
              "\n",
              "  .colab-df-quickchart-complete:disabled,\n",
              "  .colab-df-quickchart-complete:disabled:hover {\n",
              "    background-color: var(--disabled-bg-color);\n",
              "    fill: var(--disabled-fill-color);\n",
              "    box-shadow: none;\n",
              "  }\n",
              "\n",
              "  .colab-df-spinner {\n",
              "    border: 2px solid var(--fill-color);\n",
              "    border-color: transparent;\n",
              "    border-bottom-color: var(--fill-color);\n",
              "    animation:\n",
              "      spin 1s steps(1) infinite;\n",
              "  }\n",
              "\n",
              "  @keyframes spin {\n",
              "    0% {\n",
              "      border-color: transparent;\n",
              "      border-bottom-color: var(--fill-color);\n",
              "      border-left-color: var(--fill-color);\n",
              "    }\n",
              "    20% {\n",
              "      border-color: transparent;\n",
              "      border-left-color: var(--fill-color);\n",
              "      border-top-color: var(--fill-color);\n",
              "    }\n",
              "    30% {\n",
              "      border-color: transparent;\n",
              "      border-left-color: var(--fill-color);\n",
              "      border-top-color: var(--fill-color);\n",
              "      border-right-color: var(--fill-color);\n",
              "    }\n",
              "    40% {\n",
              "      border-color: transparent;\n",
              "      border-right-color: var(--fill-color);\n",
              "      border-top-color: var(--fill-color);\n",
              "    }\n",
              "    60% {\n",
              "      border-color: transparent;\n",
              "      border-right-color: var(--fill-color);\n",
              "    }\n",
              "    80% {\n",
              "      border-color: transparent;\n",
              "      border-right-color: var(--fill-color);\n",
              "      border-bottom-color: var(--fill-color);\n",
              "    }\n",
              "    90% {\n",
              "      border-color: transparent;\n",
              "      border-bottom-color: var(--fill-color);\n",
              "    }\n",
              "  }\n",
              "</style>\n",
              "\n",
              "  <script>\n",
              "    async function quickchart(key) {\n",
              "      const quickchartButtonEl =\n",
              "        document.querySelector('#' + key + ' button');\n",
              "      quickchartButtonEl.disabled = true;  // To prevent multiple clicks.\n",
              "      quickchartButtonEl.classList.add('colab-df-spinner');\n",
              "      try {\n",
              "        const charts = await google.colab.kernel.invokeFunction(\n",
              "            'suggestCharts', [key], {});\n",
              "      } catch (error) {\n",
              "        console.error('Error during call to suggestCharts:', error);\n",
              "      }\n",
              "      quickchartButtonEl.classList.remove('colab-df-spinner');\n",
              "      quickchartButtonEl.classList.add('colab-df-quickchart-complete');\n",
              "    }\n",
              "    (() => {\n",
              "      let quickchartButtonEl =\n",
              "        document.querySelector('#df-62352cbf-7444-415c-acfc-4e04dec1c813 button');\n",
              "      quickchartButtonEl.style.display =\n",
              "        google.colab.kernel.accessAllowed ? 'block' : 'none';\n",
              "    })();\n",
              "  </script>\n",
              "</div>\n",
              "    </div>\n",
              "  </div>\n"
            ],
            "application/vnd.google.colaboratory.intrinsic+json": {
              "type": "dataframe",
              "variable_name": "avatar_interactions_action",
              "summary": "{\n  \"name\": \"avatar_interactions_action\",\n  \"rows\": 5,\n  \"fields\": [\n    {\n      \"column\": \"user_id\",\n      \"properties\": {\n        \"dtype\": \"category\",\n        \"num_unique_values\": 1,\n        \"samples\": [\n          \"avatar_action\"\n        ],\n        \"semantic_type\": \"\",\n        \"description\": \"\"\n      }\n    },\n    {\n      \"column\": \"title\",\n      \"properties\": {\n        \"dtype\": \"string\",\n        \"num_unique_values\": 5,\n        \"samples\": [\n          \"\\u0417\\u0430\\u043b\\u043e\\u0436\\u043d\\u0438\\u0446\\u0430\"\n        ],\n        \"semantic_type\": \"\",\n        \"description\": \"\"\n      }\n    },\n    {\n      \"column\": \"item_id\",\n      \"properties\": {\n        \"dtype\": \"number\",\n        \"std\": 4870,\n        \"min\": 2323,\n        \"max\": 14362,\n        \"num_unique_values\": 5,\n        \"samples\": [\n          14362\n        ],\n        \"semantic_type\": \"\",\n        \"description\": \"\"\n      }\n    },\n    {\n      \"column\": \"genres\",\n      \"properties\": {\n        \"dtype\": \"string\",\n        \"num_unique_values\": 3,\n        \"samples\": [\n          \"\\u0431\\u043e\\u0435\\u0432\\u0438\\u043a\\u0438, \\u0442\\u0440\\u0438\\u043b\\u043b\\u0435\\u0440\\u044b\"\n        ],\n        \"semantic_type\": \"\",\n        \"description\": \"\"\n      }\n    }\n  ]\n}"
            }
          },
          "metadata": {},
          "execution_count": 9
        }
      ],
      "source": [
        "titles = [\n",
        "    \"Джон Уик\",\n",
        "    \"Заложница\",\n",
        "    \"Перевозчик\",\n",
        "    \"Форсаж: Хоббс и Шоу\",\n",
        "    \"Терминатор 3: Восстание машин\"\n",
        "]\n",
        "avatar_interactions_action = pd.DataFrame({\"user_id\": \"avatar_action\", \"title\": titles})\n",
        "avatar_interactions_action = avatar_interactions_action.merge(items[[\"item_id\", \"title\", \"genres\"]], on=\"title\")\n",
        "avatar_interactions_action"
      ]
    },
    {
      "cell_type": "code",
      "execution_count": 10,
      "id": "9726dec0",
      "metadata": {
        "colab": {
          "base_uri": "https://localhost:8080/",
          "height": 206
        },
        "id": "9726dec0",
        "outputId": "1915c007-8b59-4fe3-82bf-3a3b6953e8b7"
      },
      "outputs": [
        {
          "output_type": "execute_result",
          "data": {
            "text/plain": [
              "         user_id                      title  item_id  \\\n",
              "0  avatar_comedy        Тупой и еще тупее 2     8391   \n",
              "1  avatar_comedy        Типа крутые легавые     2915   \n",
              "2  avatar_comedy             Голый пистолет     1734   \n",
              "3  avatar_comedy           Убойные каникулы     4979   \n",
              "4  avatar_comedy  Карты, деньги, два ствола     2866   \n",
              "\n",
              "                                  genres  \n",
              "0                                комедии  \n",
              "1  боевики, триллеры, детективы, комедии  \n",
              "2                                комедии  \n",
              "3                         ужасы, комедии  \n",
              "4                                комедии  "
            ],
            "text/html": [
              "\n",
              "  <div id=\"df-6b114011-bb35-478c-9351-a6d1fe855e4e\" class=\"colab-df-container\">\n",
              "    <div>\n",
              "<style scoped>\n",
              "    .dataframe tbody tr th:only-of-type {\n",
              "        vertical-align: middle;\n",
              "    }\n",
              "\n",
              "    .dataframe tbody tr th {\n",
              "        vertical-align: top;\n",
              "    }\n",
              "\n",
              "    .dataframe thead th {\n",
              "        text-align: right;\n",
              "    }\n",
              "</style>\n",
              "<table border=\"1\" class=\"dataframe\">\n",
              "  <thead>\n",
              "    <tr style=\"text-align: right;\">\n",
              "      <th></th>\n",
              "      <th>user_id</th>\n",
              "      <th>title</th>\n",
              "      <th>item_id</th>\n",
              "      <th>genres</th>\n",
              "    </tr>\n",
              "  </thead>\n",
              "  <tbody>\n",
              "    <tr>\n",
              "      <th>0</th>\n",
              "      <td>avatar_comedy</td>\n",
              "      <td>Тупой и еще тупее 2</td>\n",
              "      <td>8391</td>\n",
              "      <td>комедии</td>\n",
              "    </tr>\n",
              "    <tr>\n",
              "      <th>1</th>\n",
              "      <td>avatar_comedy</td>\n",
              "      <td>Типа крутые легавые</td>\n",
              "      <td>2915</td>\n",
              "      <td>боевики, триллеры, детективы, комедии</td>\n",
              "    </tr>\n",
              "    <tr>\n",
              "      <th>2</th>\n",
              "      <td>avatar_comedy</td>\n",
              "      <td>Голый пистолет</td>\n",
              "      <td>1734</td>\n",
              "      <td>комедии</td>\n",
              "    </tr>\n",
              "    <tr>\n",
              "      <th>3</th>\n",
              "      <td>avatar_comedy</td>\n",
              "      <td>Убойные каникулы</td>\n",
              "      <td>4979</td>\n",
              "      <td>ужасы, комедии</td>\n",
              "    </tr>\n",
              "    <tr>\n",
              "      <th>4</th>\n",
              "      <td>avatar_comedy</td>\n",
              "      <td>Карты, деньги, два ствола</td>\n",
              "      <td>2866</td>\n",
              "      <td>комедии</td>\n",
              "    </tr>\n",
              "  </tbody>\n",
              "</table>\n",
              "</div>\n",
              "    <div class=\"colab-df-buttons\">\n",
              "\n",
              "  <div class=\"colab-df-container\">\n",
              "    <button class=\"colab-df-convert\" onclick=\"convertToInteractive('df-6b114011-bb35-478c-9351-a6d1fe855e4e')\"\n",
              "            title=\"Convert this dataframe to an interactive table.\"\n",
              "            style=\"display:none;\">\n",
              "\n",
              "  <svg xmlns=\"http://www.w3.org/2000/svg\" height=\"24px\" viewBox=\"0 -960 960 960\">\n",
              "    <path d=\"M120-120v-720h720v720H120Zm60-500h600v-160H180v160Zm220 220h160v-160H400v160Zm0 220h160v-160H400v160ZM180-400h160v-160H180v160Zm440 0h160v-160H620v160ZM180-180h160v-160H180v160Zm440 0h160v-160H620v160Z\"/>\n",
              "  </svg>\n",
              "    </button>\n",
              "\n",
              "  <style>\n",
              "    .colab-df-container {\n",
              "      display:flex;\n",
              "      gap: 12px;\n",
              "    }\n",
              "\n",
              "    .colab-df-convert {\n",
              "      background-color: #E8F0FE;\n",
              "      border: none;\n",
              "      border-radius: 50%;\n",
              "      cursor: pointer;\n",
              "      display: none;\n",
              "      fill: #1967D2;\n",
              "      height: 32px;\n",
              "      padding: 0 0 0 0;\n",
              "      width: 32px;\n",
              "    }\n",
              "\n",
              "    .colab-df-convert:hover {\n",
              "      background-color: #E2EBFA;\n",
              "      box-shadow: 0px 1px 2px rgba(60, 64, 67, 0.3), 0px 1px 3px 1px rgba(60, 64, 67, 0.15);\n",
              "      fill: #174EA6;\n",
              "    }\n",
              "\n",
              "    .colab-df-buttons div {\n",
              "      margin-bottom: 4px;\n",
              "    }\n",
              "\n",
              "    [theme=dark] .colab-df-convert {\n",
              "      background-color: #3B4455;\n",
              "      fill: #D2E3FC;\n",
              "    }\n",
              "\n",
              "    [theme=dark] .colab-df-convert:hover {\n",
              "      background-color: #434B5C;\n",
              "      box-shadow: 0px 1px 3px 1px rgba(0, 0, 0, 0.15);\n",
              "      filter: drop-shadow(0px 1px 2px rgba(0, 0, 0, 0.3));\n",
              "      fill: #FFFFFF;\n",
              "    }\n",
              "  </style>\n",
              "\n",
              "    <script>\n",
              "      const buttonEl =\n",
              "        document.querySelector('#df-6b114011-bb35-478c-9351-a6d1fe855e4e button.colab-df-convert');\n",
              "      buttonEl.style.display =\n",
              "        google.colab.kernel.accessAllowed ? 'block' : 'none';\n",
              "\n",
              "      async function convertToInteractive(key) {\n",
              "        const element = document.querySelector('#df-6b114011-bb35-478c-9351-a6d1fe855e4e');\n",
              "        const dataTable =\n",
              "          await google.colab.kernel.invokeFunction('convertToInteractive',\n",
              "                                                    [key], {});\n",
              "        if (!dataTable) return;\n",
              "\n",
              "        const docLinkHtml = 'Like what you see? Visit the ' +\n",
              "          '<a target=\"_blank\" href=https://colab.research.google.com/notebooks/data_table.ipynb>data table notebook</a>'\n",
              "          + ' to learn more about interactive tables.';\n",
              "        element.innerHTML = '';\n",
              "        dataTable['output_type'] = 'display_data';\n",
              "        await google.colab.output.renderOutput(dataTable, element);\n",
              "        const docLink = document.createElement('div');\n",
              "        docLink.innerHTML = docLinkHtml;\n",
              "        element.appendChild(docLink);\n",
              "      }\n",
              "    </script>\n",
              "  </div>\n",
              "\n",
              "\n",
              "<div id=\"df-9466fd35-a694-46fd-a2f6-73a3b7262ade\">\n",
              "  <button class=\"colab-df-quickchart\" onclick=\"quickchart('df-9466fd35-a694-46fd-a2f6-73a3b7262ade')\"\n",
              "            title=\"Suggest charts\"\n",
              "            style=\"display:none;\">\n",
              "\n",
              "<svg xmlns=\"http://www.w3.org/2000/svg\" height=\"24px\"viewBox=\"0 0 24 24\"\n",
              "     width=\"24px\">\n",
              "    <g>\n",
              "        <path d=\"M19 3H5c-1.1 0-2 .9-2 2v14c0 1.1.9 2 2 2h14c1.1 0 2-.9 2-2V5c0-1.1-.9-2-2-2zM9 17H7v-7h2v7zm4 0h-2V7h2v10zm4 0h-2v-4h2v4z\"/>\n",
              "    </g>\n",
              "</svg>\n",
              "  </button>\n",
              "\n",
              "<style>\n",
              "  .colab-df-quickchart {\n",
              "      --bg-color: #E8F0FE;\n",
              "      --fill-color: #1967D2;\n",
              "      --hover-bg-color: #E2EBFA;\n",
              "      --hover-fill-color: #174EA6;\n",
              "      --disabled-fill-color: #AAA;\n",
              "      --disabled-bg-color: #DDD;\n",
              "  }\n",
              "\n",
              "  [theme=dark] .colab-df-quickchart {\n",
              "      --bg-color: #3B4455;\n",
              "      --fill-color: #D2E3FC;\n",
              "      --hover-bg-color: #434B5C;\n",
              "      --hover-fill-color: #FFFFFF;\n",
              "      --disabled-bg-color: #3B4455;\n",
              "      --disabled-fill-color: #666;\n",
              "  }\n",
              "\n",
              "  .colab-df-quickchart {\n",
              "    background-color: var(--bg-color);\n",
              "    border: none;\n",
              "    border-radius: 50%;\n",
              "    cursor: pointer;\n",
              "    display: none;\n",
              "    fill: var(--fill-color);\n",
              "    height: 32px;\n",
              "    padding: 0;\n",
              "    width: 32px;\n",
              "  }\n",
              "\n",
              "  .colab-df-quickchart:hover {\n",
              "    background-color: var(--hover-bg-color);\n",
              "    box-shadow: 0 1px 2px rgba(60, 64, 67, 0.3), 0 1px 3px 1px rgba(60, 64, 67, 0.15);\n",
              "    fill: var(--button-hover-fill-color);\n",
              "  }\n",
              "\n",
              "  .colab-df-quickchart-complete:disabled,\n",
              "  .colab-df-quickchart-complete:disabled:hover {\n",
              "    background-color: var(--disabled-bg-color);\n",
              "    fill: var(--disabled-fill-color);\n",
              "    box-shadow: none;\n",
              "  }\n",
              "\n",
              "  .colab-df-spinner {\n",
              "    border: 2px solid var(--fill-color);\n",
              "    border-color: transparent;\n",
              "    border-bottom-color: var(--fill-color);\n",
              "    animation:\n",
              "      spin 1s steps(1) infinite;\n",
              "  }\n",
              "\n",
              "  @keyframes spin {\n",
              "    0% {\n",
              "      border-color: transparent;\n",
              "      border-bottom-color: var(--fill-color);\n",
              "      border-left-color: var(--fill-color);\n",
              "    }\n",
              "    20% {\n",
              "      border-color: transparent;\n",
              "      border-left-color: var(--fill-color);\n",
              "      border-top-color: var(--fill-color);\n",
              "    }\n",
              "    30% {\n",
              "      border-color: transparent;\n",
              "      border-left-color: var(--fill-color);\n",
              "      border-top-color: var(--fill-color);\n",
              "      border-right-color: var(--fill-color);\n",
              "    }\n",
              "    40% {\n",
              "      border-color: transparent;\n",
              "      border-right-color: var(--fill-color);\n",
              "      border-top-color: var(--fill-color);\n",
              "    }\n",
              "    60% {\n",
              "      border-color: transparent;\n",
              "      border-right-color: var(--fill-color);\n",
              "    }\n",
              "    80% {\n",
              "      border-color: transparent;\n",
              "      border-right-color: var(--fill-color);\n",
              "      border-bottom-color: var(--fill-color);\n",
              "    }\n",
              "    90% {\n",
              "      border-color: transparent;\n",
              "      border-bottom-color: var(--fill-color);\n",
              "    }\n",
              "  }\n",
              "</style>\n",
              "\n",
              "  <script>\n",
              "    async function quickchart(key) {\n",
              "      const quickchartButtonEl =\n",
              "        document.querySelector('#' + key + ' button');\n",
              "      quickchartButtonEl.disabled = true;  // To prevent multiple clicks.\n",
              "      quickchartButtonEl.classList.add('colab-df-spinner');\n",
              "      try {\n",
              "        const charts = await google.colab.kernel.invokeFunction(\n",
              "            'suggestCharts', [key], {});\n",
              "      } catch (error) {\n",
              "        console.error('Error during call to suggestCharts:', error);\n",
              "      }\n",
              "      quickchartButtonEl.classList.remove('colab-df-spinner');\n",
              "      quickchartButtonEl.classList.add('colab-df-quickchart-complete');\n",
              "    }\n",
              "    (() => {\n",
              "      let quickchartButtonEl =\n",
              "        document.querySelector('#df-9466fd35-a694-46fd-a2f6-73a3b7262ade button');\n",
              "      quickchartButtonEl.style.display =\n",
              "        google.colab.kernel.accessAllowed ? 'block' : 'none';\n",
              "    })();\n",
              "  </script>\n",
              "</div>\n",
              "    </div>\n",
              "  </div>\n"
            ],
            "application/vnd.google.colaboratory.intrinsic+json": {
              "type": "dataframe",
              "variable_name": "avatar_interactions_comedy",
              "summary": "{\n  \"name\": \"avatar_interactions_comedy\",\n  \"rows\": 5,\n  \"fields\": [\n    {\n      \"column\": \"user_id\",\n      \"properties\": {\n        \"dtype\": \"category\",\n        \"num_unique_values\": 1,\n        \"samples\": [\n          \"avatar_comedy\"\n        ],\n        \"semantic_type\": \"\",\n        \"description\": \"\"\n      }\n    },\n    {\n      \"column\": \"title\",\n      \"properties\": {\n        \"dtype\": \"string\",\n        \"num_unique_values\": 5,\n        \"samples\": [\n          \"\\u0422\\u0438\\u043f\\u0430 \\u043a\\u0440\\u0443\\u0442\\u044b\\u0435 \\u043b\\u0435\\u0433\\u0430\\u0432\\u044b\\u0435\"\n        ],\n        \"semantic_type\": \"\",\n        \"description\": \"\"\n      }\n    },\n    {\n      \"column\": \"item_id\",\n      \"properties\": {\n        \"dtype\": \"number\",\n        \"std\": 2630,\n        \"min\": 1734,\n        \"max\": 8391,\n        \"num_unique_values\": 5,\n        \"samples\": [\n          2915\n        ],\n        \"semantic_type\": \"\",\n        \"description\": \"\"\n      }\n    },\n    {\n      \"column\": \"genres\",\n      \"properties\": {\n        \"dtype\": \"string\",\n        \"num_unique_values\": 3,\n        \"samples\": [\n          \"\\u043a\\u043e\\u043c\\u0435\\u0434\\u0438\\u0438\"\n        ],\n        \"semantic_type\": \"\",\n        \"description\": \"\"\n      }\n    }\n  ]\n}"
            }
          },
          "metadata": {},
          "execution_count": 10
        }
      ],
      "source": [
        "titles = [\n",
        "    \"Тупой и еще тупее 2\",\n",
        "    \"Типа крутые легавые\",\n",
        "    \"Голый пистолет\",\n",
        "    \"Убойные каникулы\",\n",
        "    \"Карты, деньги, два ствола\"\n",
        "]\n",
        "avatar_interactions_comedy = pd.DataFrame({\"user_id\": \"avatar_comedy\", \"title\": titles})\n",
        "avatar_interactions_comedy = avatar_interactions_comedy.merge(items[[\"item_id\", \"title\", \"genres\"]], on=\"title\")\n",
        "avatar_interactions_comedy"
      ]
    },
    {
      "cell_type": "code",
      "execution_count": 11,
      "id": "dbee3276",
      "metadata": {
        "id": "dbee3276"
      },
      "outputs": [],
      "source": [
        "train = pd.concat([train, avatar_interactions_action, avatar_interactions_comedy], sort=False)"
      ]
    },
    {
      "cell_type": "code",
      "execution_count": 12,
      "id": "2eaf5dc4",
      "metadata": {
        "colab": {
          "base_uri": "https://localhost:8080/",
          "height": 206
        },
        "id": "2eaf5dc4",
        "outputId": "afd3cc96-62ed-4add-89ab-e0191cc66568"
      },
      "outputs": [
        {
          "output_type": "execute_result",
          "data": {
            "text/plain": [
              "   user_id  item_id                       title  \\\n",
              "0   699317     1659     Три богатыря. Ход конем   \n",
              "1   864613     7638                      Мишель   \n",
              "2  1016458      354                  Серая сова   \n",
              "3   884009      693  Техасская резня бензопилой   \n",
              "4   648682     1449                      Чкалов   \n",
              "\n",
              "                                          genres  \n",
              "0      мультфильм, фэнтези, приключения, комедии  \n",
              "1                                      мелодрамы  \n",
              "2                      драмы, биография, вестерн  \n",
              "3  зарубежные, ужасы, триллеры, мировая классика  \n",
              "4                            драмы, историческое  "
            ],
            "text/html": [
              "\n",
              "  <div id=\"df-4657667d-71fd-46f0-8035-984543260c04\" class=\"colab-df-container\">\n",
              "    <div>\n",
              "<style scoped>\n",
              "    .dataframe tbody tr th:only-of-type {\n",
              "        vertical-align: middle;\n",
              "    }\n",
              "\n",
              "    .dataframe tbody tr th {\n",
              "        vertical-align: top;\n",
              "    }\n",
              "\n",
              "    .dataframe thead th {\n",
              "        text-align: right;\n",
              "    }\n",
              "</style>\n",
              "<table border=\"1\" class=\"dataframe\">\n",
              "  <thead>\n",
              "    <tr style=\"text-align: right;\">\n",
              "      <th></th>\n",
              "      <th>user_id</th>\n",
              "      <th>item_id</th>\n",
              "      <th>title</th>\n",
              "      <th>genres</th>\n",
              "    </tr>\n",
              "  </thead>\n",
              "  <tbody>\n",
              "    <tr>\n",
              "      <th>0</th>\n",
              "      <td>699317</td>\n",
              "      <td>1659</td>\n",
              "      <td>Три богатыря. Ход конем</td>\n",
              "      <td>мультфильм, фэнтези, приключения, комедии</td>\n",
              "    </tr>\n",
              "    <tr>\n",
              "      <th>1</th>\n",
              "      <td>864613</td>\n",
              "      <td>7638</td>\n",
              "      <td>Мишель</td>\n",
              "      <td>мелодрамы</td>\n",
              "    </tr>\n",
              "    <tr>\n",
              "      <th>2</th>\n",
              "      <td>1016458</td>\n",
              "      <td>354</td>\n",
              "      <td>Серая сова</td>\n",
              "      <td>драмы, биография, вестерн</td>\n",
              "    </tr>\n",
              "    <tr>\n",
              "      <th>3</th>\n",
              "      <td>884009</td>\n",
              "      <td>693</td>\n",
              "      <td>Техасская резня бензопилой</td>\n",
              "      <td>зарубежные, ужасы, триллеры, мировая классика</td>\n",
              "    </tr>\n",
              "    <tr>\n",
              "      <th>4</th>\n",
              "      <td>648682</td>\n",
              "      <td>1449</td>\n",
              "      <td>Чкалов</td>\n",
              "      <td>драмы, историческое</td>\n",
              "    </tr>\n",
              "  </tbody>\n",
              "</table>\n",
              "</div>\n",
              "    <div class=\"colab-df-buttons\">\n",
              "\n",
              "  <div class=\"colab-df-container\">\n",
              "    <button class=\"colab-df-convert\" onclick=\"convertToInteractive('df-4657667d-71fd-46f0-8035-984543260c04')\"\n",
              "            title=\"Convert this dataframe to an interactive table.\"\n",
              "            style=\"display:none;\">\n",
              "\n",
              "  <svg xmlns=\"http://www.w3.org/2000/svg\" height=\"24px\" viewBox=\"0 -960 960 960\">\n",
              "    <path d=\"M120-120v-720h720v720H120Zm60-500h600v-160H180v160Zm220 220h160v-160H400v160Zm0 220h160v-160H400v160ZM180-400h160v-160H180v160Zm440 0h160v-160H620v160ZM180-180h160v-160H180v160Zm440 0h160v-160H620v160Z\"/>\n",
              "  </svg>\n",
              "    </button>\n",
              "\n",
              "  <style>\n",
              "    .colab-df-container {\n",
              "      display:flex;\n",
              "      gap: 12px;\n",
              "    }\n",
              "\n",
              "    .colab-df-convert {\n",
              "      background-color: #E8F0FE;\n",
              "      border: none;\n",
              "      border-radius: 50%;\n",
              "      cursor: pointer;\n",
              "      display: none;\n",
              "      fill: #1967D2;\n",
              "      height: 32px;\n",
              "      padding: 0 0 0 0;\n",
              "      width: 32px;\n",
              "    }\n",
              "\n",
              "    .colab-df-convert:hover {\n",
              "      background-color: #E2EBFA;\n",
              "      box-shadow: 0px 1px 2px rgba(60, 64, 67, 0.3), 0px 1px 3px 1px rgba(60, 64, 67, 0.15);\n",
              "      fill: #174EA6;\n",
              "    }\n",
              "\n",
              "    .colab-df-buttons div {\n",
              "      margin-bottom: 4px;\n",
              "    }\n",
              "\n",
              "    [theme=dark] .colab-df-convert {\n",
              "      background-color: #3B4455;\n",
              "      fill: #D2E3FC;\n",
              "    }\n",
              "\n",
              "    [theme=dark] .colab-df-convert:hover {\n",
              "      background-color: #434B5C;\n",
              "      box-shadow: 0px 1px 3px 1px rgba(0, 0, 0, 0.15);\n",
              "      filter: drop-shadow(0px 1px 2px rgba(0, 0, 0, 0.3));\n",
              "      fill: #FFFFFF;\n",
              "    }\n",
              "  </style>\n",
              "\n",
              "    <script>\n",
              "      const buttonEl =\n",
              "        document.querySelector('#df-4657667d-71fd-46f0-8035-984543260c04 button.colab-df-convert');\n",
              "      buttonEl.style.display =\n",
              "        google.colab.kernel.accessAllowed ? 'block' : 'none';\n",
              "\n",
              "      async function convertToInteractive(key) {\n",
              "        const element = document.querySelector('#df-4657667d-71fd-46f0-8035-984543260c04');\n",
              "        const dataTable =\n",
              "          await google.colab.kernel.invokeFunction('convertToInteractive',\n",
              "                                                    [key], {});\n",
              "        if (!dataTable) return;\n",
              "\n",
              "        const docLinkHtml = 'Like what you see? Visit the ' +\n",
              "          '<a target=\"_blank\" href=https://colab.research.google.com/notebooks/data_table.ipynb>data table notebook</a>'\n",
              "          + ' to learn more about interactive tables.';\n",
              "        element.innerHTML = '';\n",
              "        dataTable['output_type'] = 'display_data';\n",
              "        await google.colab.output.renderOutput(dataTable, element);\n",
              "        const docLink = document.createElement('div');\n",
              "        docLink.innerHTML = docLinkHtml;\n",
              "        element.appendChild(docLink);\n",
              "      }\n",
              "    </script>\n",
              "  </div>\n",
              "\n",
              "\n",
              "<div id=\"df-cb3579dc-2aaf-4dba-83f8-23e4fc0d6c92\">\n",
              "  <button class=\"colab-df-quickchart\" onclick=\"quickchart('df-cb3579dc-2aaf-4dba-83f8-23e4fc0d6c92')\"\n",
              "            title=\"Suggest charts\"\n",
              "            style=\"display:none;\">\n",
              "\n",
              "<svg xmlns=\"http://www.w3.org/2000/svg\" height=\"24px\"viewBox=\"0 0 24 24\"\n",
              "     width=\"24px\">\n",
              "    <g>\n",
              "        <path d=\"M19 3H5c-1.1 0-2 .9-2 2v14c0 1.1.9 2 2 2h14c1.1 0 2-.9 2-2V5c0-1.1-.9-2-2-2zM9 17H7v-7h2v7zm4 0h-2V7h2v10zm4 0h-2v-4h2v4z\"/>\n",
              "    </g>\n",
              "</svg>\n",
              "  </button>\n",
              "\n",
              "<style>\n",
              "  .colab-df-quickchart {\n",
              "      --bg-color: #E8F0FE;\n",
              "      --fill-color: #1967D2;\n",
              "      --hover-bg-color: #E2EBFA;\n",
              "      --hover-fill-color: #174EA6;\n",
              "      --disabled-fill-color: #AAA;\n",
              "      --disabled-bg-color: #DDD;\n",
              "  }\n",
              "\n",
              "  [theme=dark] .colab-df-quickchart {\n",
              "      --bg-color: #3B4455;\n",
              "      --fill-color: #D2E3FC;\n",
              "      --hover-bg-color: #434B5C;\n",
              "      --hover-fill-color: #FFFFFF;\n",
              "      --disabled-bg-color: #3B4455;\n",
              "      --disabled-fill-color: #666;\n",
              "  }\n",
              "\n",
              "  .colab-df-quickchart {\n",
              "    background-color: var(--bg-color);\n",
              "    border: none;\n",
              "    border-radius: 50%;\n",
              "    cursor: pointer;\n",
              "    display: none;\n",
              "    fill: var(--fill-color);\n",
              "    height: 32px;\n",
              "    padding: 0;\n",
              "    width: 32px;\n",
              "  }\n",
              "\n",
              "  .colab-df-quickchart:hover {\n",
              "    background-color: var(--hover-bg-color);\n",
              "    box-shadow: 0 1px 2px rgba(60, 64, 67, 0.3), 0 1px 3px 1px rgba(60, 64, 67, 0.15);\n",
              "    fill: var(--button-hover-fill-color);\n",
              "  }\n",
              "\n",
              "  .colab-df-quickchart-complete:disabled,\n",
              "  .colab-df-quickchart-complete:disabled:hover {\n",
              "    background-color: var(--disabled-bg-color);\n",
              "    fill: var(--disabled-fill-color);\n",
              "    box-shadow: none;\n",
              "  }\n",
              "\n",
              "  .colab-df-spinner {\n",
              "    border: 2px solid var(--fill-color);\n",
              "    border-color: transparent;\n",
              "    border-bottom-color: var(--fill-color);\n",
              "    animation:\n",
              "      spin 1s steps(1) infinite;\n",
              "  }\n",
              "\n",
              "  @keyframes spin {\n",
              "    0% {\n",
              "      border-color: transparent;\n",
              "      border-bottom-color: var(--fill-color);\n",
              "      border-left-color: var(--fill-color);\n",
              "    }\n",
              "    20% {\n",
              "      border-color: transparent;\n",
              "      border-left-color: var(--fill-color);\n",
              "      border-top-color: var(--fill-color);\n",
              "    }\n",
              "    30% {\n",
              "      border-color: transparent;\n",
              "      border-left-color: var(--fill-color);\n",
              "      border-top-color: var(--fill-color);\n",
              "      border-right-color: var(--fill-color);\n",
              "    }\n",
              "    40% {\n",
              "      border-color: transparent;\n",
              "      border-right-color: var(--fill-color);\n",
              "      border-top-color: var(--fill-color);\n",
              "    }\n",
              "    60% {\n",
              "      border-color: transparent;\n",
              "      border-right-color: var(--fill-color);\n",
              "    }\n",
              "    80% {\n",
              "      border-color: transparent;\n",
              "      border-right-color: var(--fill-color);\n",
              "      border-bottom-color: var(--fill-color);\n",
              "    }\n",
              "    90% {\n",
              "      border-color: transparent;\n",
              "      border-bottom-color: var(--fill-color);\n",
              "    }\n",
              "  }\n",
              "</style>\n",
              "\n",
              "  <script>\n",
              "    async function quickchart(key) {\n",
              "      const quickchartButtonEl =\n",
              "        document.querySelector('#' + key + ' button');\n",
              "      quickchartButtonEl.disabled = true;  // To prevent multiple clicks.\n",
              "      quickchartButtonEl.classList.add('colab-df-spinner');\n",
              "      try {\n",
              "        const charts = await google.colab.kernel.invokeFunction(\n",
              "            'suggestCharts', [key], {});\n",
              "      } catch (error) {\n",
              "        console.error('Error during call to suggestCharts:', error);\n",
              "      }\n",
              "      quickchartButtonEl.classList.remove('colab-df-spinner');\n",
              "      quickchartButtonEl.classList.add('colab-df-quickchart-complete');\n",
              "    }\n",
              "    (() => {\n",
              "      let quickchartButtonEl =\n",
              "        document.querySelector('#df-cb3579dc-2aaf-4dba-83f8-23e4fc0d6c92 button');\n",
              "      quickchartButtonEl.style.display =\n",
              "        google.colab.kernel.accessAllowed ? 'block' : 'none';\n",
              "    })();\n",
              "  </script>\n",
              "</div>\n",
              "    </div>\n",
              "  </div>\n"
            ],
            "application/vnd.google.colaboratory.intrinsic+json": {
              "type": "dataframe",
              "variable_name": "train"
            }
          },
          "metadata": {},
          "execution_count": 12
        }
      ],
      "source": [
        "train.head()"
      ]
    },
    {
      "cell_type": "markdown",
      "id": "fc85405a",
      "metadata": {
        "id": "fc85405a"
      },
      "source": [
        "## Обучение модели"
      ]
    },
    {
      "cell_type": "code",
      "source": [
        "from lightfm import LightFM"
      ],
      "metadata": {
        "id": "Z5NdGwx1CdYM"
      },
      "id": "Z5NdGwx1CdYM",
      "execution_count": 13,
      "outputs": []
    },
    {
      "cell_type": "code",
      "execution_count": 14,
      "id": "f8b7ba31",
      "metadata": {
        "colab": {
          "base_uri": "https://localhost:8080/"
        },
        "id": "f8b7ba31",
        "outputId": "883b4791-19af-4748-ae9b-5c6dd72940d7"
      },
      "outputs": [
        {
          "output_type": "stream",
          "name": "stdout",
          "text": [
            "CPU times: user 18.9 s, sys: 333 ms, total: 19.3 s\n",
            "Wall time: 19.8 s\n"
          ]
        }
      ],
      "source": [
        "%%time\n",
        "\n",
        "lfm_dataset = LFMDataset()\n",
        "lfm_dataset.fit(\n",
        "    users=train[\"user_id\"].values,\n",
        "    items=train[\"item_id\"].values,\n",
        ")\n",
        "\n",
        "train_matrix, _ = lfm_dataset.build_interactions(zip(*train[[\"user_id\", \"item_id\"]].values.T))"
      ]
    },
    {
      "cell_type": "code",
      "execution_count": null,
      "id": "5cc2df46",
      "metadata": {
        "id": "5cc2df46"
      },
      "outputs": [],
      "source": [
        "%%time\n",
        "\n",
        "lfm_model = LightFM(\n",
        "    learning_rate=0.01,\n",
        "    loss='warp',\n",
        "    no_components=64,\n",
        "    random_state=RANDOM_STATE\n",
        ")\n",
        "lfm_model.fit(\n",
        "    interactions=train_matrix,\n",
        "    epochs=20,\n",
        "    num_threads=20,\n",
        ");"
      ]
    },
    {
      "cell_type": "code",
      "execution_count": null,
      "id": "8c6cc8ed",
      "metadata": {
        "id": "8c6cc8ed"
      },
      "outputs": [],
      "source": []
    },
    {
      "cell_type": "markdown",
      "id": "00df2e97",
      "metadata": {
        "id": "00df2e97"
      },
      "source": [
        "## Рекомендации для аватаров"
      ]
    },
    {
      "cell_type": "code",
      "execution_count": null,
      "id": "5426c4e1",
      "metadata": {
        "id": "5426c4e1"
      },
      "outputs": [],
      "source": [
        "n_recommendations = 10"
      ]
    },
    {
      "cell_type": "code",
      "execution_count": null,
      "id": "6ba5f7a1",
      "metadata": {
        "id": "6ba5f7a1"
      },
      "outputs": [],
      "source": [
        "id_item_mapping = {v: k for k, v in lfm_dataset._item_id_mapping.items()}"
      ]
    },
    {
      "cell_type": "code",
      "execution_count": null,
      "id": "a798d85e",
      "metadata": {
        "id": "a798d85e"
      },
      "outputs": [],
      "source": [
        "def get_n_recommendations_for_user(\n",
        "    user_id: str,\n",
        "    model: LightFM,\n",
        "    train_matrix: coo_matrix,\n",
        "    user_to_id: tp.Dict[str, int],\n",
        "    id_to_item: tp.Dict[int, str],\n",
        "    n_recommendations: int\n",
        ") -> pd.DataFrame:\n",
        "    user_inner_id = user_to_id[user_id]\n",
        "    scores = model.predict(\n",
        "        user_ids=user_inner_id,\n",
        "        item_ids=np.arange(train_matrix.shape[1]),\n",
        "        num_threads=20\n",
        "    )\n",
        "    user_watched_items = train_matrix.col[train_matrix.row == user_inner_id]\n",
        "    scores[user_watched_items] = -np.inf\n",
        "\n",
        "    recommended_item_inner_ids = np.argpartition(scores, -np.arange(n_recommendations))[\n",
        "        -n_recommendations:\n",
        "    ][::-1]\n",
        "    recommended_item_ids = [id_to_item[x] for x in recommended_item_inner_ids]\n",
        "    return recommended_item_ids\n"
      ]
    },
    {
      "cell_type": "code",
      "execution_count": null,
      "id": "be06c129",
      "metadata": {
        "id": "be06c129"
      },
      "outputs": [],
      "source": [
        "user_id = \"avatar_action\"\n",
        "\n",
        "recommended_items = get_n_recommendations_for_user(\n",
        "    user_id=user_id,\n",
        "    model=lfm_model,\n",
        "    train_matrix=train_matrix,\n",
        "    user_to_id=lfm_dataset._user_id_mapping,\n",
        "    id_to_item=id_item_mapping,\n",
        "    n_recommendations=n_recommendations\n",
        ")\n",
        "pd.DataFrame({\"user_id\": user_id, \"item_id\": recommended_items}).merge(items[[\"item_id\", \"title\", \"genres\"]])"
      ]
    },
    {
      "cell_type": "code",
      "execution_count": null,
      "id": "7a160f1b",
      "metadata": {
        "id": "7a160f1b"
      },
      "outputs": [],
      "source": [
        "user_id = \"avatar_comedy\"\n",
        "\n",
        "recommended_items = get_n_recommendations_for_user(\n",
        "    user_id=user_id,\n",
        "    model=lfm_model,\n",
        "    train_matrix=train_matrix,\n",
        "    user_to_id=lfm_dataset._user_id_mapping,\n",
        "    id_to_item=id_item_mapping,\n",
        "    n_recommendations=n_recommendations\n",
        ")\n",
        "pd.DataFrame({\"user_id\": user_id, \"item_id\": recommended_items}).merge(items[[\"item_id\", \"title\", \"genres\"]])"
      ]
    },
    {
      "cell_type": "code",
      "execution_count": null,
      "id": "b08459f7",
      "metadata": {
        "id": "b08459f7"
      },
      "outputs": [],
      "source": [
        "# самые просматриваемые в обучающей выборке\n",
        "train[\"title\"].value_counts().head(10)"
      ]
    },
    {
      "cell_type": "markdown",
      "id": "f3094db1",
      "metadata": {
        "id": "f3094db1"
      },
      "source": [
        "Мы получили, что рекомендации для аватаров имеют сильное пересечение, обусловленное перекосом к рекомендациям популярного контента."
      ]
    },
    {
      "cell_type": "markdown",
      "id": "eadda7bd",
      "metadata": {
        "id": "eadda7bd"
      },
      "source": [
        "##  Попробуем побороться с перекосом к популярным"
      ]
    },
    {
      "cell_type": "markdown",
      "id": "a366c8b8",
      "metadata": {
        "id": "a366c8b8"
      },
      "source": [
        "Алгоритм обучает для каждого пользователя $u$ и товара $i$ соответственно смещения $b_u$, $b_i$ и эмбеддинги $p_u$, $q_i$. Для формирования рекомендаций для пользователя выбираются товары, имеющие наибольшие значения скоров, определяющихся по формуле:\n",
        "\n",
        "$$score_{ui} = b_u + b_i + p_u \\cdot q_i = b_u + b_i + \\cos ( p_u, q_i ) \\cdot || p_u || \\cdot || q_i || .$$\n",
        "\n",
        "Часто перекос к популярным выражается в больших значениях смещений или норм эмбеддингов у популярных товаров. В таких случаях может помочь переход от ранжирования по значениям скалярных произведений к ранжированию по косинусам угла между эмбеддингами пользователей и товаров.\n",
        "\n",
        "Для перехода к косинусам согласно формуле выше достаточно заменить $b_u$ и $b_i$ нулями и привести нормы $p_u$ и $q_i$ к единицам."
      ]
    },
    {
      "cell_type": "code",
      "execution_count": null,
      "id": "8ae84677",
      "metadata": {
        "id": "8ae84677"
      },
      "outputs": [],
      "source": [
        "lfm_model_cos = deepcopy(lfm_model)\n",
        "\n",
        "lfm_model_cos.item_biases = np.zeros_like(lfm_model_cos.item_biases)\n",
        "lfm_model_cos.user_biases = np.zeros_like(lfm_model_cos.user_biases)\n",
        "\n",
        "lfm_model_cos.item_embeddings = normalize(lfm_model_cos.item_embeddings)\n",
        "lfm_model_cos.user_embeddings = normalize(lfm_model_cos.user_embeddings)"
      ]
    },
    {
      "cell_type": "code",
      "execution_count": null,
      "id": "f70bf481",
      "metadata": {
        "id": "f70bf481"
      },
      "outputs": [],
      "source": [
        "user_id = \"avatar_action\"\n",
        "\n",
        "recommended_items = get_n_recommendations_for_user(\n",
        "    user_id=user_id,\n",
        "    model=lfm_model_cos,\n",
        "    train_matrix=train_matrix,\n",
        "    user_to_id=lfm_dataset._user_id_mapping,\n",
        "    id_to_item=id_item_mapping,\n",
        "    n_recommendations=n_recommendations\n",
        ")\n",
        "pd.DataFrame({\"user_id\": user_id, \"item_id\": recommended_items}).merge(items[[\"item_id\", \"title\", \"genres\"]])"
      ]
    },
    {
      "cell_type": "code",
      "execution_count": null,
      "id": "4014ae32",
      "metadata": {
        "id": "4014ae32"
      },
      "outputs": [],
      "source": [
        "user_id = \"avatar_comedy\"\n",
        "\n",
        "recommended_items = get_n_recommendations_for_user(\n",
        "    user_id=user_id,\n",
        "    model=lfm_model_cos,\n",
        "    train_matrix=train_matrix,\n",
        "    user_to_id=lfm_dataset._user_id_mapping,\n",
        "    id_to_item=id_item_mapping,\n",
        "    n_recommendations=n_recommendations\n",
        ")\n",
        "pd.DataFrame({\"user_id\": user_id, \"item_id\": recommended_items}).merge(items[[\"item_id\", \"title\", \"genres\"]])"
      ]
    },
    {
      "cell_type": "markdown",
      "id": "330a586b",
      "metadata": {
        "id": "330a586b"
      },
      "source": [
        "Видно, что рекомендации стали более персонализированными для аватаров и исчезло преобладание популярного контента. Однако говорить о том, что новая версия модели лучше рано. Выводы стоит делать после того, как будут в том числе проведены количественные оценки качества (оффлайн и онлайн метрики)."
      ]
    },
    {
      "cell_type": "code",
      "execution_count": null,
      "id": "93e82686",
      "metadata": {
        "id": "93e82686"
      },
      "outputs": [],
      "source": []
    },
    {
      "cell_type": "markdown",
      "id": "16ee328c",
      "metadata": {
        "id": "16ee328c"
      },
      "source": [
        "## Похожие фильмы"
      ]
    },
    {
      "cell_type": "code",
      "execution_count": null,
      "id": "d809c9a3",
      "metadata": {
        "id": "d809c9a3"
      },
      "outputs": [],
      "source": [
        "from scipy.spatial.distance import cdist"
      ]
    },
    {
      "cell_type": "code",
      "execution_count": null,
      "id": "c1f0d591",
      "metadata": {
        "id": "c1f0d591"
      },
      "outputs": [],
      "source": [
        "cdist"
      ]
    },
    {
      "cell_type": "code",
      "execution_count": null,
      "id": "68200520",
      "metadata": {
        "id": "68200520"
      },
      "outputs": [],
      "source": [
        "from scipy.spatial.distance import cdist\n",
        "\n",
        "\n",
        "def get_n_similar_movies(\n",
        "    item_id: str,\n",
        "    model: LightFM,\n",
        "    item_to_id: tp.Dict[str, int],\n",
        "    id_to_item: tp.Dict[int, str],\n",
        "    n_recommendations: int\n",
        ") -> pd.DataFrame:\n",
        "    item_inner_id = item_to_id[item_id]\n",
        "    _, embeddings = model.get_item_representations()\n",
        "\n",
        "    similarities = 1 - cdist(embeddings[item_inner_id].reshape(1, -1), embeddings, metric=\"cosine\")\n",
        "    similarities = similarities[0]\n",
        "    similarities[item_inner_id] = -np.inf\n",
        "\n",
        "    similar_movie_inner_ids = np.argsort(-similarities)[:10]\n",
        "    similar_movie_ids = [id_to_item[x] for x in similar_movie_inner_ids]\n",
        "    return similar_movie_ids"
      ]
    },
    {
      "cell_type": "code",
      "execution_count": null,
      "id": "d2073419",
      "metadata": {
        "id": "d2073419"
      },
      "outputs": [],
      "source": [
        "item_id = 7671  # Джон Уик\n",
        "\n",
        "similar_movies = get_n_similar_movies(\n",
        "    item_id=item_id,\n",
        "    model=lfm_model_cos,\n",
        "    item_to_id=lfm_dataset._item_id_mapping,\n",
        "    id_to_item=id_item_mapping,\n",
        "    n_recommendations=n_recommendations\n",
        ")\n",
        "pd.DataFrame({\"item_id\": similar_movies}).merge(items[[\"item_id\", \"title\", \"genres\"]])"
      ]
    },
    {
      "cell_type": "code",
      "execution_count": null,
      "id": "01090736",
      "metadata": {
        "id": "01090736"
      },
      "outputs": [],
      "source": [
        "item_id = 2323  # Форсаж: Хоббс и Шоу\n",
        "\n",
        "similar_movies = get_n_similar_movies(\n",
        "    item_id=item_id,\n",
        "    model=lfm_model,\n",
        "    item_to_id=lfm_dataset._item_id_mapping,\n",
        "    id_to_item=id_item_mapping,\n",
        "    n_recommendations=n_recommendations\n",
        ")\n",
        "pd.DataFrame({\"item_id\": similar_movies}).merge(items[[\"item_id\", \"title\", \"genres\"]])"
      ]
    },
    {
      "cell_type": "code",
      "execution_count": null,
      "id": "1b702d3c",
      "metadata": {
        "id": "1b702d3c"
      },
      "outputs": [],
      "source": []
    },
    {
      "cell_type": "markdown",
      "id": "6a264a19",
      "metadata": {
        "id": "6a264a19"
      },
      "source": [
        "## Расчет рекомендаций"
      ]
    },
    {
      "cell_type": "markdown",
      "id": "eb846309",
      "metadata": {
        "id": "eb846309"
      },
      "source": [
        "Сформируем таблицы рекомендаций для пользователей из тестовой выборки.\n",
        "\n",
        "Далее с помощью этих таблиц будут оценены метрики beyond accuracy. Методологически вернее оценивать данные метрики на всей пользовательской базе, а не только для пользователей, имеющих действия в тестовой выборке. Здесь мы этим пренебрежем для экономии вычислительных ресурсов."
      ]
    },
    {
      "cell_type": "code",
      "execution_count": null,
      "id": "45acc26a",
      "metadata": {
        "id": "45acc26a"
      },
      "outputs": [],
      "source": [
        "models_dict = {\"lfm\": lfm_model, \"lfm_cos\": lfm_model_cos}"
      ]
    },
    {
      "cell_type": "code",
      "execution_count": null,
      "id": "a664a9f8",
      "metadata": {
        "id": "a664a9f8"
      },
      "outputs": [],
      "source": [
        "%%time\n",
        "\n",
        "recommendations_dict = {}\n",
        "for model_name, model in models_dict.items():\n",
        "    recommendations = pd.DataFrame({\"user_id\": test[\"user_id\"].unique()})\n",
        "    recommendations[\"item_id\"] = recommendations[\"user_id\"].apply(\n",
        "        get_n_recommendations_for_user,\n",
        "        args=(\n",
        "            model,\n",
        "            train_matrix,\n",
        "            lfm_dataset._user_id_mapping,\n",
        "            id_item_mapping,\n",
        "            n_recommendations\n",
        "        ),\n",
        "    )\n",
        "    recommendations = recommendations.explode(\"item_id\")\n",
        "    recommendations[\"rank\"] = recommendations.groupby([\"user_id\"]).cumcount() + 1\n",
        "    recommendations_dict[model_name] = recommendations\n"
      ]
    },
    {
      "cell_type": "code",
      "execution_count": null,
      "id": "a9d51d79",
      "metadata": {
        "id": "a9d51d79"
      },
      "outputs": [],
      "source": []
    },
    {
      "cell_type": "markdown",
      "id": "7cc847fd",
      "metadata": {
        "id": "7cc847fd"
      },
      "source": [
        "# Оценка метрик классификации"
      ]
    },
    {
      "cell_type": "markdown",
      "id": "bfbb4cb3",
      "metadata": {
        "id": "bfbb4cb3"
      },
      "source": [
        "Эти метрики оценивают качество топ-N рекомендаций. В рекомендательные системы напрямую перекочевали из методов оценки качества бинарной классификации.\n",
        "Все считается на основе 4 базовых случаев:\n",
        "* True positive  (TP) - модель рекомендовала объект, с которым пользователь провзаимодействовал\n",
        "* False positive (FP) - модель рекомендовала объект, с которым пользователь не провзаимодействовал\n",
        "* True negative  (TN) - модель не рекомендовала объект, с которым пользователь не провзаимодействовал\n",
        "* False negative (FN) - модель не рекомендовала объект, с которым пользователь провзаимодействовал\n",
        "\n",
        "Что из этого всего важней? В первую очередь это True positive. Мы хотим строить наиболее релевантные рекомендации для пользователя.\n",
        "Во вторую очередь это False negative, опять же потому, что мы не хотим, чтобы модель \"теряла\" релевантные рекомендации.\n",
        "\n",
        "А что с FP и TN? На самом деле, эти величины не показательны. Они обычно очень больше, так как пользователи взаимодействуют с очень малым количество объектов относительно общего числа объектов.\n",
        "И практика показывает, что этими значениями можно пренебречь.\n",
        "\n",
        "Для измерения доли TP и FN применяются следующие метрики:\n",
        "* **Precision@K** - доля релевантных рекомендаций среди всех рекомендаций\n",
        "    * Формула - `TP / (TP + FP)`\n",
        "    * Можно заметить, что под positives мы понимаем рекомендованные объекты, то есть наш топ-К, значит `TP + FP = K`\n",
        "    * Итоговая формула - `TP / K`\n",
        "    * Считаем по каждому пользователю и для некторых К\n",
        "    * Усредняем по всем пользователя\n",
        "* **Recall@K** - доля релевантных рекомендаций среди всех релевантных объектов\n",
        "    * Формула - `TP / (TP + FN)`\n",
        "    * `TP + FN` это количество известных релевантых объектов для пользователя\n",
        "    * Считаем по каждому пользователю и для некторых К\n",
        "    * Усредняем по всем пользователя"
      ]
    },
    {
      "cell_type": "code",
      "execution_count": null,
      "id": "7b7f3805",
      "metadata": {
        "id": "7b7f3805"
      },
      "outputs": [],
      "source": [
        "df_true = pd.DataFrame({\n",
        "    'user_id': ['Аня',                'Боря',               'Вася',         'Вася'],\n",
        "    'item_id': ['Джентельмены удачи', '451° по Фаренгейту', 'Зеленая миля', 'Побег из Шоушенка'],\n",
        "})\n",
        "df_true"
      ]
    },
    {
      "cell_type": "code",
      "execution_count": null,
      "id": "c5ab1b8b",
      "metadata": {
        "id": "c5ab1b8b"
      },
      "outputs": [],
      "source": [
        "df_recs = pd.DataFrame({\n",
        "    'user_id': [\n",
        "        'Аня', 'Аня', 'Аня',\n",
        "        'Боря', 'Боря', 'Боря',\n",
        "        'Вася', 'Вася', 'Вася',\n",
        "    ],\n",
        "    'item_id': [\n",
        "        'Служебный роман', 'Бриллиантовая рука', '12 стульев',\n",
        "        '451° по Фаренгейту', '1984', 'Бегущий по лезвию',\n",
        "        'Оно', 'Сияние', 'Зеленая миля',\n",
        "    ],\n",
        "    'rank': [\n",
        "        1, 2, 3,\n",
        "        1, 2, 3,\n",
        "        1, 2, 3,\n",
        "    ]\n",
        "})\n",
        "df_recs"
      ]
    },
    {
      "cell_type": "code",
      "execution_count": null,
      "id": "f01d30f2",
      "metadata": {
        "id": "f01d30f2"
      },
      "outputs": [],
      "source": [
        "df_merged = df_true.set_index(['user_id', 'item_id']).join(df_recs.set_index(['user_id', 'item_id']), how='left')\n",
        "df_merged"
      ]
    },
    {
      "cell_type": "markdown",
      "id": "41c1b1af",
      "metadata": {
        "id": "41c1b1af"
      },
      "source": [
        "Вначале посчитаем метрик для топ-2 (т.е. К = 2). Алгоритм следующий:\n",
        "* Релевантные объекты, которые не были рекомендованы игнорируем (NaN)\n",
        "* Определяем, какие релеватные рекомендации попали в топ-2 (hit)\n",
        "    * True positive для каждого пользователя\n",
        "* Делим TP на K  \n",
        "* Считаем Precision@K для каждого пользователя как сумму его TP/K\n",
        "* Все Precision@K усредняем"
      ]
    },
    {
      "cell_type": "code",
      "execution_count": null,
      "id": "5e21b3f0",
      "metadata": {
        "id": "5e21b3f0"
      },
      "outputs": [],
      "source": [
        "df_merged['hit@2'] = df_merged['rank'] <= 2\n",
        "df_merged"
      ]
    },
    {
      "cell_type": "code",
      "execution_count": null,
      "id": "5c5e0fac",
      "metadata": {
        "id": "5c5e0fac"
      },
      "outputs": [],
      "source": [
        "df_merged['hit@2/2'] = df_merged['hit@2'] / 2\n",
        "df_merged"
      ]
    },
    {
      "cell_type": "code",
      "execution_count": null,
      "id": "8eb2c229",
      "metadata": {
        "id": "8eb2c229"
      },
      "outputs": [],
      "source": [
        "df_prec2 = df_merged.groupby(level=0)['hit@2/2'].sum()\n",
        "df_prec2"
      ]
    },
    {
      "cell_type": "code",
      "execution_count": null,
      "id": "c081bee4",
      "metadata": {
        "id": "c081bee4"
      },
      "outputs": [],
      "source": [
        "print(f'Precision@2 - {df_prec2.mean()}')"
      ]
    },
    {
      "cell_type": "code",
      "execution_count": null,
      "id": "58727a7c",
      "metadata": {
        "id": "58727a7c"
      },
      "outputs": [],
      "source": [
        "users_count = df_merged.index.get_level_values('user_id').nunique()\n",
        "for k in [1, 2, 3]:\n",
        "    hit_k = f'hit@{k}'\n",
        "    df_merged[hit_k] = df_merged['rank'] <= k\n",
        "    print(f'Precision@{k} = {(df_merged[hit_k] / k).sum() / users_count:.4f}')"
      ]
    },
    {
      "cell_type": "markdown",
      "id": "38b5a53d",
      "metadata": {
        "id": "38b5a53d"
      },
      "source": [
        "C Recall@K похожая история, нам также нужно получить hit@K, но делить уже будем на количество релевантных объектов у пользователя"
      ]
    },
    {
      "cell_type": "code",
      "execution_count": null,
      "id": "189a9ef9",
      "metadata": {
        "id": "189a9ef9"
      },
      "outputs": [],
      "source": [
        "df_merged['users_item_count'] = df_merged.groupby(level='user_id')['rank'].transform(np.size)\n",
        "df_merged"
      ]
    },
    {
      "cell_type": "code",
      "execution_count": null,
      "id": "2c972491",
      "metadata": {
        "id": "2c972491"
      },
      "outputs": [],
      "source": [
        "for k in [1, 2, 3]:\n",
        "    hit_k = f'hit@{k}'\n",
        "    # Уже посчитано\n",
        "    # df_merged[hit_k] = df_merged['rank'] <= k\n",
        "    print(f\"Recall@{k} = {(df_merged[hit_k] / df_merged['users_item_count']).sum() / users_count:.4f}\")"
      ]
    },
    {
      "cell_type": "markdown",
      "id": "7bb404c7",
      "metadata": {
        "id": "7bb404c7"
      },
      "source": [
        "Precision@K и Recall@K неплохие метрики, чтобы оценить качество рекомендаций, но они учитывают только \"попадания\" (hits, true positives).\n",
        "Но на самом деле нам важно насколько высоко по позициям находятся эти самые попадания.\n",
        "\n",
        "Простой пример, пусть две модели рекомендаций для одного пользователя получили такие hit@4 на тесте:\n",
        "* model1 - 1, 0, 0, 1\n",
        "* model2 - 1, 0, 1, 0\n",
        "\n",
        "Precision@4 для них будет одинаковый - 0.5, хотя model2 немного лучше, так как 2-ое попадание находится выше, чем у model1"
      ]
    },
    {
      "cell_type": "code",
      "execution_count": null,
      "id": "c47b8446",
      "metadata": {
        "id": "c47b8446"
      },
      "outputs": [],
      "source": []
    },
    {
      "cell_type": "markdown",
      "id": "d4eaaec3",
      "metadata": {
        "id": "d4eaaec3"
      },
      "source": [
        "# Оценка метрик ранжирования"
      ]
    },
    {
      "cell_type": "markdown",
      "id": "c73c3c8b",
      "metadata": {
        "id": "c73c3c8b"
      },
      "source": [
        "Эти метрики оценивают качество топ-N рекомендаций c учетом рангов/позиций. Основная идея - оценить \"попадания\" с весом, зависящим от позиции (обычно это обратная пропорциальная зависимость, то есть чем больше позиция, тем меньше вес).\n",
        "Основные метрики следующие:"
      ]
    },
    {
      "cell_type": "markdown",
      "id": "361350ff",
      "metadata": {
        "id": "361350ff"
      },
      "source": [
        "**Mean Reciprocal Rank**\n",
        "\n",
        "<div>\n",
        "<img src=\"attachment:mrr.png\" width=\"300\"/>\n",
        "</div>\n",
        "\n",
        "$$ MRR = \\frac{1}{N} \\sum_{i=1}^{N} \\frac{1}{rank_i}, $$\n",
        "\n",
        "где $N$ - количество пользователей, а $rank_i$ - позиция первой релевантной рекомендации"
      ]
    },
    {
      "cell_type": "markdown",
      "id": "d2df0d7e",
      "metadata": {
        "id": "d2df0d7e"
      },
      "source": [
        "**Mean Average Precision**\n",
        "\n",
        "$$ MAP@k = \\frac{1}{N} \\sum_{i=1}^{N} AP@k(user_i) $$\n",
        "\n",
        "$$ AP@k = \\frac{1}{c_{user}} \\sum_{i=1}^{k} Precision@i * rel_i $$\n",
        "\n",
        "То есть MAP - это усреднение AveragePrecision по всем пользователям.\n",
        "А AveragePrecision в свою очередь, это средний Precision@K по релевантным объектам одного пользователя."
      ]
    },
    {
      "cell_type": "code",
      "execution_count": null,
      "id": "d6522f5c",
      "metadata": {
        "id": "d6522f5c"
      },
      "outputs": [],
      "source": [
        "df_merged = df_true.set_index(['user_id', 'item_id']).join(df_recs.set_index(['user_id', 'item_id']), how='left')\n",
        "df_merged = df_merged.sort_values(by=['user_id', 'rank'])\n",
        "df_merged"
      ]
    },
    {
      "cell_type": "code",
      "execution_count": null,
      "id": "6f75fcd9",
      "metadata": {
        "id": "6f75fcd9"
      },
      "outputs": [],
      "source": [
        "df_merged['reciprocal_rank'] = 1 / df_merged['rank']\n",
        "df_merged"
      ]
    },
    {
      "cell_type": "code",
      "execution_count": null,
      "id": "ee798c0b",
      "metadata": {
        "id": "ee798c0b"
      },
      "outputs": [],
      "source": [
        "mrr = df_merged.groupby(level='user_id')['reciprocal_rank'].max()\n",
        "mrr"
      ]
    },
    {
      "cell_type": "code",
      "execution_count": null,
      "id": "7dd22914",
      "metadata": {
        "id": "7dd22914"
      },
      "outputs": [],
      "source": [
        "print(f\"MRR = {mrr.fillna(0).mean()}\")"
      ]
    },
    {
      "cell_type": "code",
      "execution_count": null,
      "id": "dab2d33f",
      "metadata": {
        "id": "dab2d33f"
      },
      "outputs": [],
      "source": [
        "df_merged['cumulative_rank'] = df_merged.groupby(level='user_id').cumcount() + 1\n",
        "df_merged['cumulative_rank'] = df_merged['cumulative_rank'] / df_merged['rank']\n",
        "df_merged['users_item_count'] = df_merged.groupby(level='user_id')['rank'].transform(np.size)\n",
        "df_merged"
      ]
    },
    {
      "cell_type": "code",
      "execution_count": null,
      "id": "356a4889",
      "metadata": {
        "id": "356a4889"
      },
      "outputs": [],
      "source": [
        "users_count = df_merged.index.get_level_values('user_id').nunique()\n",
        "map3 = (df_merged[\"cumulative_rank\"] / df_merged[\"users_item_count\"]).sum() / users_count\n",
        "print(f\"MAP@3 = {map3}\")"
      ]
    },
    {
      "cell_type": "code",
      "execution_count": null,
      "id": "d52152a0",
      "metadata": {
        "id": "d52152a0"
      },
      "outputs": [],
      "source": []
    },
    {
      "cell_type": "markdown",
      "id": "5ec612be",
      "metadata": {
        "id": "5ec612be"
      },
      "source": [
        "## Оценка метрик на тестовом датасете"
      ]
    },
    {
      "cell_type": "code",
      "execution_count": null,
      "id": "296903ed",
      "metadata": {
        "id": "296903ed"
      },
      "outputs": [],
      "source": [
        "def compute_metrics(df_true, df_pred, top_N):\n",
        "    result = {}\n",
        "    test_recs = df_true.set_index(['user_id', 'item_id']).join(df_pred.set_index(['user_id', 'item_id']))\n",
        "    test_recs = test_recs.sort_values(by=['user_id', 'rank'])\n",
        "\n",
        "    test_recs['users_item_count'] = test_recs.groupby(level='user_id')['rank'].transform(np.size)\n",
        "    test_recs['reciprocal_rank'] = (1 / test_recs['rank']).fillna(0)\n",
        "    test_recs['cumulative_rank'] = test_recs.groupby(level='user_id').cumcount() + 1\n",
        "    test_recs['cumulative_rank'] = test_recs['cumulative_rank'] / test_recs['rank']\n",
        "\n",
        "    users_count = test_recs.index.get_level_values('user_id').nunique()\n",
        "    for k in range(1, top_N + 1):\n",
        "        hit_k = f'hit@{k}'\n",
        "        test_recs[hit_k] = test_recs['rank'] <= k\n",
        "        result[f'Precision@{k}'] = (test_recs[hit_k] / k).sum() / users_count\n",
        "        result[f'Recall@{k}'] = (test_recs[hit_k] / test_recs['users_item_count']).sum() / users_count\n",
        "\n",
        "    result[f'MAP@{top_N}'] = (test_recs[\"cumulative_rank\"] / test_recs[\"users_item_count\"]).sum() / users_count\n",
        "    result[f'MRR'] = test_recs.groupby(level='user_id')['reciprocal_rank'].max().mean()\n",
        "    return pd.Series(result)"
      ]
    },
    {
      "cell_type": "code",
      "execution_count": null,
      "id": "400671cb",
      "metadata": {
        "id": "400671cb"
      },
      "outputs": [],
      "source": [
        "compute_metrics(test, recommendations_dict[\"lfm\"], 10)"
      ]
    },
    {
      "cell_type": "code",
      "execution_count": null,
      "id": "10036ce3",
      "metadata": {
        "id": "10036ce3"
      },
      "outputs": [],
      "source": [
        "compute_metrics(test, recommendations_dict[\"lfm_cos\"], 10)"
      ]
    },
    {
      "cell_type": "markdown",
      "id": "9be6c5b6",
      "metadata": {
        "id": "9be6c5b6"
      },
      "source": [
        "Из значений метрик видно, что модель со скосом к популярному имеет бОльшие значения метрик, это логично, тк популярные фильмы, просматриваемые пользователями в обучающем периоде, обычно популярны и в течение тестового периода. Здесь стоит отметить, что в тч из-за этого наблюдения выбор модели для раскатки на реальных пользователях, основанный на значениях оффлайн метрик, в рекомендациях обычно не оправдан. Например, в описанном случае совсем необязательно пользователям больше понравятся рекомендации популярного контента относительно более персонализированного. Честным способом сравнения моделей рекомендаций является проведение АБ-теста, в рамках которого для разных алгоритмов будут сравниваться бизнес-метрики (в случае онлайн-кинотеатра это могут быть метрики метрики среднего времени просмотра контента за тестовый период, среднее количество просмотренных тайтлов и тд).\n",
        "\n",
        "<div>\n",
        "<img src=\"attachment:popularity_bias.png\" width=\"500\"/>\n",
        "</div>"
      ]
    },
    {
      "cell_type": "markdown",
      "id": "0b5dcda4",
      "metadata": {
        "id": "0b5dcda4"
      },
      "source": [
        "<div>\n",
        "<img src=\"attachment:popularity_bias_legend.png\" width=\"300\"/>\n",
        "</div>"
      ]
    },
    {
      "cell_type": "code",
      "execution_count": null,
      "id": "d687939d",
      "metadata": {
        "id": "d687939d"
      },
      "outputs": [],
      "source": []
    },
    {
      "cell_type": "markdown",
      "id": "cdb8e2d3",
      "metadata": {
        "id": "cdb8e2d3"
      },
      "source": [
        "# Оценка beyond accuracy метрик\n",
        "## Intra-List Diversity"
      ]
    },
    {
      "cell_type": "markdown",
      "id": "2842c91d",
      "metadata": {
        "id": "2842c91d"
      },
      "source": [
        "Оценим для обеих моделей среднее разнообразие контента в полках с помощью метрики $ILD$:\n",
        "\n",
        "$$ ILD = \\frac{1}{|R| ( |R| - 1 )} \\sum_{i \\in R} \\sum_{j \\in R} d(i, j) . $$\n",
        "\n",
        "В качестве расстояния $d(i, j)$ используем [расстояние Хэмминга](https://neerc.ifmo.ru/wiki/index.php?title=Расстояние_Хэмминга) между one-hot векторами жанров. Пример расчета:\n",
        "\n",
        "##### <center>d(10<font color='blue'>1</font>1<font color='blue'>1</font>01, 10<font color='red'>0</font>1<font color='red'>0</font>01) = 2.</center>\n",
        "\n"
      ]
    },
    {
      "cell_type": "markdown",
      "id": "df88eb95",
      "metadata": {
        "id": "df88eb95"
      },
      "source": [
        "Для оценки расстояния Хэмминга между фильмами вытянем список жанров в one-hot векторы."
      ]
    },
    {
      "cell_type": "code",
      "execution_count": null,
      "id": "b4d2e94c",
      "metadata": {
        "id": "b4d2e94c"
      },
      "outputs": [],
      "source": [
        "items[[\"item_id\", \"genres\"]].head()"
      ]
    },
    {
      "cell_type": "code",
      "execution_count": null,
      "id": "d219b016",
      "metadata": {
        "id": "d219b016"
      },
      "outputs": [],
      "source": [
        "item_genres_one_hot = items[[\"item_id\", \"genres\"]].copy()\n",
        "item_genres_one_hot[\"genres\"] = item_genres_one_hot[\"genres\"].str.split(\", \")\n",
        "item_genres_one_hot = item_genres_one_hot.explode(\"genres\")\n",
        "item_genres_one_hot[\"genres\"] = item_genres_one_hot[\"genres\"].str.replace(\" \", \"_\")\n",
        "item_genres_one_hot[\"genres\"] = item_genres_one_hot[\"genres\"].map(lambda x: translit(x, \"ru\", reversed=True))\n",
        "item_genres_one_hot[\"value\"] = 1\n",
        "item_genres_one_hot = item_genres_one_hot.pivot(\n",
        "    index=\"item_id\",\n",
        "    columns=\"genres\",\n",
        "    values=\"value\"\n",
        ").fillna(0).astype(int)\n",
        "\n",
        "item_genres_one_hot.head()"
      ]
    },
    {
      "cell_type": "code",
      "execution_count": null,
      "id": "3bef313e",
      "metadata": {
        "id": "3bef313e"
      },
      "outputs": [],
      "source": [
        "def get_hamming_distances(pairs: pd.Series, features: pd.DataFrame) -> np.ndarray:\n",
        "    items_0 = pairs.map(lambda pair: pair[1]).values\n",
        "    items_1 = pairs.map(lambda pair: pair[0]).values\n",
        "\n",
        "    features_0 = features.reindex(items_0).values\n",
        "    features_1 = features.reindex(items_1).values\n",
        "    return np.sum(features_0 != features_1, axis=1)\n",
        "\n",
        "\n",
        "def calculate_intra_list_diversity_per_user(recommendations: pd.DataFrame, features: pd.DataFrame) -> pd.Series:\n",
        "    recommended_item_pairs = recommendations.groupby(\"user_id\")[\"item_id\"].apply(\n",
        "        lambda x: list(combinations(x, 2))\n",
        "    ).reset_index().explode(\"item_id\").rename(columns={\"item_id\": \"item_pair\"})\n",
        "    recommended_item_pairs[\"dist\"] = get_hamming_distances(recommended_item_pairs[\"item_pair\"], features)\n",
        "    return recommended_item_pairs[[\"user_id\", \"dist\"]].groupby(\"user_id\").agg(\"mean\")\n"
      ]
    },
    {
      "cell_type": "code",
      "execution_count": null,
      "id": "0cb2424b",
      "metadata": {
        "id": "0cb2424b"
      },
      "outputs": [],
      "source": [
        "%%time\n",
        "\n",
        "for model_name, recommendations in recommendations_dict.items():\n",
        "    ild_per_user = calculate_intra_list_diversity_per_user(recommendations, item_genres_one_hot)\n",
        "    print(f\"model: {model_name}, mean ild: {round(float(ild_per_user.mean()), 2)}\\n\")\n"
      ]
    },
    {
      "cell_type": "markdown",
      "id": "0668a4be",
      "metadata": {
        "id": "0668a4be"
      },
      "source": [
        "Модель, тяготеющая к рекомендации популярного контента, отдает более разнообразные полки по набору жанров. Это логично, т.к. подборки популярного контента обычно разнообразны по значениям различных наборов признаков."
      ]
    },
    {
      "cell_type": "code",
      "execution_count": null,
      "id": "79567440",
      "metadata": {
        "id": "79567440"
      },
      "outputs": [],
      "source": []
    },
    {
      "cell_type": "markdown",
      "id": "d4464f23",
      "metadata": {
        "id": "d4464f23"
      },
      "source": [
        "## Mean Inverse User Frequency"
      ]
    },
    {
      "cell_type": "markdown",
      "id": "7bf8a6fc",
      "metadata": {
        "id": "7bf8a6fc"
      },
      "source": [
        "Оценим новизну рекомендаций. Новизна товара обратно пропорциональна количеству пользователей, которые с ним взаимодействовали в обучающей выборке. Значение метрики для полки определяется как средняя \"новизна\" товаров в полке.\n",
        "\n",
        "$$ MIUF = -\\frac{1}{|R|} \\sum_{i \\in R} \\log_2 \\frac{|U_i|}{|U|} $$"
      ]
    },
    {
      "cell_type": "code",
      "execution_count": null,
      "id": "cdfa4f6c",
      "metadata": {
        "id": "cdfa4f6c"
      },
      "outputs": [],
      "source": [
        "def calculate_mean_inv_user_frequency_per_user(recommendations: pd.DataFrame, train: pd.DataFrame) -> pd.Series:\n",
        "    n_users = train[\"user_id\"].nunique()\n",
        "    n_users_per_item = train.groupby(\"item_id\")[\"user_id\"].nunique()\n",
        "\n",
        "    recommendations_ = recommendations[[\"user_id\", \"item_id\"]].copy()\n",
        "    recommendations_[\"n_users_per_item\"] = recommendations_[\"item_id\"].map(n_users_per_item)\n",
        "    recommendations_[\"inv_user_freq\"] = -np.log2(recommendations_[\"n_users_per_item\"] / n_users)\n",
        "    return recommendations_[[\"user_id\", \"inv_user_freq\"]].groupby(\"user_id\").agg(\"mean\")"
      ]
    },
    {
      "cell_type": "code",
      "execution_count": null,
      "id": "1b7c0f0a",
      "metadata": {
        "id": "1b7c0f0a"
      },
      "outputs": [],
      "source": [
        "for model_name, recommendations in recommendations_dict.items():\n",
        "    miuf_per_user = calculate_mean_inv_user_frequency_per_user(recommendations, train)\n",
        "    print(f\"model: {model_name}, mean miuf: {round(float(miuf_per_user.mean()), 2)}\\n\")"
      ]
    },
    {
      "cell_type": "markdown",
      "id": "044b7644",
      "metadata": {
        "id": "044b7644"
      },
      "source": [
        "Естественно, модель, отдающая полки с популярным контентом, имеет значительно меньшее значение метрики, т.к. метрика принимает высокие значения в тех случаях, когда подборка состоит из контента в \"длинном\" хвосте."
      ]
    },
    {
      "cell_type": "code",
      "execution_count": null,
      "id": "4da48242",
      "metadata": {
        "id": "4da48242"
      },
      "outputs": [],
      "source": []
    }
  ],
  "metadata": {
    "colab": {
      "provenance": []
    },
    "kernelspec": {
      "display_name": "Python 3 (ipykernel)",
      "language": "python",
      "name": "python3"
    },
    "language_info": {
      "codemirror_mode": {
        "name": "ipython",
        "version": 3
      },
      "file_extension": ".py",
      "mimetype": "text/x-python",
      "name": "python",
      "nbconvert_exporter": "python",
      "pygments_lexer": "ipython3",
      "version": "3.9.7"
    }
  },
  "nbformat": 4,
  "nbformat_minor": 5
}